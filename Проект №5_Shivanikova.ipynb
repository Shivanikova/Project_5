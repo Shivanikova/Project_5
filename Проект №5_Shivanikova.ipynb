{
 "cells": [
  {
   "cell_type": "markdown",
   "id": "c9db600a",
   "metadata": {},
   "source": [
    "# Проект № 5.\n",
    "# Служба такси."
   ]
  },
  {
   "cell_type": "markdown",
   "id": "0815e99b",
   "metadata": {},
   "source": [
    "## Импорт необходимых библиотек"
   ]
  },
  {
   "cell_type": "code",
   "execution_count": 263,
   "id": "466646aa",
   "metadata": {},
   "outputs": [],
   "source": [
    "import pandas as pd\n",
    "from pyspark.sql import SparkSession\n",
    "from pyspark.sql.types import *\n",
    "import pyspark.sql.functions as F\n",
    "from pyspark.sql.functions import count_distinct\n",
    "from pyspark.sql.functions import count\n",
    "from pyspark.sql.functions import round\n",
    "from pyspark.sql.functions import sum"
   ]
  },
  {
   "cell_type": "markdown",
   "id": "45b1a9d7",
   "metadata": {},
   "source": [
    "## Загрузка файла, знакомство с данными"
   ]
  },
  {
   "cell_type": "code",
   "execution_count": 264,
   "id": "a7570d6d",
   "metadata": {},
   "outputs": [
    {
     "name": "stderr",
     "output_type": "stream",
     "text": [
      "C:\\Users\\shiva\\AppData\\Local\\Temp\\ipykernel_1472\\4131295107.py:1: DtypeWarning: Columns (6) have mixed types. Specify dtype option on import or set low_memory=False.\n",
      "  df = pd.read_csv('yellow_tripdata_2020-01 (1).csv')\n"
     ]
    }
   ],
   "source": [
    "df = pd.read_csv('yellow_tripdata_2020-01 (1).csv')"
   ]
  },
  {
   "cell_type": "code",
   "execution_count": 265,
   "id": "95622d09",
   "metadata": {},
   "outputs": [
    {
     "name": "stderr",
     "output_type": "stream",
     "text": [
      "C:\\Users\\shiva\\AppData\\Local\\Temp\\ipykernel_1472\\2211768549.py:1: FutureWarning: The error_bad_lines argument has been deprecated and will be removed in a future version. Use on_bad_lines in the future.\n",
      "\n",
      "\n",
      "  df = pd.read_csv('yellow_tripdata_2020-01 (1).csv', sep=',', error_bad_lines=False, index_col=False, dtype='unicode', encoding = 'UTF8')\n"
     ]
    }
   ],
   "source": [
    "df = pd.read_csv('yellow_tripdata_2020-01 (1).csv', sep=',', error_bad_lines=False, index_col=False, dtype='unicode', encoding = 'UTF8')"
   ]
  },
  {
   "cell_type": "code",
   "execution_count": 266,
   "id": "03ceae23",
   "metadata": {},
   "outputs": [
    {
     "name": "stdout",
     "output_type": "stream",
     "text": [
      "<class 'pandas.core.frame.DataFrame'>\n",
      "RangeIndex: 6405008 entries, 0 to 6405007\n",
      "Data columns (total 18 columns):\n",
      " #   Column                 Dtype \n",
      "---  ------                 ----- \n",
      " 0   VendorID               object\n",
      " 1   tpep_pickup_datetime   object\n",
      " 2   tpep_dropoff_datetime  object\n",
      " 3   passenger_count        object\n",
      " 4   trip_distance          object\n",
      " 5   RatecodeID             object\n",
      " 6   store_and_fwd_flag     object\n",
      " 7   PULocationID           object\n",
      " 8   DOLocationID           object\n",
      " 9   payment_type           object\n",
      " 10  fare_amount            object\n",
      " 11  extra                  object\n",
      " 12  mta_tax                object\n",
      " 13  tip_amount             object\n",
      " 14  tolls_amount           object\n",
      " 15  improvement_surcharge  object\n",
      " 16  total_amount           object\n",
      " 17  congestion_surcharge   object\n",
      "dtypes: object(18)\n",
      "memory usage: 879.6+ MB\n"
     ]
    }
   ],
   "source": [
    "df.info()"
   ]
  },
  {
   "cell_type": "code",
   "execution_count": 267,
   "id": "cd5d7dfe",
   "metadata": {},
   "outputs": [
    {
     "data": {
      "text/html": [
       "<div>\n",
       "<style scoped>\n",
       "    .dataframe tbody tr th:only-of-type {\n",
       "        vertical-align: middle;\n",
       "    }\n",
       "\n",
       "    .dataframe tbody tr th {\n",
       "        vertical-align: top;\n",
       "    }\n",
       "\n",
       "    .dataframe thead th {\n",
       "        text-align: right;\n",
       "    }\n",
       "</style>\n",
       "<table border=\"1\" class=\"dataframe\">\n",
       "  <thead>\n",
       "    <tr style=\"text-align: right;\">\n",
       "      <th></th>\n",
       "      <th>VendorID</th>\n",
       "      <th>tpep_pickup_datetime</th>\n",
       "      <th>tpep_dropoff_datetime</th>\n",
       "      <th>passenger_count</th>\n",
       "      <th>trip_distance</th>\n",
       "      <th>RatecodeID</th>\n",
       "      <th>store_and_fwd_flag</th>\n",
       "      <th>PULocationID</th>\n",
       "      <th>DOLocationID</th>\n",
       "      <th>payment_type</th>\n",
       "      <th>fare_amount</th>\n",
       "      <th>extra</th>\n",
       "      <th>mta_tax</th>\n",
       "      <th>tip_amount</th>\n",
       "      <th>tolls_amount</th>\n",
       "      <th>improvement_surcharge</th>\n",
       "      <th>total_amount</th>\n",
       "      <th>congestion_surcharge</th>\n",
       "    </tr>\n",
       "  </thead>\n",
       "  <tbody>\n",
       "    <tr>\n",
       "      <th>782435</th>\n",
       "      <td>2</td>\n",
       "      <td>2003-01-01 00:07:17</td>\n",
       "      <td>2003-01-01 14:16:59</td>\n",
       "      <td>1</td>\n",
       "      <td>.00</td>\n",
       "      <td>1</td>\n",
       "      <td>N</td>\n",
       "      <td>193</td>\n",
       "      <td>193</td>\n",
       "      <td>2</td>\n",
       "      <td>0</td>\n",
       "      <td>0</td>\n",
       "      <td>0</td>\n",
       "      <td>0</td>\n",
       "      <td>0</td>\n",
       "      <td>0</td>\n",
       "      <td>0</td>\n",
       "      <td>0</td>\n",
       "    </tr>\n",
       "    <tr>\n",
       "      <th>5086498</th>\n",
       "      <td>2</td>\n",
       "      <td>2008-12-31 23:02:40</td>\n",
       "      <td>2009-01-01 05:46:33</td>\n",
       "      <td>1</td>\n",
       "      <td>8.48</td>\n",
       "      <td>1</td>\n",
       "      <td>N</td>\n",
       "      <td>43</td>\n",
       "      <td>138</td>\n",
       "      <td>1</td>\n",
       "      <td>24</td>\n",
       "      <td>0.5</td>\n",
       "      <td>0.5</td>\n",
       "      <td>6.78</td>\n",
       "      <td>6.12</td>\n",
       "      <td>0.3</td>\n",
       "      <td>40.7</td>\n",
       "      <td>2.5</td>\n",
       "    </tr>\n",
       "    <tr>\n",
       "      <th>1447622</th>\n",
       "      <td>2</td>\n",
       "      <td>2008-12-31 23:02:50</td>\n",
       "      <td>2009-01-01 03:38:00</td>\n",
       "      <td>3</td>\n",
       "      <td>.51</td>\n",
       "      <td>1</td>\n",
       "      <td>N</td>\n",
       "      <td>161</td>\n",
       "      <td>151</td>\n",
       "      <td>1</td>\n",
       "      <td>4.5</td>\n",
       "      <td>0.5</td>\n",
       "      <td>0.5</td>\n",
       "      <td>1.45</td>\n",
       "      <td>0</td>\n",
       "      <td>0.3</td>\n",
       "      <td>7.25</td>\n",
       "      <td>0</td>\n",
       "    </tr>\n",
       "    <tr>\n",
       "      <th>5086894</th>\n",
       "      <td>2</td>\n",
       "      <td>2008-12-31 23:03:44</td>\n",
       "      <td>2009-01-01 05:32:14</td>\n",
       "      <td>1</td>\n",
       "      <td>1.10</td>\n",
       "      <td>1</td>\n",
       "      <td>N</td>\n",
       "      <td>262</td>\n",
       "      <td>140</td>\n",
       "      <td>1</td>\n",
       "      <td>6</td>\n",
       "      <td>0.5</td>\n",
       "      <td>0.5</td>\n",
       "      <td>1</td>\n",
       "      <td>0</td>\n",
       "      <td>0.3</td>\n",
       "      <td>10.8</td>\n",
       "      <td>2.5</td>\n",
       "    </tr>\n",
       "    <tr>\n",
       "      <th>3073519</th>\n",
       "      <td>2</td>\n",
       "      <td>2008-12-31 23:03:48</td>\n",
       "      <td>2009-01-01 18:20:15</td>\n",
       "      <td>1</td>\n",
       "      <td>5.27</td>\n",
       "      <td>1</td>\n",
       "      <td>N</td>\n",
       "      <td>79</td>\n",
       "      <td>74</td>\n",
       "      <td>1</td>\n",
       "      <td>19.5</td>\n",
       "      <td>3.5</td>\n",
       "      <td>0.5</td>\n",
       "      <td>0</td>\n",
       "      <td>0</td>\n",
       "      <td>0.3</td>\n",
       "      <td>23.8</td>\n",
       "      <td>0</td>\n",
       "    </tr>\n",
       "  </tbody>\n",
       "</table>\n",
       "</div>"
      ],
      "text/plain": [
       "        VendorID tpep_pickup_datetime tpep_dropoff_datetime passenger_count  \\\n",
       "782435         2  2003-01-01 00:07:17   2003-01-01 14:16:59               1   \n",
       "5086498        2  2008-12-31 23:02:40   2009-01-01 05:46:33               1   \n",
       "1447622        2  2008-12-31 23:02:50   2009-01-01 03:38:00               3   \n",
       "5086894        2  2008-12-31 23:03:44   2009-01-01 05:32:14               1   \n",
       "3073519        2  2008-12-31 23:03:48   2009-01-01 18:20:15               1   \n",
       "\n",
       "        trip_distance RatecodeID store_and_fwd_flag PULocationID DOLocationID  \\\n",
       "782435            .00          1                  N          193          193   \n",
       "5086498          8.48          1                  N           43          138   \n",
       "1447622           .51          1                  N          161          151   \n",
       "5086894          1.10          1                  N          262          140   \n",
       "3073519          5.27          1                  N           79           74   \n",
       "\n",
       "        payment_type fare_amount extra mta_tax tip_amount tolls_amount  \\\n",
       "782435             2           0     0       0          0            0   \n",
       "5086498            1          24   0.5     0.5       6.78         6.12   \n",
       "1447622            1         4.5   0.5     0.5       1.45            0   \n",
       "5086894            1           6   0.5     0.5          1            0   \n",
       "3073519            1        19.5   3.5     0.5          0            0   \n",
       "\n",
       "        improvement_surcharge total_amount congestion_surcharge  \n",
       "782435                      0            0                    0  \n",
       "5086498                   0.3         40.7                  2.5  \n",
       "1447622                   0.3         7.25                    0  \n",
       "5086894                   0.3         10.8                  2.5  \n",
       "3073519                   0.3         23.8                    0  "
      ]
     },
     "execution_count": 267,
     "metadata": {},
     "output_type": "execute_result"
    }
   ],
   "source": [
    "df.sort_values('tpep_pickup_datetime').head(5)"
   ]
  },
  {
   "cell_type": "code",
   "execution_count": 268,
   "id": "a3c5c3ed",
   "metadata": {},
   "outputs": [
    {
     "data": {
      "text/html": [
       "<div>\n",
       "<style scoped>\n",
       "    .dataframe tbody tr th:only-of-type {\n",
       "        vertical-align: middle;\n",
       "    }\n",
       "\n",
       "    .dataframe tbody tr th {\n",
       "        vertical-align: top;\n",
       "    }\n",
       "\n",
       "    .dataframe thead th {\n",
       "        text-align: right;\n",
       "    }\n",
       "</style>\n",
       "<table border=\"1\" class=\"dataframe\">\n",
       "  <thead>\n",
       "    <tr style=\"text-align: right;\">\n",
       "      <th></th>\n",
       "      <th>VendorID</th>\n",
       "      <th>tpep_pickup_datetime</th>\n",
       "      <th>tpep_dropoff_datetime</th>\n",
       "      <th>passenger_count</th>\n",
       "      <th>trip_distance</th>\n",
       "      <th>RatecodeID</th>\n",
       "      <th>store_and_fwd_flag</th>\n",
       "      <th>PULocationID</th>\n",
       "      <th>DOLocationID</th>\n",
       "      <th>payment_type</th>\n",
       "      <th>fare_amount</th>\n",
       "      <th>extra</th>\n",
       "      <th>mta_tax</th>\n",
       "      <th>tip_amount</th>\n",
       "      <th>tolls_amount</th>\n",
       "      <th>improvement_surcharge</th>\n",
       "      <th>total_amount</th>\n",
       "      <th>congestion_surcharge</th>\n",
       "    </tr>\n",
       "  </thead>\n",
       "  <tbody>\n",
       "    <tr>\n",
       "      <th>4269480</th>\n",
       "      <td>2</td>\n",
       "      <td>2020-07-10 11:34:11</td>\n",
       "      <td>2020-07-10 11:42:41</td>\n",
       "      <td>1</td>\n",
       "      <td>1.07</td>\n",
       "      <td>1</td>\n",
       "      <td>N</td>\n",
       "      <td>236</td>\n",
       "      <td>262</td>\n",
       "      <td>1</td>\n",
       "      <td>7</td>\n",
       "      <td>1</td>\n",
       "      <td>0.5</td>\n",
       "      <td>2.26</td>\n",
       "      <td>0</td>\n",
       "      <td>0.3</td>\n",
       "      <td>13.56</td>\n",
       "      <td>2.5</td>\n",
       "    </tr>\n",
       "    <tr>\n",
       "      <th>4282277</th>\n",
       "      <td>2</td>\n",
       "      <td>2020-07-31 18:50:41</td>\n",
       "      <td>2020-07-31 18:54:12</td>\n",
       "      <td>1</td>\n",
       "      <td>.72</td>\n",
       "      <td>1</td>\n",
       "      <td>N</td>\n",
       "      <td>236</td>\n",
       "      <td>43</td>\n",
       "      <td>2</td>\n",
       "      <td>5</td>\n",
       "      <td>1</td>\n",
       "      <td>0.5</td>\n",
       "      <td>0</td>\n",
       "      <td>0</td>\n",
       "      <td>0.3</td>\n",
       "      <td>9.3</td>\n",
       "      <td>2.5</td>\n",
       "    </tr>\n",
       "    <tr>\n",
       "      <th>275044</th>\n",
       "      <td>2</td>\n",
       "      <td>2021-01-02 00:22:00</td>\n",
       "      <td>2021-01-02 00:36:50</td>\n",
       "      <td>1</td>\n",
       "      <td>1.56</td>\n",
       "      <td>1</td>\n",
       "      <td>N</td>\n",
       "      <td>142</td>\n",
       "      <td>161</td>\n",
       "      <td>2</td>\n",
       "      <td>10.5</td>\n",
       "      <td>1</td>\n",
       "      <td>0.5</td>\n",
       "      <td>0</td>\n",
       "      <td>0</td>\n",
       "      <td>0.3</td>\n",
       "      <td>14.8</td>\n",
       "      <td>2.5</td>\n",
       "    </tr>\n",
       "    <tr>\n",
       "      <th>275045</th>\n",
       "      <td>2</td>\n",
       "      <td>2021-01-02 00:44:08</td>\n",
       "      <td>2021-01-02 00:58:56</td>\n",
       "      <td>1</td>\n",
       "      <td>2.32</td>\n",
       "      <td>1</td>\n",
       "      <td>N</td>\n",
       "      <td>170</td>\n",
       "      <td>148</td>\n",
       "      <td>2</td>\n",
       "      <td>11.5</td>\n",
       "      <td>1</td>\n",
       "      <td>0.5</td>\n",
       "      <td>0</td>\n",
       "      <td>0</td>\n",
       "      <td>0.3</td>\n",
       "      <td>15.8</td>\n",
       "      <td>2.5</td>\n",
       "    </tr>\n",
       "    <tr>\n",
       "      <th>275046</th>\n",
       "      <td>2</td>\n",
       "      <td>2021-01-02 01:12:10</td>\n",
       "      <td>2021-01-02 01:25:01</td>\n",
       "      <td>1</td>\n",
       "      <td>1.87</td>\n",
       "      <td>1</td>\n",
       "      <td>N</td>\n",
       "      <td>90</td>\n",
       "      <td>148</td>\n",
       "      <td>1</td>\n",
       "      <td>10</td>\n",
       "      <td>1</td>\n",
       "      <td>0.5</td>\n",
       "      <td>2.86</td>\n",
       "      <td>0</td>\n",
       "      <td>0.3</td>\n",
       "      <td>17.16</td>\n",
       "      <td>2.5</td>\n",
       "    </tr>\n",
       "  </tbody>\n",
       "</table>\n",
       "</div>"
      ],
      "text/plain": [
       "        VendorID tpep_pickup_datetime tpep_dropoff_datetime passenger_count  \\\n",
       "4269480        2  2020-07-10 11:34:11   2020-07-10 11:42:41               1   \n",
       "4282277        2  2020-07-31 18:50:41   2020-07-31 18:54:12               1   \n",
       "275044         2  2021-01-02 00:22:00   2021-01-02 00:36:50               1   \n",
       "275045         2  2021-01-02 00:44:08   2021-01-02 00:58:56               1   \n",
       "275046         2  2021-01-02 01:12:10   2021-01-02 01:25:01               1   \n",
       "\n",
       "        trip_distance RatecodeID store_and_fwd_flag PULocationID DOLocationID  \\\n",
       "4269480          1.07          1                  N          236          262   \n",
       "4282277           .72          1                  N          236           43   \n",
       "275044           1.56          1                  N          142          161   \n",
       "275045           2.32          1                  N          170          148   \n",
       "275046           1.87          1                  N           90          148   \n",
       "\n",
       "        payment_type fare_amount extra mta_tax tip_amount tolls_amount  \\\n",
       "4269480            1           7     1     0.5       2.26            0   \n",
       "4282277            2           5     1     0.5          0            0   \n",
       "275044             2        10.5     1     0.5          0            0   \n",
       "275045             2        11.5     1     0.5          0            0   \n",
       "275046             1          10     1     0.5       2.86            0   \n",
       "\n",
       "        improvement_surcharge total_amount congestion_surcharge  \n",
       "4269480                   0.3        13.56                  2.5  \n",
       "4282277                   0.3          9.3                  2.5  \n",
       "275044                    0.3         14.8                  2.5  \n",
       "275045                    0.3         15.8                  2.5  \n",
       "275046                    0.3        17.16                  2.5  "
      ]
     },
     "execution_count": 268,
     "metadata": {},
     "output_type": "execute_result"
    }
   ],
   "source": [
    "df.sort_values('tpep_pickup_datetime').tail(5)"
   ]
  },
  {
   "cell_type": "markdown",
   "id": "958444a3",
   "metadata": {},
   "source": [
    " # Инициализация Spark-сессии"
   ]
  },
  {
   "cell_type": "code",
   "execution_count": 269,
   "id": "9b37647e",
   "metadata": {},
   "outputs": [],
   "source": [
    "spark = SparkSession.builder\\\n",
    "    .master(\"local[*]\")\\\n",
    "    .appName(\"SparkFirst\")\\\n",
    "    .config(\"spark.executor.memory\", \"10g\")\\\n",
    "    .config(\"spark.executor.cores\", 5)\\\n",
    "    .config(\"spark.dynamicAllocation.enabled\", \"true\")\\\n",
    "    .config(\"spark.dynamicAllocation.maxExecutors\", 5)\\\n",
    "    .config(\"spark.shuffle.service.enabled\", \"true\")\\\n",
    ".getOrCreate()"
   ]
  },
  {
   "cell_type": "markdown",
   "id": "f5db329f",
   "metadata": {},
   "source": [
    "# Создание dataframe из скачанного файла"
   ]
  },
  {
   "cell_type": "code",
   "execution_count": 270,
   "id": "d040372f",
   "metadata": {},
   "outputs": [],
   "source": [
    "schema = StructType([\n",
    "    StructField(\"VendorID\", IntegerType(), True),\n",
    "    StructField(\"tpep_pickup_datetime\", TimestampNTZType(), True),\n",
    "    StructField(\"tpep_dropoff_datetime\", TimestampNTZType(), True),\n",
    "    StructField(\"passenger_count\",IntegerType(), True),\n",
    "    StructField(\"trip_distance\", DoubleType(), True),\n",
    "    StructField(\"RatecodeID\", IntegerType(), True),\n",
    "    StructField(\"store_and_fwd_flag\",StringType(), True),\n",
    "    StructField(\"PULocationID\",IntegerType(), True),\n",
    "    StructField(\"DOLocationID\",IntegerType(), True),\n",
    "    StructField(\"payment_type\",IntegerType(), True),\n",
    "    StructField(\"fare_amount\",DoubleType(), True),\n",
    "    StructField(\"extra\",DoubleType(), True),\n",
    "    StructField(\"mta_tax\",FloatType(), True),\n",
    "    StructField(\"tip_amount\",DoubleType(), True),\n",
    "    StructField(\"tolls_amount\",DoubleType(), True),\n",
    "    StructField(\"improvement_surcharge\",FloatType(), True),\n",
    "    StructField(\"total_amount\",DoubleType(), True),\n",
    "    StructField(\"congestion_surcharge\",FloatType(), True)  \n",
    "])\n",
    "\n",
    "df_spark = spark.read.csv('yellow_tripdata_2020-01 (1).csv', header=True, schema=schema)\n",
    "#schema = StructType([\n",
    "#    StructField(\"InvoiceNo\", StringType(), True),\n",
    "#    StructField(\"StockCode\", StringType(), True),\n",
    "#    StructField(\"Description\", StringType(), True),\n",
    "#    StructField(\"Quantity\", IntegerType(), True),\n",
    "#    StructField(\"InvoiceDate\", TimestampNTZType(), True),\n",
    "#    StructField(\"UnitPrice\", DoubleType(), True),\n",
    "#    StructField(\"CustomerID\", FloatType(), True),\n",
    "#    #StructField(\"CustomerID\",IntegerType(), True),\n",
    "#    StructField(\"Country\", StringType(), True),\n",
    "#    ])\n",
    "\n",
    "#df_spark = spark.read.csv('online_retail.csv', sep = \";\", header=True, schema=schema)"
   ]
  },
  {
   "cell_type": "code",
   "execution_count": 271,
   "id": "1a2a002a",
   "metadata": {},
   "outputs": [
    {
     "name": "stdout",
     "output_type": "stream",
     "text": [
      "+--------+--------------------+---------------------+---------------+-------------+----------+------------------+------------+------------+------------+-----------+-----+-------+----------+------------+---------------------+------------+--------------------+\n",
      "|VendorID|tpep_pickup_datetime|tpep_dropoff_datetime|passenger_count|trip_distance|RatecodeID|store_and_fwd_flag|PULocationID|DOLocationID|payment_type|fare_amount|extra|mta_tax|tip_amount|tolls_amount|improvement_surcharge|total_amount|congestion_surcharge|\n",
      "+--------+--------------------+---------------------+---------------+-------------+----------+------------------+------------+------------+------------+-----------+-----+-------+----------+------------+---------------------+------------+--------------------+\n",
      "|       1| 2020-01-01 00:28:15|  2020-01-01 00:33:03|              1|          1.2|         1|                 N|         238|         239|           1|        6.0|  3.0|    0.5|      1.47|         0.0|                  0.3|       11.27|                 2.5|\n",
      "+--------+--------------------+---------------------+---------------+-------------+----------+------------------+------------+------------+------------+-----------+-----+-------+----------+------------+---------------------+------------+--------------------+\n",
      "only showing top 1 row\n",
      "\n"
     ]
    }
   ],
   "source": [
    "df_spark.show(1)"
   ]
  },
  {
   "cell_type": "code",
   "execution_count": 272,
   "id": "4816cf5f",
   "metadata": {},
   "outputs": [
    {
     "data": {
      "text/plain": [
       "[('VendorID', 'int'),\n",
       " ('tpep_pickup_datetime', 'timestamp_ntz'),\n",
       " ('tpep_dropoff_datetime', 'timestamp_ntz'),\n",
       " ('passenger_count', 'int'),\n",
       " ('trip_distance', 'double'),\n",
       " ('RatecodeID', 'int'),\n",
       " ('store_and_fwd_flag', 'string'),\n",
       " ('PULocationID', 'int'),\n",
       " ('DOLocationID', 'int'),\n",
       " ('payment_type', 'int'),\n",
       " ('fare_amount', 'double'),\n",
       " ('extra', 'double'),\n",
       " ('mta_tax', 'float'),\n",
       " ('tip_amount', 'double'),\n",
       " ('tolls_amount', 'double'),\n",
       " ('improvement_surcharge', 'float'),\n",
       " ('total_amount', 'double'),\n",
       " ('congestion_surcharge', 'float')]"
      ]
     },
     "execution_count": 272,
     "metadata": {},
     "output_type": "execute_result"
    }
   ],
   "source": [
    "df_spark.dtypes"
   ]
  },
  {
   "cell_type": "markdown",
   "id": "2f2ba54d",
   "metadata": {},
   "source": [
    "## Проверка датасета"
   ]
  },
  {
   "cell_type": "code",
   "execution_count": 273,
   "id": "7728ebbb",
   "metadata": {},
   "outputs": [
    {
     "name": "stdout",
     "output_type": "stream",
     "text": [
      "+--------+--------------------+---------------------+---------------+-------------+----------+------------------+------------+------------+------------+-----------+-----+-------+----------+------------+---------------------+------------+--------------------+\n",
      "|VendorID|tpep_pickup_datetime|tpep_dropoff_datetime|passenger_count|trip_distance|RatecodeID|store_and_fwd_flag|PULocationID|DOLocationID|payment_type|fare_amount|extra|mta_tax|tip_amount|tolls_amount|improvement_surcharge|total_amount|congestion_surcharge|\n",
      "+--------+--------------------+---------------------+---------------+-------------+----------+------------------+------------+------------+------------+-----------+-----+-------+----------+------------+---------------------+------------+--------------------+\n",
      "|       1| 2020-01-01 00:28:15|  2020-01-01 00:33:03|              1|          1.2|         1|                 N|         238|         239|           1|        6.0|  3.0|    0.5|      1.47|         0.0|                  0.3|       11.27|                 2.5|\n",
      "+--------+--------------------+---------------------+---------------+-------------+----------+------------------+------------+------------+------------+-----------+-----+-------+----------+------------+---------------------+------------+--------------------+\n",
      "only showing top 1 row\n",
      "\n",
      "root\n",
      " |-- VendorID: integer (nullable = true)\n",
      " |-- tpep_pickup_datetime: timestamp_ntz (nullable = true)\n",
      " |-- tpep_dropoff_datetime: timestamp_ntz (nullable = true)\n",
      " |-- passenger_count: integer (nullable = true)\n",
      " |-- trip_distance: double (nullable = true)\n",
      " |-- RatecodeID: integer (nullable = true)\n",
      " |-- store_and_fwd_flag: string (nullable = true)\n",
      " |-- PULocationID: integer (nullable = true)\n",
      " |-- DOLocationID: integer (nullable = true)\n",
      " |-- payment_type: integer (nullable = true)\n",
      " |-- fare_amount: double (nullable = true)\n",
      " |-- extra: double (nullable = true)\n",
      " |-- mta_tax: float (nullable = true)\n",
      " |-- tip_amount: double (nullable = true)\n",
      " |-- tolls_amount: double (nullable = true)\n",
      " |-- improvement_surcharge: float (nullable = true)\n",
      " |-- total_amount: double (nullable = true)\n",
      " |-- congestion_surcharge: float (nullable = true)\n",
      "\n"
     ]
    }
   ],
   "source": [
    "# проверка датасета\n",
    "df_spark.show(1)\n",
    "df_spark.printSchema()"
   ]
  },
  {
   "cell_type": "code",
   "execution_count": 274,
   "id": "f817f161",
   "metadata": {},
   "outputs": [],
   "source": [
    "# Проверка наличия нулевых значений\n",
    "def my_count(df_in):\n",
    "    df_in.agg(*[count(c).alias(c) for c in df_in.columns]).show()"
   ]
  },
  {
   "cell_type": "code",
   "execution_count": 275,
   "id": "08d72b16",
   "metadata": {},
   "outputs": [
    {
     "name": "stdout",
     "output_type": "stream",
     "text": [
      "+--------+--------------------+---------------------+---------------+-------------+----------+------------------+------------+------------+------------+-----------+-------+-------+----------+------------+---------------------+------------+--------------------+\n",
      "|VendorID|tpep_pickup_datetime|tpep_dropoff_datetime|passenger_count|trip_distance|RatecodeID|store_and_fwd_flag|PULocationID|DOLocationID|payment_type|fare_amount|  extra|mta_tax|tip_amount|tolls_amount|improvement_surcharge|total_amount|congestion_surcharge|\n",
      "+--------+--------------------+---------------------+---------------+-------------+----------+------------------+------------+------------+------------+-----------+-------+-------+----------+------------+---------------------+------------+--------------------+\n",
      "| 6339567|             6405008|              6405008|        6339567|      6405008|   6339567|           6339567|     6405008|     6405008|     6339567|    6405008|6405008|6405008|   6405008|     6405008|              6405008|     6405008|             6405008|\n",
      "+--------+--------------------+---------------------+---------------+-------------+----------+------------------+------------+------------+------------+-----------+-------+-------+----------+------------+---------------------+------------+--------------------+\n",
      "\n"
     ]
    }
   ],
   "source": [
    "my_count(df_spark)"
   ]
  },
  {
   "cell_type": "code",
   "execution_count": 276,
   "id": "42f52821",
   "metadata": {},
   "outputs": [
    {
     "name": "stdout",
     "output_type": "stream",
     "text": [
      "+--------+--------------------+---------------------+---------------+-------------+----------+------------------+------------+------------+------------+-----------+-------+-------+----------+------------+---------------------+------------+--------------------+\n",
      "|VendorID|tpep_pickup_datetime|tpep_dropoff_datetime|passenger_count|trip_distance|RatecodeID|store_and_fwd_flag|PULocationID|DOLocationID|payment_type|fare_amount|  extra|mta_tax|tip_amount|tolls_amount|improvement_surcharge|total_amount|congestion_surcharge|\n",
      "+--------+--------------------+---------------------+---------------+-------------+----------+------------------+------------+------------+------------+-----------+-------+-------+----------+------------+---------------------+------------+--------------------+\n",
      "| 6339567|             6339567|              6339567|        6339567|      6339567|   6339567|           6339567|     6339567|     6339567|     6339567|    6339567|6339567|6339567|   6339567|     6339567|              6339567|     6339567|             6339567|\n",
      "+--------+--------------------+---------------------+---------------+-------------+----------+------------------+------------+------------+------------+-----------+-------+-------+----------+------------+---------------------+------------+--------------------+\n",
      "\n"
     ]
    }
   ],
   "source": [
    "# Удалим записи с нулевыми значениями из набора данных\n",
    "df_spark_clean = df_spark.dropna(how='any')\n",
    "my_count(df_spark_clean)"
   ]
  },
  {
   "cell_type": "code",
   "execution_count": 277,
   "id": "4b29bfde",
   "metadata": {},
   "outputs": [
    {
     "name": "stdout",
     "output_type": "stream",
     "text": [
      "+-------+------------------+------------------+------------------+------------------+\n",
      "|summary|   passenger_count|      total_amount|     trip_distance|        tip_amount|\n",
      "+-------+------------------+------------------+------------------+------------------+\n",
      "|  count|           6339567|           6339567|           6339567|           6339567|\n",
      "|   mean|1.5153326717739555|18.471623325320785|2.8486263746404314|2.2112445660720605|\n",
      "| stddev|1.1515942134278125|14.638919342736227|3.7571270643859505| 2.764286702302096|\n",
      "|    min|                 0|           -1242.3|            -22.18|             -91.0|\n",
      "|    25%|                 1|             11.16|              0.96|               0.0|\n",
      "|    50%|                 1|             14.16|               1.6|              1.95|\n",
      "|    75%|                 2|             19.56|               2.9|              2.86|\n",
      "|    max|                 9|            4268.3|            262.88|            1100.0|\n",
      "+-------+------------------+------------------+------------------+------------------+\n",
      "\n"
     ]
    }
   ],
   "source": [
    "# ознакомимся с описательной статистикой по интересующим столбцам\n",
    "df_spark_clean.select('passenger_count','total_amount', 'trip_distance', 'tip_amount').summary().show()"
   ]
  },
  {
   "cell_type": "code",
   "execution_count": 278,
   "id": "150440ab",
   "metadata": {},
   "outputs": [],
   "source": [
    "df_spark_clean.createOrReplaceTempView(\"taxi_poesdki\")"
   ]
  },
  {
   "cell_type": "code",
   "execution_count": 279,
   "id": "d4f20898",
   "metadata": {},
   "outputs": [
    {
     "name": "stdout",
     "output_type": "stream",
     "text": [
      "+----------+------------+-------------+----------+--------------------+---------------------+---------------+\n",
      "|      date|Total_amount|trip_distance|tip_amount|tpep_pickup_datetime|tpep_dropoff_datetime|passenger_count|\n",
      "+----------+------------+-------------+----------+--------------------+---------------------+---------------+\n",
      "|2019-12-31|         7.3|         0.88|       0.0| 2019-12-31 23:48:07|  2019-12-31 23:53:39|              1|\n",
      "|2019-12-31|       15.96|         2.19|      2.66| 2019-12-31 23:59:40|  2020-01-01 00:09:06|              2|\n",
      "|2019-12-31|       24.44|         3.74|      5.64| 2019-12-31 23:56:19|  2020-01-01 00:15:43|              1|\n",
      "|2019-12-31|       14.76|         2.04|      2.46| 2019-12-31 21:39:23|  2019-12-31 21:47:34|              5|\n",
      "|2019-12-31|        15.3|         2.95|       1.0| 2019-12-31 22:11:41|  2019-12-31 22:21:53|              5|\n",
      "|2019-12-31|         9.3|          0.8|       1.0| 2019-12-31 22:25:34|  2019-12-31 22:28:20|              5|\n",
      "|2019-12-31|         6.8|         0.07|       0.0| 2019-12-31 23:59:24|  2020-01-01 00:00:47|              6|\n",
      "|2019-12-31|       14.76|         2.07|      2.46| 2019-12-31 15:57:03|  2019-12-31 16:04:56|              1|\n",
      "|2019-12-31|        16.3|         1.22|       0.0| 2019-12-31 16:18:17|  2020-01-01 15:37:27|              1|\n",
      "|2019-12-31|       16.56|         1.07|      2.76| 2019-12-31 13:58:16|  2019-12-31 14:13:37|              6|\n",
      "|2019-12-31|       11.76|         0.95|      1.96| 2019-12-31 14:08:25|  2019-12-31 14:14:29|              6|\n",
      "|2019-12-31|       27.96|         4.43|      4.66| 2019-12-31 14:20:03|  2020-01-01 13:46:02|              6|\n",
      "|2019-12-31|        21.3|         1.75|       8.0| 2019-12-31 23:57:54|  2020-01-01 00:09:23|              1|\n",
      "|2019-12-31|       71.62|        20.98|     14.32| 2019-12-31 23:58:53|  2020-01-01 00:25:44|              1|\n",
      "|2019-12-31|       10.14|         0.62|      2.34| 2019-12-31 23:53:15|  2019-12-31 23:55:56|              1|\n",
      "|2019-12-31|        10.3|         1.04|       0.0| 2019-12-31 23:57:10|  2020-01-01 00:03:39|              1|\n",
      "|2019-12-31|         9.8|         0.78|       1.0| 2019-12-31 23:59:33|  2020-01-01 00:03:25|              2|\n",
      "|2019-12-31|       11.16|         1.02|      1.86| 2019-12-31 23:44:29|  2019-12-31 23:49:00|              1|\n",
      "|2019-12-31|         9.3|          1.0|       0.0| 2019-12-31 23:56:09|  2020-01-01 00:01:07|              1|\n",
      "|2019-12-31|       15.36|         1.91|      2.56| 2019-12-31 23:59:19|  2020-01-01 00:08:31|              1|\n",
      "|2019-12-31|         7.3|         0.33|       0.0| 2019-12-31 23:59:44|  2020-01-01 00:02:00|              5|\n",
      "|2019-12-31|       54.36|        13.25|      9.06| 2019-12-31 23:59:48|  2020-01-01 00:42:26|              6|\n",
      "|2019-12-31|         7.8|         0.73|       0.0| 2019-12-31 23:59:51|  2020-01-01 00:02:18|              5|\n",
      "|2019-12-31|       16.56|         2.35|      2.76| 2019-12-31 23:38:55|  2019-12-31 23:49:40|              1|\n",
      "|2019-12-31|        16.3|         1.06|       0.0| 2019-12-31 23:58:20|  2020-01-01 00:18:45|              1|\n",
      "|2019-12-31|       31.56|         5.61|      5.26| 2019-12-31 23:58:19|  2020-01-01 00:25:42|              6|\n",
      "|2019-12-31|       35.92|         8.09|       0.0| 2019-12-31 23:52:24|  2020-01-01 00:13:34|              6|\n",
      "|2019-12-31|       14.12|         0.96|      2.82| 2019-12-31 23:59:56|  2020-01-01 00:09:40|              5|\n",
      "|2019-12-31|        17.8|         2.34|       1.0| 2019-12-31 23:58:55|  2020-01-01 00:15:59|              1|\n",
      "|2019-12-31|       54.12|        13.86|     10.82| 2019-12-31 23:55:32|  2020-01-01 00:22:35|              1|\n",
      "|2019-12-31|       17.76|         2.04|      2.96| 2019-12-31 23:55:36|  2020-01-01 00:09:35|              1|\n",
      "|2019-12-31|        17.8|         2.89|       2.0| 2019-12-31 23:11:17|  2019-12-31 23:24:15|              2|\n",
      "|2019-12-31|        -6.8|         0.17|       0.0| 2019-12-31 23:26:25|  2019-12-31 23:27:57|              2|\n",
      "|2019-12-31|         6.8|         0.17|       0.0| 2019-12-31 23:26:25|  2019-12-31 23:27:57|              2|\n",
      "|2019-12-31|       18.36|         2.45|      3.06| 2019-12-31 23:31:17|  2019-12-31 23:44:40|              1|\n",
      "|2019-12-31|        16.3|         0.81|       0.0| 2019-12-31 23:50:40|  2020-01-01 23:12:00|              3|\n",
      "|2019-12-31|       14.16|          1.5|      2.36| 2019-12-31 23:59:50|  2020-01-01 00:09:49|              2|\n",
      "|2019-12-31|         5.8|          0.6|       0.0| 2019-12-31 23:46:56|  2019-12-31 23:49:57|              2|\n",
      "|2019-12-31|        16.0|         1.47|       3.2| 2019-12-31 15:44:13|  2019-12-31 15:55:52|              6|\n",
      "|2019-12-31|       12.88|         1.21|      2.58| 2019-12-31 16:14:16|  2019-12-31 16:20:13|              6|\n",
      "|2019-12-31|        12.8|         1.94|       1.0| 2019-12-31 16:24:48|  2019-12-31 16:32:26|              6|\n",
      "|2019-12-31|       11.16|         1.09|      1.86| 2019-12-31 16:33:41|  2019-12-31 16:37:29|              6|\n",
      "|2019-12-31|       17.76|         3.19|      2.96| 2019-12-31 23:53:50|  2020-01-01 00:04:04|              1|\n",
      "|2019-12-31|       14.76|         1.87|      2.46| 2019-12-31 23:58:17|  2020-01-01 00:07:15|              1|\n",
      "|2019-12-31|        14.3|         1.89|       1.0| 2019-12-31 23:59:09|  2020-01-01 00:11:24|              1|\n",
      "|2019-12-31|        31.8|        11.01|       0.0| 2019-12-31 23:58:07|  2020-01-01 00:15:26|              1|\n",
      "|2019-12-31|       14.76|         2.08|      2.46| 2019-12-31 23:52:43|  2020-01-01 00:00:55|              1|\n",
      "|2019-12-31|       10.79|         0.55|      2.49| 2019-12-31 19:10:16|  2019-12-31 19:13:47|              1|\n",
      "|2019-12-31|        11.8|         0.88|       0.0| 2019-12-31 19:15:06|  2019-12-31 19:25:58|              1|\n",
      "|2019-12-31|        25.3|         6.77|       0.0| 2019-12-31 19:38:47|  2020-01-01 18:57:57|              1|\n",
      "|2019-12-31|         5.8|          0.7|       0.0| 2019-12-31 23:57:21|  2019-12-31 23:59:35|              1|\n",
      "|2019-12-31|         9.8|         0.88|       0.0| 2019-12-31 23:30:07|  2020-01-01 00:36:01|              6|\n",
      "|2019-12-31|        12.8|         1.72|       0.0| 2019-12-31 23:58:30|  2020-01-01 00:09:24|              1|\n",
      "|2019-12-31|       11.76|         0.93|      1.96| 2019-12-31 23:57:51|  2020-01-01 00:04:30|              1|\n",
      "|2019-12-31|        24.3|         6.38|       0.0| 2019-12-31 23:56:42|  2020-01-01 00:22:31|              1|\n",
      "|2019-12-31|        27.8|         6.47|       0.0| 2019-12-31 23:57:54|  2020-01-01 23:52:34|              1|\n",
      "|2019-12-31|        9.36|         0.46|      1.56| 2019-12-31 23:52:26|  2019-12-31 23:55:52|              2|\n",
      "|2019-12-31|       23.16|         4.05|      3.86| 2019-12-31 23:59:13|  2020-01-01 00:15:27|              2|\n",
      "|2019-12-31|        25.8|         6.16|       2.0| 2019-12-31 23:56:29|  2020-01-01 00:14:22|              2|\n",
      "|2019-12-31|        30.8|         3.32|       0.0| 2019-12-31 23:59:46|  2020-01-01 00:11:04|              1|\n",
      "|2019-12-31|        25.3|         2.24|       0.0| 2019-12-31 23:53:57|  2020-01-01 00:34:12|              2|\n",
      "|2019-12-31|         5.8|         0.55|       0.0| 2019-12-31 23:59:16|  2020-01-01 00:02:29|              1|\n",
      "|2019-12-31|        11.0|          0.3|       2.2| 2019-12-31 23:58:55|  2020-01-01 00:04:07|              2|\n",
      "|2019-12-31|        17.8|         3.46|       0.0| 2019-12-31 23:54:29|  2020-01-01 00:09:44|              2|\n",
      "|2019-12-31|        11.8|         0.93|       2.0| 2019-12-31 23:41:02|  2019-12-31 23:46:53|              4|\n",
      "|2019-12-31|         9.3|         1.79|       0.0| 2019-12-31 23:57:55|  2020-01-01 00:05:21|              4|\n",
      "|2019-12-31|         6.3|          0.8|       0.0| 2019-12-31 23:51:04|  2019-12-31 23:54:23|              1|\n",
      "|2019-12-31|        15.3|         4.09|       0.0| 2019-12-31 23:45:21|  2019-12-31 23:56:13|              1|\n",
      "|2019-12-31|        12.8|         2.75|       0.0| 2019-12-31 23:56:56|  2020-01-01 00:11:15|              6|\n",
      "|2019-12-31|        8.76|         0.18|      1.46| 2019-12-31 19:12:45|  2019-12-31 19:15:19|              1|\n",
      "|2019-12-31|        18.8|         3.73|       2.0| 2019-12-31 19:19:39|  2019-12-31 19:32:24|              1|\n",
      "|2019-12-31|        23.3|         6.36|       0.0| 2019-12-31 19:35:55|  2020-01-01 19:32:24|              1|\n",
      "|2019-12-31|        15.3|         2.87|       0.0| 2019-12-31 19:52:59|  2019-12-31 20:06:05|              1|\n",
      "|2019-12-31|       34.42|         3.69|       5.0| 2019-12-31 23:57:23|  2020-01-01 00:23:41|              3|\n",
      "|2019-12-31|        21.3|         3.91|       2.0| 2019-12-31 23:59:13|  2020-01-01 00:16:31|              1|\n",
      "|2019-12-31|        39.3|         9.72|       0.0| 2019-12-31 23:59:55|  2020-01-01 00:39:17|              2|\n",
      "|2019-12-31|       33.92|         8.66|       0.0| 2019-12-31 23:51:54|  2020-01-01 00:12:43|              1|\n",
      "|2019-12-31|        13.5|         1.29|       2.7| 2019-12-31 23:58:59|  2020-01-01 00:06:34|              1|\n",
      "|2019-12-31|       58.56|        17.35|      9.76| 2019-12-31 17:41:46|  2019-12-31 18:12:41|              1|\n",
      "|2019-12-31|         8.3|         0.69|       0.0| 2019-12-31 15:30:40|  2019-12-31 15:33:04|              1|\n",
      "|2019-12-31|        15.3|          3.0|       0.0| 2019-12-31 15:34:11|  2019-12-31 15:46:24|              1|\n",
      "|2019-12-31|       15.96|         2.08|      2.66| 2019-12-31 15:49:04|  2019-12-31 16:00:43|              1|\n",
      "|2019-12-31|       14.08|         2.92|      1.28| 2019-12-31 16:07:53|  2020-01-01 15:20:19|              1|\n",
      "|2019-12-31|        14.8|         2.34|       0.0| 2019-12-31 13:26:03|  2019-12-31 13:39:58|              6|\n",
      "|2019-12-31|        19.8|          4.0|       2.0| 2019-12-31 13:44:49|  2019-12-31 13:59:39|              6|\n",
      "|2019-12-31|        11.3|         1.21|       0.0| 2019-12-31 14:15:51|  2020-01-01 13:24:40|              6|\n",
      "|2019-12-31|       28.93|         4.79|      2.63| 2019-12-31 23:12:37|  2019-12-31 23:44:37|              3|\n",
      "|2019-12-31|       24.36|         4.04|      4.06| 2019-12-31 23:45:20|  2020-01-01 23:04:00|              2|\n",
      "|2019-12-31|        27.3|         6.12|       0.0| 2019-12-31 16:03:02|  2019-12-31 16:32:48|              6|\n",
      "|2019-12-31|       12.25|         1.68|      2.45| 2019-12-31 16:34:36|  2020-01-01 15:45:06|              6|\n",
      "|2019-12-31|         9.3|         1.34|       0.0| 2019-12-31 19:04:33|  2019-12-31 19:13:59|              1|\n",
      "|2019-12-31|        11.8|         1.26|       0.0| 2019-12-31 19:13:46|  2019-12-31 19:23:49|              1|\n",
      "|2019-12-31|       18.36|         3.26|      3.06| 2019-12-31 19:26:08|  2019-12-31 19:34:40|              1|\n",
      "|2019-12-31|        23.5|         4.53|       4.7| 2019-12-31 19:59:35|  2020-01-01 19:11:58|              1|\n",
      "|2019-12-31|       28.56|         6.56|      4.76| 2019-12-31 15:37:32|  2019-12-31 15:51:23|              1|\n",
      "|2019-12-31|       14.75|         1.38|      2.95| 2019-12-31 16:01:57|  2019-12-31 16:10:58|              1|\n",
      "|2019-12-31|        21.3|         4.09|       2.0| 2019-12-31 16:12:01|  2020-01-01 15:29:55|              1|\n",
      "|2019-12-31|        16.8|         4.11|       0.0| 2019-12-31 14:01:22|  2019-12-31 14:16:22|              6|\n",
      "|2019-12-31|       10.56|         0.67|      1.76| 2019-12-31 23:05:13|  2019-12-31 23:09:55|              3|\n",
      "|2019-12-31|       14.76|         1.75|      2.46| 2019-12-31 23:15:27|  2019-12-31 23:25:06|              3|\n",
      "|2019-12-31|         7.3|         0.28|       0.0| 2019-12-31 23:27:57|  2019-12-31 23:30:02|              2|\n",
      "|2019-12-31|         9.3|         1.07|       0.0| 2019-12-31 23:32:41|  2019-12-31 23:36:45|              2|\n",
      "|2019-12-31|        12.8|         1.91|       0.0| 2019-12-31 23:39:51|  2019-12-31 23:50:05|              2|\n",
      "|2019-12-31|        9.97|         0.07|      1.22| 2019-12-31 23:52:04|  2019-12-31 23:53:55|              1|\n",
      "|2019-12-31|        16.0|         1.75|       3.2| 2019-12-31 23:55:00|  2020-01-01 23:12:05|              3|\n",
      "|2019-12-31|        18.3|         3.17|       2.5| 2019-12-31 19:12:36|  2019-12-31 19:23:42|              1|\n",
      "|2019-12-31|       17.16|         2.11|      2.86| 2019-12-31 19:25:00|  2019-12-31 19:38:09|              1|\n",
      "|2019-12-31|       14.76|         1.86|      2.46| 2019-12-31 19:39:44|  2019-12-31 19:48:59|              1|\n",
      "|2019-12-31|       15.96|         1.71|      2.66| 2019-12-31 19:50:22|  2019-12-31 20:02:28|              1|\n",
      "|2019-12-31|         3.8|          0.0|       0.0| 2019-12-31 23:13:17|  2019-12-31 23:14:38|              1|\n",
      "|2019-12-31|       15.36|         1.92|      2.56| 2019-12-31 23:21:46|  2019-12-31 23:31:09|              2|\n",
      "|2019-12-31|        41.8|        12.42|       0.0| 2019-12-31 23:36:27|  2020-01-01 23:09:57|              2|\n",
      "|2019-12-31|         7.8|         0.56|       0.0| 2019-12-31 19:21:45|  2019-12-31 19:24:36|              1|\n",
      "|2019-12-31|        16.8|         2.66|       2.0| 2019-12-31 19:27:02|  2019-12-31 19:38:46|              1|\n",
      "|2019-12-31|       14.74|         1.94|      1.44| 2019-12-31 19:40:23|  2019-12-31 19:52:20|              1|\n",
      "|2019-12-31|        16.3|         2.84|       1.0| 2019-12-31 20:06:21|  2020-01-01 19:18:43|              1|\n",
      "|2019-12-31|        22.3|         5.22|       0.0| 2019-12-31 23:21:21|  2019-12-31 23:39:38|              2|\n",
      "|2019-12-31|       35.16|         7.55|      5.86| 2019-12-31 19:20:53|  2019-12-31 19:50:08|              1|\n",
      "|2019-12-31|       15.36|         2.24|      2.56| 2019-12-31 20:05:25|  2020-01-01 19:14:37|              1|\n",
      "|2019-12-31|        57.8|        17.86|       5.0| 2019-12-31 18:21:19|  2020-01-01 17:57:53|              1|\n",
      "|2019-12-31|       -62.8|         0.62|       0.0| 2019-12-31 15:33:38|  2019-12-31 15:38:18|              1|\n",
      "|2019-12-31|        62.8|         0.62|       0.0| 2019-12-31 15:33:38|  2019-12-31 15:38:18|              1|\n",
      "|2019-12-31|        13.3|         1.57|       1.0| 2019-12-31 16:14:49|  2020-01-01 15:24:15|              1|\n",
      "|2019-12-31|        10.1|          1.3|       0.8| 2019-12-31 19:19:23|  2019-12-31 19:23:01|              1|\n",
      "|2019-12-31|       13.56|         1.44|      2.26| 2019-12-31 19:27:10|  2019-12-31 19:34:29|              1|\n",
      "|2019-12-31|         5.8|         0.13|       0.0| 2019-12-31 15:33:50|  2019-12-31 15:34:07|              1|\n",
      "|2019-12-31|        50.8|        16.17|       2.0| 2019-12-31 15:59:29|  2020-01-01 15:31:22|              1|\n",
      "|2019-12-31|       14.51|         1.99|      2.21| 2019-12-31 16:11:56|  2020-01-01 15:21:19|              1|\n",
      "|2019-12-31|       39.92|         8.86|       5.0| 2019-12-31 15:48:38|  2019-12-31 16:06:41|              1|\n",
      "+----------+------------+-------------+----------+--------------------+---------------------+---------------+\n",
      "\n"
     ]
    }
   ],
   "source": [
    "# проверим поездки за один день, чтобы понять причину отрицательных значений параметра 'total_amount'\n",
    "sql = \"\"\"\n",
    "select date(tpep_pickup_datetime) as date, Total_amount, trip_distance, tip_amount, tpep_pickup_datetime, tpep_dropoff_datetime, passenger_count\n",
    "       from taxi_poesdki\n",
    "       where date(tpep_pickup_datetime) = '2019-12-31'\n",
    "\"\"\" \n",
    "df_proverka = spark.sql(sql)\n",
    "df_proverka.createOrReplaceTempView('date')\n",
    "df_proverka.show(200)"
   ]
  },
  {
   "cell_type": "markdown",
   "id": "960e867c",
   "metadata": {},
   "source": [
    "####  Учитывая тот факт, что при наличии записи с отрицательным значением 'Полная стоимость поездки'('Total_amount') присутствует запись с зеркальной положительной суммой с одинаковым временем, когда пассажир сел в такси('tpep_pickup_datetime') и вышел из такси('tpep_dropoff_datetime', можно сделать вывод, что отрицательное значение в данном столбце могут быть операцией сторнирования отмененной поездки. \n",
    "#### Таким образом отрицательное значение поля 'Total_amount' нецелесообразно использовать для дальнейшего анализа. При этом у данных поездок не наблюдается отрицательного значения пройденного расстояния ('trip_distance') или  чаевых ('tip_amount')\n"
   ]
  },
  {
   "cell_type": "code",
   "execution_count": 280,
   "id": "1ac5043c",
   "metadata": {},
   "outputs": [],
   "source": [
    "#### +----------+------------+-------------+----------+--------------------+---------------------+---------------+\n",
    "#### |      date|Total_amount|trip_distance|tip_amount|tpep_pickup_datetime|tpep_dropoff_datetime|passenger_count|\n",
    "#### +----------+------------+-------------+----------+--------------------+---------------------+---------------+\n",
    "#### |2019-12-31|        -6.8|         0.17|       0.0| 2019-12-31 23:26:25|  2019-12-31 23:27:57|              2|\n",
    "#### |2019-12-31|         6.8|         0.17|       0.0| 2019-12-31 23:26:25|  2019-12-31 23:27:57|              2|\n",
    "#### |2019-12-31|       -62.8|         0.62|       0.0| 2019-12-31 15:33:38|  2019-12-31 15:38:18|              1|\n",
    "#### |2019-12-31|        62.8|         0.62|       0.0| 2019-12-31 15:33:38|  2019-12-31 15:38:18|              1|\n"
   ]
  },
  {
   "cell_type": "code",
   "execution_count": 281,
   "id": "aa5cd807",
   "metadata": {},
   "outputs": [
    {
     "name": "stdout",
     "output_type": "stream",
     "text": [
      "+----------+------------+---------------+-------------+----------+--------------------+---------------------+-------------------+-------------------+\n",
      "|      date|Total_amount|passenger_count|trip_distance|tip_amount|tpep_pickup_datetime|tpep_dropoff_datetime|  storno_start_date|    storno_end_date|\n",
      "+----------+------------+---------------+-------------+----------+--------------------+---------------------+-------------------+-------------------+\n",
      "|2020-01-01|       10.55|              1|          0.5|      1.75| 2020-01-01 00:08:29|  2020-01-01 00:13:20|               null|               null|\n",
      "|2020-01-01|       10.56|              4|         0.66|      1.76| 2020-01-01 00:42:23|  2020-01-01 00:47:08|               null|               null|\n",
      "|2020-01-01|       12.35|              1|          0.7|      2.05| 2020-01-01 00:47:27|  2020-01-01 00:55:40|               null|               null|\n",
      "|2020-01-01|       12.95|              1|          1.0|      2.15| 2020-01-01 00:59:30|  2020-01-01 01:08:40|               null|               null|\n",
      "|2020-01-01|         8.3|              1|          0.6|       0.0| 2020-01-01 00:22:28|  2020-01-01 00:25:23|               null|               null|\n",
      "|2020-01-01|        12.8|              3|          1.6|       0.0| 2020-01-01 00:15:35|  2020-01-01 00:27:06|               null|               null|\n",
      "|2020-01-01|        20.3|              2|          3.8|       0.0| 2020-01-01 00:56:39|  2020-01-01 01:21:13|               null|               null|\n",
      "|2020-01-01|        10.8|              1|          0.6|       1.0| 2020-01-01 00:47:41|  2020-01-01 00:53:52|               null|               null|\n",
      "|2020-01-01|       14.15|              3|          1.5|      2.35| 2020-01-01 00:14:06|  2020-01-01 00:22:53|               null|               null|\n",
      "|2020-01-01|       12.95|              1|          1.1|      2.15| 2020-01-01 00:58:34|  2020-01-01 01:07:17|               null|               null|\n",
      "|2020-01-01|        11.4|              2|          0.6|       2.6| 2020-01-01 00:18:14|  2020-01-01 00:21:58|               null|               null|\n",
      "|2020-01-01|        10.8|              2|          0.8|       2.0| 2020-01-01 00:25:49|  2020-01-01 00:29:42|               null|               null|\n",
      "|2020-01-01|       15.69|              1|         2.18|      2.39| 2020-01-01 00:58:31|  2020-01-01 01:09:45|               null|               null|\n",
      "|2020-01-01|       37.14|              1|         7.76|      4.84| 2020-01-01 00:38:01|  2020-01-01 01:15:21|               null|               null|\n",
      "|2020-01-01|         4.8|              1|          0.0|       0.0| 2020-01-01 00:01:58|  2020-01-01 00:04:16|               null|               null|\n",
      "|2020-01-01|        22.0|              2|          3.9|       3.7| 2020-01-01 00:28:44|  2020-01-01 00:43:40|               null|               null|\n",
      "|2020-01-01|        18.3|              1|         3.06|       0.0| 2020-01-01 00:16:49|  2020-01-01 00:37:53|               null|               null|\n",
      "|2020-01-01|        17.8|              1|          4.1|       0.0| 2020-01-01 00:58:43|  2020-01-01 01:12:27|               null|               null|\n",
      "|2020-01-01|        22.8|              1|         5.34|       0.0| 2020-01-01 00:53:51|  2020-01-01 01:12:49|               null|               null|\n",
      "|2020-01-01|        9.95|              1|          0.6|      1.65| 2020-01-01 00:34:40|  2020-01-01 00:38:08|               null|               null|\n",
      "|2020-01-01|       20.16|              3|         2.42|      3.36| 2020-01-01 00:29:55|  2020-01-01 00:48:40|               null|               null|\n",
      "|2020-01-01|       19.56|              2|         2.77|      3.26| 2020-01-01 00:31:20|  2020-01-01 00:47:31|               null|               null|\n",
      "|2020-01-01|       21.36|              1|         3.17|      3.56| 2020-01-01 00:43:50|  2020-01-01 00:59:52|               null|               null|\n",
      "|2020-01-01|       19.56|              3|         2.53|      3.26| 2020-01-01 00:38:20|  2020-01-01 00:55:28|               null|               null|\n",
      "|2020-01-01|       35.15|              2|          5.7|      5.85| 2020-01-01 00:29:04|  2020-01-01 01:03:27|               null|               null|\n",
      "|2020-01-01|       18.36|              1|         2.89|      3.06| 2020-01-01 00:03:46|  2020-01-01 00:14:47|               null|               null|\n",
      "|2019-12-18|         6.3|              4|          0.0|       0.0| 2019-12-18 15:30:35|  2019-12-18 15:31:35|               null|               null|\n",
      "|2020-01-01|       18.95|              1|          3.3|      3.15| 2020-01-01 00:04:28|  2020-01-01 00:17:36|               null|               null|\n",
      "|2020-01-01|        23.8|              3|          2.7|       2.0| 2020-01-01 00:13:26|  2020-01-01 00:42:31|               null|               null|\n",
      "|2020-01-01|        10.3|              4|         1.48|       0.0| 2020-01-01 00:21:28|  2020-01-01 00:27:29|               null|               null|\n",
      "|2020-01-01|        18.8|              1|         3.46|       0.0| 2020-01-01 00:22:30|  2020-01-01 00:43:08|               null|               null|\n",
      "|2020-01-01|       20.35|              1|          3.4|      4.05| 2020-01-01 00:46:09|  2020-01-01 01:00:08|               null|               null|\n",
      "|2020-01-01|       14.16|              1|         1.79|      2.36| 2020-01-01 00:11:29|  2020-01-01 00:20:24|               null|               null|\n",
      "|2020-01-01|        48.5|              5|          8.6|       5.2| 2020-01-01 00:43:13|  2020-01-01 01:40:35|               null|               null|\n",
      "|2020-01-01|        9.35|              1|          0.4|      1.55| 2020-01-01 00:57:44|  2020-01-01 01:00:49|               null|               null|\n",
      "|2020-01-01|        18.8|              1|          2.8|       0.0| 2020-01-01 00:39:11|  2020-01-01 01:00:00|               null|               null|\n",
      "|2020-01-01|       11.76|              1|         1.07|      1.96| 2020-01-01 00:21:54|  2020-01-01 00:27:31|               null|               null|\n",
      "|2020-01-01|       14.13|              1|         1.25|      2.83| 2020-01-01 00:24:45|  2020-01-01 00:32:07|               null|               null|\n",
      "|2020-01-01|       14.16|              3|         0.55|      2.36| 2020-01-01 00:46:08|  2020-01-01 00:56:59|               null|               null|\n",
      "|2020-01-01|        21.8|              4|         4.55|       0.0| 2020-01-01 00:21:46|  2020-01-01 00:41:56|               null|               null|\n",
      "|2020-01-01|       12.36|              2|          1.4|      2.06| 2020-01-01 00:12:19|  2020-01-01 00:18:54|               null|               null|\n",
      "|2020-01-01|       17.29|              1|         1.58|      3.99| 2020-01-01 00:21:24|  2020-01-01 00:33:45|               null|               null|\n",
      "|2020-01-01|        18.3|              1|          2.7|       3.0| 2020-01-01 00:40:24|  2020-01-01 00:52:17|               null|               null|\n",
      "|2019-12-18|        2.81|              1|          0.0|       0.0| 2019-12-18 15:27:49|  2019-12-18 15:28:59|               null|               null|\n",
      "|2020-01-01|         9.3|              2|         0.81|       0.0| 2020-01-01 00:22:33|  2020-01-01 00:28:01|               null|               null|\n",
      "|2020-01-01|        13.3|              1|         2.26|       0.0| 2020-01-01 00:52:06|  2020-01-01 01:01:48|               null|               null|\n",
      "|2020-01-01|         9.3|              3|         1.49|       0.0| 2020-01-01 00:43:27|  2020-01-01 00:53:36|               null|               null|\n",
      "|2020-01-01|        8.16|              1|          0.8|      1.36| 2020-01-01 00:55:23|  2020-01-01 01:00:14|               null|               null|\n",
      "|2020-01-01|        17.3|              2|         2.95|       0.0| 2020-01-01 00:05:56|  2020-01-01 00:25:52|               null|               null|\n",
      "|2020-01-01|        25.8|              1|         8.45|       0.0| 2020-01-01 00:08:21|  2020-01-01 00:25:29|               null|               null|\n",
      "|2020-01-01|       16.55|              1|          2.3|      2.75| 2020-01-01 00:43:08|  2020-01-01 00:54:30|               null|               null|\n",
      "|2020-01-01|        9.95|              2|          0.6|      1.65| 2020-01-01 00:33:33|  2020-01-01 00:36:20|               null|               null|\n",
      "|2020-01-01|       15.95|              1|          1.5|      2.65| 2020-01-01 00:28:53|  2020-01-01 00:41:59|               null|               null|\n",
      "|2020-01-01|        17.3|              1|         5.19|       0.0| 2020-01-01 00:25:53|  2020-01-01 00:35:45|               null|               null|\n",
      "|2020-01-01|       18.96|              6|         2.48|      3.16| 2020-01-01 00:38:43|  2020-01-01 00:54:55|               null|               null|\n",
      "|2020-01-01|       52.71|              1|        14.52|      8.46| 2020-01-01 00:42:15|  2020-01-01 01:16:20|               null|               null|\n",
      "|2020-01-01|       27.35|              1|          2.9|      4.55| 2020-01-01 00:49:00|  2020-01-01 01:17:42|               null|               null|\n",
      "|2020-01-01|        17.3|              2|         3.23|       0.0| 2020-01-01 00:50:47|  2020-01-01 01:08:23|               null|               null|\n",
      "|2020-01-01|       50.76|              1|          6.7|      8.46| 2020-01-01 00:44:37|  2020-01-01 01:46:33|               null|               null|\n",
      "|2020-01-01|        15.8|              2|         2.67|       0.0| 2020-01-01 00:21:22|  2020-01-01 00:35:22|               null|               null|\n",
      "|2020-01-01|       15.99|              1|         1.25|      3.69| 2020-01-01 00:23:21|  2020-01-01 00:34:40|               null|               null|\n",
      "|2020-01-01|        16.3|              1|          3.6|       0.0| 2020-01-01 00:26:50|  2020-01-01 00:38:36|               null|               null|\n",
      "|2020-01-01|        12.8|              1|         2.12|       0.0| 2020-01-01 00:19:13|  2020-01-01 00:28:54|               null|               null|\n",
      "|2020-01-01|        18.8|              1|         3.57|       0.0| 2020-01-01 00:15:13|  2020-01-01 00:33:57|               null|               null|\n",
      "|2020-01-01|        3.81|              1|          0.0|      0.01| 2020-01-01 00:39:25|  2020-01-01 00:39:29|               null|               null|\n",
      "|2020-01-01|        18.8|              2|         4.55|       0.0| 2020-01-01 00:35:13|  2020-01-01 00:54:55|               null|               null|\n",
      "|2020-01-01|       26.15|              1|          4.2|      4.35| 2020-01-01 00:56:12|  2020-01-01 01:19:57|               null|               null|\n",
      "|2020-01-01|        13.8|              2|         1.75|       0.0| 2020-01-01 00:08:40|  2020-01-01 00:21:20|               null|               null|\n",
      "|2020-01-01|       12.95|              2|          1.3|      2.15| 2020-01-01 00:58:36|  2020-01-01 01:04:38|               null|               null|\n",
      "|2020-01-01|         7.3|              1|          0.5|       0.0| 2020-01-01 00:16:44|  2020-01-01 00:18:51|               null|               null|\n",
      "|2020-01-01|        16.3|              3|          1.4|       0.0| 2020-01-01 00:14:09|  2020-01-01 00:34:04|               null|               null|\n",
      "|2020-01-01|        15.3|              1|          2.0|       1.0| 2020-01-01 00:30:08|  2020-01-01 00:43:24|               null|               null|\n",
      "|2020-01-01|        32.1|              1|          8.2|       0.0| 2020-01-01 00:35:21|  2020-01-01 00:55:42|               null|               null|\n",
      "|2020-01-01|       21.95|              1|          2.4|      3.65| 2020-01-01 00:26:44|  2020-01-01 00:48:11|               null|               null|\n",
      "|2020-01-01|        11.3|              1|          1.6|       0.0| 2020-01-01 00:45:13|  2020-01-01 00:52:55|               null|               null|\n",
      "|2020-01-01|        -8.3|              1|          0.6|       0.0| 2020-01-01 00:54:28|  2020-01-01 00:58:41|2020-01-01 00:54:28|2020-01-01 00:58:41|\n",
      "|2020-01-01|         8.3|              1|          0.6|       0.0| 2020-01-01 00:54:28|  2020-01-01 00:58:41|2020-01-01 00:54:28|2020-01-01 00:58:41|\n",
      "|2020-01-01|        12.3|              1|          1.3|       2.0| 2020-01-01 00:20:02|  2020-01-01 00:26:23|               null|               null|\n",
      "|2020-01-01|       44.76|              1|        12.92|      7.46| 2020-01-01 00:53:21|  2020-01-01 01:16:14|               null|               null|\n",
      "|2020-01-01|        10.3|              1|         1.26|       0.0| 2020-01-01 00:12:38|  2020-01-01 00:19:11|               null|               null|\n",
      "|2020-01-01|       17.15|              1|          1.9|      2.85| 2020-01-01 00:23:54|  2020-01-01 00:38:46|               null|               null|\n",
      "|2020-01-01|       15.36|              1|         1.65|      2.56| 2020-01-01 00:25:39|  2020-01-01 00:36:05|               null|               null|\n",
      "|2020-01-01|        10.3|              1|         1.17|       1.0| 2020-01-01 00:13:26|  2020-01-01 00:16:52|               null|               null|\n",
      "|2020-01-01|        15.8|              2|         1.89|       1.0| 2020-01-01 00:16:16|  2020-01-01 00:30:41|               null|               null|\n",
      "|2020-01-01|       29.16|              1|         6.43|      4.86| 2020-01-01 00:36:33|  2020-01-01 00:53:23|               null|               null|\n",
      "|2020-01-01|        28.3|              1|          4.7|       6.5| 2020-01-01 00:29:14|  2020-01-01 00:52:47|               null|               null|\n",
      "|2020-01-01|         9.8|              3|         1.18|       0.0| 2020-01-01 00:20:37|  2020-01-01 00:26:18|               null|               null|\n",
      "|2020-01-01|        9.95|              1|          0.9|      1.65| 2020-01-01 00:23:37|  2020-01-01 00:26:18|               null|               null|\n",
      "|2020-01-01|        14.3|              1|         1.06|       4.0| 2020-01-01 00:42:07|  2020-01-01 00:49:28|               null|               null|\n",
      "|2020-01-01|       11.16|              1|          0.5|      1.86| 2020-01-01 00:11:46|  2020-01-01 00:17:54|               null|               null|\n",
      "|2020-01-01|        16.8|              1|         2.92|       0.0| 2020-01-01 00:55:36|  2020-01-01 01:11:07|               null|               null|\n",
      "|2020-01-01|        13.3|              1|         1.52|       1.0| 2020-01-01 00:32:56|  2020-01-01 00:41:19|               null|               null|\n",
      "|2020-01-01|       14.75|              3|          1.7|      2.45| 2020-01-01 00:50:44|  2020-01-01 01:00:04|               null|               null|\n",
      "|2020-01-01|       32.76|              1|         7.21|      5.46| 2020-01-01 00:37:00|  2020-01-01 00:58:24|               null|               null|\n",
      "|2020-01-01|        32.8|              1|          6.6|       4.0| 2020-01-01 00:54:18|  2020-01-01 01:23:46|               null|               null|\n",
      "|2020-01-01|       21.35|              1|          3.0|      3.55| 2020-01-01 00:35:03|  2020-01-01 00:53:06|               null|               null|\n",
      "|2020-01-01|       23.75|              3|          3.9|      3.95| 2020-01-01 00:16:48|  2020-01-01 00:36:07|               null|               null|\n",
      "|2020-01-01|        12.3|              3|          1.3|       0.0| 2020-01-01 00:53:50|  2020-01-01 01:04:39|               null|               null|\n",
      "|2020-01-01|       15.36|              3|         1.88|      2.56| 2020-01-01 00:27:25|  2020-01-01 00:37:34|               null|               null|\n",
      "|2020-01-01|       17.76|              2|         2.64|      2.96| 2020-01-01 00:08:44|  2020-01-01 00:19:57|               null|               null|\n",
      "|2020-01-01|       20.76|              4|          3.5|      3.46| 2020-01-01 00:08:54|  2020-01-01 00:24:20|               null|               null|\n",
      "|2020-01-01|        13.8|              2|         1.76|       0.0| 2020-01-01 00:54:33|  2020-01-01 01:12:25|               null|               null|\n",
      "|2020-01-01|       10.56|              2|          0.7|      1.76| 2020-01-01 00:39:34|  2020-01-01 00:43:42|               null|               null|\n",
      "|2020-01-01|        14.1|              2|          1.5|       2.8| 2020-01-01 00:28:02|  2020-01-01 00:35:56|               null|               null|\n",
      "|2020-01-01|       12.25|              1|         1.35|      2.45| 2020-01-01 00:20:28|  2020-01-01 00:24:30|               null|               null|\n",
      "|2020-01-01|        21.3|              1|         3.75|       2.0| 2020-01-01 00:53:56|  2020-01-01 01:13:51|               null|               null|\n",
      "|2020-01-01|       20.16|              1|         2.38|      3.36| 2020-01-01 00:22:59|  2020-01-01 00:41:19|               null|               null|\n",
      "|2020-01-01|         9.8|              3|          1.1|       0.0| 2020-01-01 00:08:27|  2020-01-01 00:13:52|               null|               null|\n",
      "|2020-01-01|        12.3|              1|          1.2|       1.5| 2020-01-01 00:35:39|  2020-01-01 00:43:04|               null|               null|\n",
      "|2020-01-01|       34.67|              2|          5.2|      5.75| 2020-01-01 00:44:31|  2020-01-01 01:11:20|               null|               null|\n",
      "|2020-01-01|       11.76|              1|         0.83|      1.96| 2020-01-01 00:55:51|  2020-01-01 01:02:28|               null|               null|\n",
      "|2020-01-01|        21.3|              1|         3.83|       2.0| 2020-01-01 00:29:11|  2020-01-01 00:46:19|               null|               null|\n",
      "|2020-01-01|        18.3|              1|         3.28|       0.0| 2020-01-01 00:29:32|  2020-01-01 00:46:42|               null|               null|\n",
      "|2020-01-01|       10.56|              1|         0.75|      1.76| 2020-01-01 00:12:04|  2020-01-01 00:16:39|               null|               null|\n",
      "|2020-01-01|       14.12|              3|         1.53|      2.82| 2020-01-01 00:44:03|  2020-01-01 00:51:58|               null|               null|\n",
      "|2020-01-01|        22.8|              1|          0.8|       0.0| 2020-01-01 00:30:11|  2020-01-01 01:31:29|               null|               null|\n",
      "|2020-01-01|        8.97|              1|         0.51|      1.17| 2020-01-01 00:37:17|  2020-01-01 00:39:44|               null|               null|\n",
      "|2020-01-01|       10.56|              1|          1.5|      1.76| 2020-01-01 00:12:28|  2020-01-01 00:21:11|               null|               null|\n",
      "|2020-01-01|       21.36|              3|         1.92|      3.56| 2020-01-01 00:59:05|  2020-01-01 01:20:51|               null|               null|\n",
      "|2020-01-01|       10.75|              1|          0.6|      2.45| 2020-01-01 00:37:35|  2020-01-01 00:40:31|               null|               null|\n",
      "|2020-01-01|        36.3|              1|          9.9|       0.0| 2020-01-01 00:31:16|  2020-01-01 01:05:43|               null|               null|\n",
      "|2020-01-01|        26.3|              1|         3.23|       0.0| 2020-01-01 00:43:33|  2020-01-01 01:21:12|               null|               null|\n",
      "|2020-01-01|       24.95|              1|          3.3|      4.15| 2020-01-01 00:56:27|  2020-01-01 01:21:44|               null|               null|\n",
      "|2020-01-01|       16.56|              1|         2.01|      2.76| 2020-01-01 00:22:52|  2020-01-01 00:35:39|               null|               null|\n",
      "|2020-01-01|       27.95|              1|          0.8|      4.65| 2020-01-01 00:44:31|  2020-01-01 00:48:46|               null|               null|\n",
      "|2020-01-01|        31.0|              1|          5.2|       6.2| 2020-01-01 00:11:14|  2020-01-01 00:36:19|               null|               null|\n",
      "|2020-01-01|        15.3|              1|          1.7|       0.0| 2020-01-01 00:56:38|  2020-01-01 01:13:34|               null|               null|\n",
      "|2020-01-01|        10.3|              1|          1.2|       0.0| 2020-01-01 00:03:02|  2020-01-01 00:09:22|               null|               null|\n",
      "|2020-01-01|        16.8|              2|         2.33|       2.0| 2020-01-01 00:37:27|  2020-01-01 00:50:39|               null|               null|\n",
      "|2020-01-01|        29.3|              2|          8.0|       0.0| 2020-01-01 00:30:20|  2020-01-01 00:54:21|               null|               null|\n",
      "|2020-01-01|        12.3|              1|         1.97|       0.0| 2020-01-01 00:44:51|  2020-01-01 00:53:30|               null|               null|\n",
      "|2020-01-01|       13.56|              4|         0.84|      2.26| 2020-01-01 00:17:27|  2020-01-01 00:27:08|               null|               null|\n",
      "|2020-01-01|        13.8|              1|         1.39|       0.0| 2020-01-01 00:50:58|  2020-01-01 01:06:09|               null|               null|\n",
      "|2020-01-01|        13.5|              1|          1.4|       2.7| 2020-01-01 00:19:32|  2020-01-01 00:26:03|               null|               null|\n",
      "|2020-01-01|        12.3|              3|         1.35|       0.0| 2020-01-01 00:54:02|  2020-01-01 01:04:38|               null|               null|\n",
      "|2020-01-01|       24.35|              2|          2.1|      4.05| 2020-01-01 00:14:05|  2020-01-01 00:40:50|               null|               null|\n",
      "|2020-01-01|        17.9|              1|         3.37|       2.1| 2020-01-01 00:41:28|  2020-01-01 00:54:20|               null|               null|\n",
      "|2020-01-01|       11.27|              1|          1.2|      1.47| 2020-01-01 00:28:15|  2020-01-01 00:33:03|               null|               null|\n",
      "|2020-01-01|        12.3|              1|          1.4|       0.0| 2020-01-01 00:53:38|  2020-01-01 01:04:20|               null|               null|\n",
      "|2020-01-01|        15.3|              2|          2.1|       1.0| 2020-01-01 00:22:58|  2020-01-01 00:35:46|               null|               null|\n",
      "|2020-01-01|       25.08|              1|         6.46|      2.28| 2020-01-01 00:02:15|  2020-01-01 00:13:28|               null|               null|\n",
      "|2020-01-01|        37.7|              2|         7.76|      6.28| 2020-01-01 00:13:58|  2020-01-01 00:32:39|               null|               null|\n",
      "|2020-01-01|        10.6|              3|         0.71|       1.3| 2020-01-01 00:46:55|  2020-01-01 00:51:55|               null|               null|\n",
      "|2020-01-01|         6.3|              6|          0.9|       0.0| 2020-01-01 00:54:57|  2020-01-01 00:58:50|               null|               null|\n",
      "|2020-01-01|        29.3|              1|          8.7|       0.0| 2020-01-01 00:33:31|  2020-01-01 00:59:47|               null|               null|\n",
      "|2020-01-01|        15.3|              2|          2.1|       0.0| 2020-01-01 00:28:35|  2020-01-01 00:44:47|               null|               null|\n",
      "|2020-01-01|       31.56|              3|         5.25|      5.26| 2020-01-01 00:29:09|  2020-01-01 00:59:04|               null|               null|\n",
      "|2020-01-01|         3.8|              1|         0.03|       0.0| 2020-01-01 00:09:44|  2020-01-01 00:10:37|               null|               null|\n",
      "|2020-01-01|       16.56|              2|          2.0|      2.76| 2020-01-01 00:51:18|  2020-01-01 01:04:08|               null|               null|\n",
      "|2020-01-01|       18.35|              1|          1.9|      3.05| 2020-01-01 00:43:27|  2020-01-01 00:59:10|               null|               null|\n",
      "|2020-01-01|       15.96|              2|         1.66|      2.66| 2020-01-01 00:39:10|  2020-01-01 00:52:11|               null|               null|\n",
      "|2020-01-01|       11.15|              1|          0.6|      1.85| 2020-01-01 00:48:23|  2020-01-01 00:53:58|               null|               null|\n",
      "|2020-01-01|       11.76|              1|          1.2|      1.96| 2020-01-01 00:44:41|  2020-01-01 00:50:09|               null|               null|\n",
      "|2020-01-01|       33.12|              1|         5.18|      4.32| 2020-01-01 00:45:05|  2020-01-01 01:23:29|               null|               null|\n",
      "|2020-01-01|        18.8|              2|          2.3|       0.0| 2020-01-01 00:27:00|  2020-01-01 00:49:22|               null|               null|\n",
      "|2020-01-01|        13.8|              1|         2.29|       1.0| 2020-01-01 00:05:05|  2020-01-01 00:14:54|               null|               null|\n",
      "|2020-01-01|        10.3|              2|          1.3|       0.0| 2020-01-01 00:41:52|  2020-01-01 00:48:16|               null|               null|\n",
      "|2020-01-01|        23.3|              1|          7.1|       0.0| 2020-01-01 00:09:11|  2020-01-01 00:28:51|               null|               null|\n",
      "|2020-01-01|        14.3|              2|          2.3|       0.0| 2020-01-01 00:29:45|  2020-01-01 00:42:18|               null|               null|\n",
      "|2020-01-01|         6.8|              1|          0.0|       0.0| 2020-01-01 00:25:39|  2020-01-01 00:27:05|               null|               null|\n",
      "|2020-01-01|       24.12|              2|         4.07|      4.82| 2020-01-01 00:53:35|  2020-01-01 01:12:18|               null|               null|\n",
      "|2020-01-01|       11.16|              1|         1.61|      1.86| 2020-01-01 00:21:32|  2020-01-01 00:30:20|               null|               null|\n",
      "|2020-01-01|        29.3|              1|         2.43|       0.0| 2020-01-01 00:41:18|  2020-01-01 01:25:00|               null|               null|\n",
      "|2020-01-01|       24.35|              1|          2.3|      4.05| 2020-01-01 00:01:54|  2020-01-01 00:26:47|               null|               null|\n",
      "|2020-01-01|       17.55|              2|          2.4|      1.75| 2020-01-01 00:55:11|  2020-01-01 01:12:03|               null|               null|\n",
      "|2020-01-01|         9.3|              1|          0.7|       1.0| 2020-01-01 00:43:56|  2020-01-01 00:46:24|               null|               null|\n",
      "|2020-01-01|       11.62|              1|         0.69|      2.32| 2020-01-01 00:12:40|  2020-01-01 00:18:07|               null|               null|\n",
      "|2020-01-01|       14.76|              4|          1.8|      2.46| 2020-01-01 00:32:54|  2020-01-01 00:41:29|               null|               null|\n",
      "|2020-01-01|       30.92|              1|         5.73|       0.0| 2020-01-01 00:13:53|  2020-01-01 00:40:35|               null|               null|\n",
      "|2020-01-01|       12.88|              1|         1.62|      2.58| 2020-01-01 00:25:06|  2020-01-01 00:29:07|               null|               null|\n",
      "|2020-01-01|       22.55|              2|          3.3|      3.75| 2020-01-01 00:59:54|  2020-01-01 01:20:08|               null|               null|\n",
      "|2020-01-01|        13.8|              1|         2.09|       0.0| 2020-01-01 00:15:13|  2020-01-01 00:26:52|               null|               null|\n",
      "|2020-01-01|       11.76|              2|         1.31|      1.96| 2020-01-01 00:13:16|  2020-01-01 00:17:45|               null|               null|\n",
      "|2020-01-01|        11.8|              1|         1.78|       0.0| 2020-01-01 00:14:44|  2020-01-01 00:23:35|               null|               null|\n",
      "|2020-01-01|       19.56|              2|         2.31|      3.26| 2020-01-01 00:52:41|  2020-01-01 01:08:48|               null|               null|\n",
      "|2020-01-01|        14.8|              1|          1.7|       0.0| 2020-01-01 00:19:19|  2020-01-01 00:34:22|               null|               null|\n",
      "|2020-01-01|       35.15|              2|          5.2|      5.85| 2020-01-01 00:55:41|  2020-01-01 01:31:23|               null|               null|\n",
      "|2020-01-01|        15.3|              1|         3.16|       0.0| 2020-01-01 00:25:31|  2020-01-01 00:38:12|               null|               null|\n",
      "|2020-01-01|        9.68|              1|         0.74|      0.88| 2020-01-01 00:47:49|  2020-01-01 00:52:27|               null|               null|\n",
      "|2020-01-01|        17.3|              6|         2.11|       0.0| 2020-01-01 00:17:28|  2020-01-01 00:37:16|               null|               null|\n",
      "|2020-01-01|       12.35|              1|          1.5|      2.05| 2020-01-01 00:55:29|  2020-01-01 01:06:22|               null|               null|\n",
      "|2020-01-01|        21.8|              2|          3.9|       0.0| 2020-01-01 00:42:55|  2020-01-01 01:07:31|               null|               null|\n",
      "|2020-01-01|        24.8|              2|          1.5|       3.0| 2020-01-01 00:08:37|  2020-01-01 00:39:27|               null|               null|\n",
      "|2020-01-01|        16.3|              3|         2.83|       0.0| 2020-01-01 00:21:23|  2020-01-01 00:36:23|               null|               null|\n",
      "|2020-01-01|       29.16|              1|         4.82|      4.86| 2020-01-01 00:28:39|  2020-01-01 00:54:21|               null|               null|\n",
      "|2020-01-01|        13.3|              1|          0.8|       0.0| 2020-01-01 00:37:15|  2020-01-01 00:51:41|               null|               null|\n",
      "|2020-01-01|       12.96|              2|         1.12|      2.16| 2020-01-01 00:30:10|  2020-01-01 00:38:35|               null|               null|\n",
      "|2020-01-01|       14.15|              2|          0.7|      2.35| 2020-01-01 00:29:01|  2020-01-01 00:40:28|               null|               null|\n",
      "|2020-01-01|       29.16|              1|          4.5|      4.86| 2020-01-01 00:31:57|  2020-01-01 01:00:34|               null|               null|\n",
      "|2020-01-01|        14.0|              1|          1.3|       1.7| 2020-01-01 00:22:24|  2020-01-01 00:33:24|               null|               null|\n",
      "|2020-01-01|       11.62|              2|         0.93|      2.32| 2020-01-01 00:31:25|  2020-01-01 00:37:16|               null|               null|\n",
      "|2020-01-01|       45.36|              1|         6.39|      7.56| 2020-01-01 00:53:10|  2020-01-01 01:46:40|               null|               null|\n",
      "|2020-01-01|        11.3|              1|         1.33|       0.0| 2020-01-01 00:36:37|  2020-01-01 00:44:04|               null|               null|\n",
      "|2020-01-01|       10.12|              1|         0.98|      1.32| 2020-01-01 00:30:19|  2020-01-01 00:33:26|               null|               null|\n",
      "|2020-01-01|       22.56|              3|         3.36|      3.76| 2020-01-01 00:05:31|  2020-01-01 00:25:18|               null|               null|\n",
      "|2020-01-01|        19.8|              1|         3.23|       0.0| 2020-01-01 00:47:40|  2020-01-01 01:09:23|               null|               null|\n",
      "|2020-01-01|         8.8|              1|          0.5|       1.0| 2020-01-01 00:41:20|  2020-01-01 00:44:22|               null|               null|\n",
      "|2020-01-01|       60.52|              2|         13.7|      12.1| 2020-01-01 00:39:40|  2020-01-01 01:03:26|               null|               null|\n",
      "|2020-01-01|        14.8|              2|         3.32|       0.0| 2020-01-01 00:20:03|  2020-01-01 00:29:43|               null|               null|\n",
      "|2020-01-01|       15.87|              1|         2.11|      2.07| 2020-01-01 00:17:41|  2020-01-01 00:28:27|               null|               null|\n",
      "+----------+------------+---------------+-------------+----------+--------------------+---------------------+-------------------+-------------------+\n",
      "only showing top 200 rows\n",
      "\n"
     ]
    }
   ],
   "source": [
    "# Датафрейм включая сторнированные операции\n",
    "sql = \"\"\" with storno as (\n",
    "select tpep_pickup_datetime as storno_start_date, tpep_dropoff_datetime as storno_end_date from taxi_poesdki\n",
    "where Total_amount < 0)\n",
    "select date(tpep_pickup_datetime) as date, Total_amount, passenger_count, trip_distance, tip_amount, tpep_pickup_datetime, tpep_dropoff_datetime,\n",
    "       storno_start_date, storno_end_date\n",
    "from taxi_poesdki\n",
    "left join storno\n",
    "on storno.storno_start_date = taxi_poesdki.tpep_pickup_datetime\n",
    "and storno.storno_end_date = taxi_poesdki.tpep_dropoff_datetime\n",
    "       \n",
    "\"\"\"\n",
    "storno = spark.sql(sql)\n",
    "storno.createOrReplaceTempView('date')\n",
    "storno.show(200);\n"
   ]
  },
  {
   "cell_type": "code",
   "execution_count": 282,
   "id": "72373d78",
   "metadata": {},
   "outputs": [
    {
     "name": "stdout",
     "output_type": "stream",
     "text": [
      "+----------+------------+---------------+-------------+----------+--------------------+---------------------+-----------------+---------------+\n",
      "|      date|Total_amount|passenger_count|trip_distance|tip_amount|tpep_pickup_datetime|tpep_dropoff_datetime|storno_start_date|storno_end_date|\n",
      "+----------+------------+---------------+-------------+----------+--------------------+---------------------+-----------------+---------------+\n",
      "|2020-01-01|        10.8|              1|          0.6|       1.0| 2020-01-01 00:47:41|  2020-01-01 00:53:52|             null|           null|\n",
      "|2020-01-01|         4.8|              1|          0.0|       0.0| 2020-01-01 00:01:58|  2020-01-01 00:04:16|             null|           null|\n",
      "|2019-12-18|         6.3|              4|          0.0|       0.0| 2019-12-18 15:30:35|  2019-12-18 15:31:35|             null|           null|\n",
      "|2019-12-18|        2.81|              1|          0.0|       0.0| 2019-12-18 15:27:49|  2019-12-18 15:28:59|             null|           null|\n",
      "|2020-01-01|        8.16|              1|          0.8|      1.36| 2020-01-01 00:55:23|  2020-01-01 01:00:14|             null|           null|\n",
      "|2020-01-01|        3.81|              1|          0.0|      0.01| 2020-01-01 00:39:25|  2020-01-01 00:39:29|             null|           null|\n",
      "|2020-01-01|        12.3|              1|          1.2|       1.5| 2020-01-01 00:35:39|  2020-01-01 00:43:04|             null|           null|\n",
      "|2020-01-01|       11.27|              1|          1.2|      1.47| 2020-01-01 00:28:15|  2020-01-01 00:33:03|             null|           null|\n",
      "|2020-01-01|         3.8|              1|         0.03|       0.0| 2020-01-01 00:09:44|  2020-01-01 00:10:37|             null|           null|\n",
      "|2020-01-01|       17.55|              2|          2.4|      1.75| 2020-01-01 00:55:11|  2020-01-01 01:12:03|             null|           null|\n",
      "+----------+------------+---------------+-------------+----------+--------------------+---------------------+-----------------+---------------+\n",
      "only showing top 10 rows\n",
      "\n"
     ]
    }
   ],
   "source": [
    "storno.show(10)"
   ]
  },
  {
   "cell_type": "code",
   "execution_count": 283,
   "id": "c4a4490b",
   "metadata": {},
   "outputs": [
    {
     "name": "stdout",
     "output_type": "stream",
     "text": [
      "root\n",
      " |-- date: date (nullable = true)\n",
      " |-- Total_amount: double (nullable = true)\n",
      " |-- passenger_count: integer (nullable = true)\n",
      " |-- trip_distance: double (nullable = true)\n",
      " |-- tip_amount: double (nullable = true)\n",
      " |-- tpep_pickup_datetime: timestamp_ntz (nullable = true)\n",
      " |-- tpep_dropoff_datetime: timestamp_ntz (nullable = true)\n",
      " |-- storno_start_date: timestamp_ntz (nullable = true)\n",
      " |-- storno_end_date: timestamp_ntz (nullable = true)\n",
      "\n"
     ]
    }
   ],
   "source": [
    "storno.printSchema()"
   ]
  },
  {
   "cell_type": "code",
   "execution_count": 284,
   "id": "806b8dce",
   "metadata": {},
   "outputs": [],
   "source": [
    "storno.createOrReplaceTempView(\"storno\")"
   ]
  },
  {
   "cell_type": "code",
   "execution_count": 285,
   "id": "7c99842b",
   "metadata": {},
   "outputs": [
    {
     "name": "stdout",
     "output_type": "stream",
     "text": [
      "+----------+------------+---------------+-------------+----------+\n",
      "|      date|Total_amount|passenger_count|trip_distance|tip_amount|\n",
      "+----------+------------+---------------+-------------+----------+\n",
      "|2020-01-01|       10.55|              1|          0.5|      1.75|\n",
      "|2020-01-01|        11.8|              1|          1.2|       0.0|\n",
      "|2020-01-01|         7.8|              1|          0.4|       0.0|\n",
      "|2020-01-01|       15.38|              1|         1.23|      3.08|\n",
      "|2020-01-01|       31.56|              1|         6.53|      5.26|\n",
      "|2020-01-01|       14.16|              2|         1.28|      2.36|\n",
      "|2020-01-01|        23.3|              1|          4.0|       0.0|\n",
      "|2020-01-01|         6.3|              1|         0.01|       0.0|\n",
      "|2020-01-01|        13.8|              4|         1.35|       2.0|\n",
      "|2020-01-01|         7.3|              1|         0.28|       0.0|\n",
      "|2020-01-01|       31.56|              3|         6.74|      5.26|\n",
      "|2020-01-01|       10.56|              1|         1.52|      1.76|\n",
      "|2020-01-01|       24.96|              2|          3.6|      4.16|\n",
      "|2020-01-01|        25.8|              1|          6.8|       0.0|\n",
      "|2020-01-01|       16.56|              4|         2.05|      2.76|\n",
      "|2020-01-01|         7.3|              3|          0.3|       0.0|\n",
      "|2020-01-01|        18.8|              1|         1.75|       0.0|\n",
      "|2020-01-01|       18.95|              1|          2.6|      3.15|\n",
      "|2020-01-01|        11.3|              1|         2.06|       0.0|\n",
      "|2020-01-01|        23.8|              1|          5.9|       0.0|\n",
      "|2020-01-01|        11.0|              1|         0.78|       2.2|\n",
      "|2020-01-01|       11.16|              1|         0.58|      1.86|\n",
      "|2020-01-01|       15.35|              1|          2.3|      2.55|\n",
      "|2020-01-01|        10.8|              6|         0.84|       0.0|\n",
      "|2020-01-01|       13.56|              2|          1.6|      2.26|\n",
      "|2020-01-01|        18.8|              2|         3.57|       0.0|\n",
      "|2020-01-01|        28.3|              1|         6.83|       0.0|\n",
      "|2020-01-01|        46.3|              1|        14.14|       0.0|\n",
      "|2020-01-01|        13.5|              1|         1.47|       2.7|\n",
      "|2020-01-01|        8.16|              1|         0.37|      1.36|\n",
      "|2020-01-01|       13.56|              1|         1.66|      2.26|\n",
      "|2020-01-01|        17.8|              2|         2.73|       2.0|\n",
      "|2020-01-01|        18.3|              1|         3.13|       1.0|\n",
      "|2020-01-01|       20.76|              5|         3.23|      3.46|\n",
      "|2020-01-01|        9.35|              2|          0.7|      1.55|\n",
      "|2020-01-01|       10.23|              1|         0.77|      0.93|\n",
      "|2020-01-01|       87.14|              2|         20.5|      9.34|\n",
      "|2020-01-01|        13.8|              5|         1.66|       0.0|\n",
      "|2020-01-01|       12.36|              1|         1.51|      2.06|\n",
      "|2020-01-01|        11.3|              1|          0.6|       0.0|\n",
      "|2020-01-01|        11.3|              1|         1.89|       0.0|\n",
      "|2020-01-01|       36.36|              1|         7.65|      6.06|\n",
      "|2020-01-01|       29.76|              1|         6.77|      4.96|\n",
      "|2020-01-01|         9.8|              2|         0.52|       0.0|\n",
      "|2020-01-01|        11.6|              2|          0.6|       2.3|\n",
      "|2020-01-01|       16.56|              2|         1.77|      2.76|\n",
      "|2020-01-01|       30.94|              2|         5.82|      7.14|\n",
      "|2020-01-01|       28.56|              1|         6.24|      4.76|\n",
      "|2020-01-01|       33.36|              1|          6.6|      5.56|\n",
      "|2019-12-31|        25.8|              2|         6.16|       2.0|\n",
      "|2020-01-01|        35.8|              1|         9.72|       0.0|\n",
      "|2020-01-01|       22.56|              5|         2.64|      3.76|\n",
      "|2020-01-01|        26.8|              2|         5.96|       0.0|\n",
      "|2020-01-01|       22.33|              2|         3.55|      2.03|\n",
      "|2020-01-01|        11.8|              2|         2.53|       0.0|\n",
      "|2020-01-01|       56.87|              1|        16.02|       0.0|\n",
      "|2020-01-01|       13.33|              1|          1.1|      2.03|\n",
      "|2020-01-01|         6.3|              6|          0.0|       0.0|\n",
      "|2020-01-01|        34.3|              2|          9.6|       0.0|\n",
      "|2020-01-01|        11.8|              3|          1.6|       0.0|\n",
      "|2020-01-01|        18.3|              1|         3.23|       1.5|\n",
      "|2020-01-01|        43.1|              1|          9.0|      7.18|\n",
      "|2020-01-01|        11.3|              3|         1.93|       0.0|\n",
      "|2020-01-01|       25.05|              1|          2.1|      5.75|\n",
      "|2020-01-01|       38.75|              1|          8.6|      6.45|\n",
      "|2020-01-01|        15.8|              1|         2.09|       0.0|\n",
      "|2020-01-01|        68.8|              1|          0.0|       5.0|\n",
      "|2020-01-01|       66.36|              1|        10.61|     11.06|\n",
      "|2020-01-01|       19.03|              2|          2.9|      1.73|\n",
      "|2020-01-01|        23.3|              2|         5.63|       0.0|\n",
      "|2020-01-01|         9.8|              1|         1.76|       0.0|\n",
      "|2020-01-01|       14.75|              2|          1.2|      2.45|\n",
      "|2020-01-01|       12.96|              2|         0.95|      2.16|\n",
      "|2020-01-01|        12.3|              1|          1.9|       0.0|\n",
      "|2020-01-01|        11.6|              1|          0.8|       2.3|\n",
      "|2020-01-01|       16.56|              1|         2.76|      2.76|\n",
      "|2020-01-01|       11.75|              2|          0.9|      1.95|\n",
      "|2020-01-01|       34.84|              1|         5.41|      8.04|\n",
      "|2020-01-01|       15.96|              1|         2.13|      2.66|\n",
      "|2020-01-01|       23.76|              2|         3.62|      3.96|\n",
      "|2020-01-01|        9.96|              2|         1.34|      1.66|\n",
      "|2020-01-01|         7.3|              5|         1.19|       0.0|\n",
      "|2020-01-01|       25.07|              2|          4.8|      3.27|\n",
      "|2020-01-01|       25.55|              2|          4.2|      4.25|\n",
      "|2020-01-01|       22.56|              1|         3.59|      3.76|\n",
      "|2020-01-01|       49.56|              3|        14.83|      8.26|\n",
      "|2020-01-01|       16.44|              1|         1.87|      2.14|\n",
      "|2020-01-01|        16.3|              4|         1.92|       2.5|\n",
      "|2020-01-01|        11.8|              2|          1.6|       0.0|\n",
      "|2020-01-01|       18.36|              3|         3.12|      3.06|\n",
      "|2020-01-01|        11.3|              5|         1.74|       0.0|\n",
      "|2020-01-01|        8.75|              2|          0.5|      1.45|\n",
      "|2020-01-01|        22.8|              5|         4.01|       3.0|\n",
      "|2020-01-01|         7.3|              1|         1.02|       0.0|\n",
      "|2020-01-01|       13.55|              2|          1.3|      2.25|\n",
      "|2020-01-01|        13.8|              3|          1.9|       0.0|\n",
      "|2020-01-01|       17.15|              4|          2.2|      2.85|\n",
      "|2020-01-01|       26.15|              2|          3.0|      4.35|\n",
      "|2020-01-01|       25.35|              1|          0.0|      5.05|\n",
      "|2020-01-01|        9.96|              4|         0.59|      1.66|\n",
      "|2020-01-01|         9.3|              1|          1.0|       0.0|\n",
      "|2020-01-01|        12.8|              1|         1.67|       0.0|\n",
      "|2020-01-01|       15.38|              1|         1.71|      3.08|\n",
      "|2020-01-01|        14.3|              2|          2.7|       0.0|\n",
      "|2020-01-01|       12.35|              4|          0.9|      2.05|\n",
      "|2020-01-01|       14.76|              1|         1.55|      2.46|\n",
      "|2020-01-01|       12.95|              3|          1.3|      2.15|\n",
      "|2020-01-01|       15.36|              1|         1.85|      2.56|\n",
      "|2020-01-01|        11.3|              2|          0.9|       0.0|\n",
      "|2020-01-01|       12.88|              1|         2.07|      2.58|\n",
      "|2020-01-01|       17.16|              1|         2.03|      2.86|\n",
      "|2020-01-01|        13.3|              3|         1.94|       0.0|\n",
      "|2020-01-01|        15.8|              4|          1.6|       2.0|\n",
      "|2020-01-01|       24.36|              1|         3.14|      4.06|\n",
      "|2020-01-01|       11.76|              1|         0.93|      1.96|\n",
      "|2020-01-01|        28.3|              1|         6.32|       0.0|\n",
      "|2020-01-01|       20.69|              1|         4.02|      2.44|\n",
      "|2020-01-01|        23.6|              1|         1.43|      11.8|\n",
      "|2020-01-01|        12.8|              1|         2.46|       0.0|\n",
      "|2020-01-01|        10.7|              1|         1.06|       1.4|\n",
      "|2020-01-01|       17.38|              1|          2.4|      1.58|\n",
      "|2020-01-01|        14.8|              1|         2.33|       0.0|\n",
      "|2020-01-01|       14.76|              1|         1.87|      2.46|\n",
      "|2020-01-01|       14.76|              1|         1.54|      2.46|\n",
      "|2020-01-01|       19.56|              1|          2.7|      3.26|\n",
      "|2020-01-01|        13.3|              1|         2.31|       0.0|\n",
      "|2020-01-01|        11.8|              1|         1.12|       1.0|\n",
      "|2020-01-01|       33.35|              1|          6.1|      5.55|\n",
      "|2020-01-01|         8.8|              1|          0.3|       0.5|\n",
      "|2020-01-01|       13.56|              1|         0.72|      2.26|\n",
      "|2020-01-01|       26.76|              1|         4.65|      4.46|\n",
      "|2020-01-01|        28.8|              1|         5.92|       0.0|\n",
      "|2020-01-01|       37.56|              1|         6.97|      6.26|\n",
      "|2020-01-01|        18.8|              3|         3.32|       0.0|\n",
      "|2020-01-01|         9.8|              1|         1.82|       0.0|\n",
      "|2020-01-01|       14.12|              1|         1.25|      2.82|\n",
      "|2020-01-01|        18.3|              1|         2.54|       1.0|\n",
      "|2020-01-01|        12.3|              1|         1.43|       0.0|\n",
      "|2020-01-01|       12.35|              1|          1.3|      2.05|\n",
      "|2020-01-01|        26.8|              1|         6.22|       0.0|\n",
      "|2020-01-01|       19.75|              1|          2.5|      3.95|\n",
      "|2020-01-01|        26.3|              1|         6.27|       0.0|\n",
      "|2020-01-01|       37.55|              2|          8.5|      6.25|\n",
      "|2020-01-01|       20.76|              1|          3.2|      3.46|\n",
      "|2020-01-01|        34.3|              2|         5.28|       5.0|\n",
      "|2020-01-01|         8.8|              4|         0.48|       0.0|\n",
      "|2020-01-01|       15.95|              1|          2.0|      2.65|\n",
      "|2020-01-01|       34.11|              1|         6.39|      4.86|\n",
      "|2020-01-01|       18.96|              1|         2.43|      3.16|\n",
      "|2020-01-01|         3.8|              1|          0.2|       0.0|\n",
      "|2020-01-01|       13.55|              2|          1.2|      2.25|\n",
      "|2020-01-01|        10.3|              1|         1.28|       0.0|\n",
      "|2020-01-01|       46.07|              1|         10.2|      7.65|\n",
      "|2020-01-01|         5.3|              2|          0.6|       0.0|\n",
      "|2020-01-01|       10.56|              1|         0.61|      1.76|\n",
      "|2020-01-01|        35.3|              1|        10.39|       0.0|\n",
      "|2020-01-01|        10.3|              1|         1.85|       0.0|\n",
      "|2020-01-01|        21.3|              1|          4.4|       2.0|\n",
      "|2020-01-01|        9.95|              1|          0.6|      1.65|\n",
      "|2020-01-01|       14.76|              3|         1.79|      2.46|\n",
      "|2020-01-01|         8.3|              1|          0.6|       0.0|\n",
      "|2020-01-01|       12.96|              5|         1.21|      2.16|\n",
      "|2020-01-01|        13.3|              1|         1.54|       0.0|\n",
      "|2020-01-01|       19.56|              1|         2.32|      3.26|\n",
      "|2020-01-01|        10.3|              2|          0.9|       0.0|\n",
      "|2020-01-01|       11.76|              6|          1.4|      1.96|\n",
      "|2020-01-01|         8.8|              1|         1.13|       0.0|\n",
      "|2020-01-01|       16.56|              1|         2.38|      2.76|\n",
      "|2020-01-01|       35.76|              1|         7.03|      5.96|\n",
      "|2020-01-01|        18.3|              1|          3.2|       0.0|\n",
      "|2020-01-01|        6.36|              2|         0.52|      1.06|\n",
      "|2020-01-01|       70.38|              1|        20.15|     14.08|\n",
      "|2020-01-01|        29.3|              1|         6.74|       0.0|\n",
      "|2020-01-01|       72.35|              1|         16.0|     12.05|\n",
      "|2020-01-01|       24.96|              1|         5.06|      4.16|\n",
      "|2020-01-01|        26.8|              1|         6.81|       0.0|\n",
      "|2020-01-01|        12.3|              1|         1.24|       1.0|\n",
      "|2020-01-01|       13.56|              1|         1.19|      2.26|\n",
      "|2020-01-01|         8.8|              1|          0.5|       0.0|\n",
      "|2020-01-01|       41.15|              2|          8.9|      6.85|\n",
      "|2020-01-01|       20.76|              1|         2.65|      3.46|\n",
      "|2020-01-01|         5.8|              1|         0.59|       0.0|\n",
      "|2020-01-01|         9.8|              1|          1.1|       0.0|\n",
      "|2020-01-01|        14.8|              0|          2.9|       0.0|\n",
      "|2020-01-01|        8.75|              1|          0.4|      1.45|\n",
      "|2020-01-01|         8.3|              1|         0.97|       0.0|\n",
      "|2020-01-01|       38.16|              1|         8.25|      6.36|\n",
      "|2020-01-01|       21.19|              1|         2.79|      4.89|\n",
      "|2020-01-01|        19.8|              1|         3.69|       0.0|\n",
      "|2020-01-01|        14.8|              2|         2.44|       2.0|\n",
      "|2020-01-01|         9.8|              1|          1.0|       0.0|\n",
      "|2020-01-01|       10.38|              1|         1.05|      1.58|\n",
      "|2020-01-01|        9.96|              1|         0.58|      1.66|\n",
      "|2020-01-01|       26.45|              2|         4.83|       3.2|\n",
      "|2020-01-01|       27.35|              1|          5.3|      4.55|\n",
      "|2020-01-01|         7.8|              1|         0.11|       0.0|\n",
      "|2020-01-01|       12.88|              1|         1.21|      2.58|\n",
      "|2020-01-01|        10.3|              3|         0.15|       0.0|\n",
      "|2020-01-01|       100.8|              1|          0.0|      80.0|\n",
      "|2020-01-01|       17.76|              4|         2.82|      2.96|\n",
      "|2020-01-01|       71.27|              0|         17.2|     11.85|\n",
      "|2020-01-01|         9.8|              2|         0.63|       1.0|\n",
      "|2020-01-01|        0.31|              3|          0.0|       0.0|\n",
      "|2020-01-01|        19.8|              2|         4.53|       0.0|\n",
      "|2020-01-01|       11.75|              2|          0.7|      1.95|\n",
      "|2020-01-01|        11.3|              2|         0.84|       3.0|\n",
      "|2020-01-01|        16.3|              1|          3.6|       0.0|\n",
      "|2020-01-01|        8.76|              1|         0.38|      1.46|\n",
      "|2020-01-01|         7.8|              1|         0.46|       0.0|\n",
      "|2020-01-01|         9.8|              4|         1.16|       0.0|\n",
      "|2020-01-01|        36.3|              1|        11.26|       0.0|\n",
      "|2020-01-01|        12.3|              1|          1.2|       2.0|\n",
      "|2020-01-01|        12.8|              2|          3.1|       0.0|\n",
      "|2020-01-01|       18.95|              0|          3.1|      3.15|\n",
      "|2020-01-01|       10.56|              5|         0.43|      1.76|\n",
      "|2020-01-01|        23.8|              2|          5.8|       0.0|\n",
      "|2020-01-01|       11.16|              6|          1.3|      1.86|\n",
      "|2020-01-01|        16.3|              1|         2.89|       1.0|\n",
      "|2020-01-01|        17.3|              2|          2.8|       2.0|\n",
      "|2020-01-01|        13.8|              1|          1.6|       2.0|\n",
      "|2020-01-01|        20.3|              1|          4.5|       0.0|\n",
      "|2020-01-01|        12.0|              3|         1.41|       1.7|\n",
      "|2020-01-01|       19.55|              0|          3.1|      3.25|\n",
      "|2020-01-01|        17.8|              1|         3.59|       0.0|\n",
      "|2020-01-01|       32.76|              1|         7.62|      5.46|\n",
      "|2020-01-01|       39.96|              1|          8.8|      6.66|\n",
      "|2020-01-01|        20.8|              1|         3.34|       2.5|\n",
      "|2020-01-01|       72.96|              1|         0.08|     12.16|\n",
      "|2020-01-01|       23.16|              6|          4.7|      3.86|\n",
      "|2020-01-01|       17.76|              5|         1.96|      2.96|\n",
      "|2020-01-01|        11.3|              1|          1.5|       0.0|\n",
      "|2020-01-01|       38.75|              1|         10.2|      6.45|\n",
      "|2020-01-01|       32.25|              2|         6.21|      6.45|\n",
      "|2020-01-01|        12.3|              5|         1.94|       0.0|\n",
      "|2020-01-01|       11.62|              1|         0.92|      2.32|\n",
      "|2020-01-01|       22.56|              3|         4.22|      3.76|\n",
      "|2020-01-01|        30.8|              1|          6.7|       0.0|\n",
      "|2020-01-01|       14.16|              2|         1.79|      2.36|\n",
      "|2020-01-01|        14.3|              4|         1.32|       2.0|\n",
      "|2020-01-01|       33.96|              2|         8.71|      5.66|\n",
      "|2020-01-01|       12.96|              2|         1.31|      2.16|\n",
      "|2020-01-01|       11.62|              2|         0.72|      2.32|\n",
      "|2020-01-01|       37.55|              4|          7.4|      6.25|\n",
      "|2020-01-01|        24.3|              0|          7.7|       0.0|\n",
      "|2020-01-01|       32.31|              1|         5.63|      5.06|\n",
      "|2020-01-01|        14.8|              1|          2.7|       0.0|\n",
      "|2020-01-01|       31.56|              4|         6.97|      5.26|\n",
      "|2020-01-01|        14.8|              2|         1.48|       3.0|\n",
      "|2020-01-01|         3.8|              1|          0.0|       0.0|\n",
      "|2020-01-01|         9.3|              1|         1.07|       0.0|\n",
      "|2020-01-01|       14.76|              4|         2.22|      2.46|\n",
      "|2020-01-01|         9.8|              2|         1.18|       0.0|\n",
      "|2020-01-01|        14.8|              1|         2.92|       2.5|\n",
      "|2020-01-01|       30.36|              1|         6.11|      5.06|\n",
      "|2020-01-01|        29.3|              1|          5.7|       4.0|\n",
      "|2020-01-01|        31.8|              1|          8.5|       0.0|\n",
      "|2020-01-01|        12.3|              2|         1.81|       1.0|\n",
      "|2020-01-01|       11.15|              2|          0.7|      1.85|\n",
      "|2020-01-01|        7.56|              1|         0.64|      1.26|\n",
      "|2020-01-01|       12.96|              1|         1.38|      2.16|\n",
      "|2020-01-01|       32.76|              6|         6.23|      5.46|\n",
      "|2020-01-01|       14.12|              1|         1.37|      2.82|\n",
      "|2020-01-01|        10.8|              1|          1.2|       1.0|\n",
      "|2020-01-01|        54.8|              1|         5.37|       7.0|\n",
      "|2020-01-01|        28.3|              1|         7.51|       0.0|\n",
      "|2020-01-01|        29.3|              1|         5.83|       2.0|\n",
      "|2020-01-01|        10.8|              1|          1.2|       0.0|\n",
      "|2020-01-01|        19.8|              1|          4.8|       0.0|\n",
      "|2020-01-01|       11.76|              5|         1.13|      1.96|\n",
      "|2020-01-01|         8.8|              6|         0.99|       0.0|\n",
      "|2020-01-01|         7.8|              1|          1.3|       0.0|\n",
      "|2020-01-01|        18.8|              2|          4.1|       0.0|\n",
      "|2020-01-01|       12.35|              0|          1.2|      2.05|\n",
      "|2020-01-01|       47.42|              2|         10.8|       0.0|\n",
      "|2020-01-01|         7.8|              1|         1.35|       0.0|\n",
      "|2020-01-01|         9.3|              2|          1.3|       0.0|\n",
      "|2020-01-01|       21.84|              1|         3.35|      5.04|\n",
      "|2020-01-01|       10.55|              1|          0.7|      1.75|\n",
      "|2020-01-01|        26.8|              1|         7.37|       0.0|\n",
      "|2020-01-01|        10.3|              3|         0.98|       1.0|\n",
      "|2020-01-01|       25.55|              1|          5.4|      4.25|\n",
      "|2020-01-01|        14.3|              3|          2.0|       1.0|\n",
      "|2020-01-01|         5.3|              1|         0.56|       0.0|\n",
      "|2020-01-01|       61.42|              2|        17.67|       0.0|\n",
      "|2020-01-01|        18.5|              1|          2.9|       3.7|\n",
      "|2020-01-01|       61.42|              0|         20.0|       0.0|\n",
      "|2020-01-01|        10.8|              1|         1.69|       0.0|\n",
      "|2020-01-01|        10.8|              1|         2.04|       0.0|\n",
      "|2020-01-01|        19.8|              6|         5.05|       0.0|\n",
      "|2020-01-01|        10.3|              2|         1.29|       0.0|\n",
      "|2020-01-01|        14.3|              1|         2.84|       0.0|\n",
      "|2020-01-01|        20.8|              1|         6.24|       0.0|\n",
      "|2020-01-01|        26.8|              1|          6.5|       0.0|\n",
      "|2020-01-01|         9.3|              1|         1.22|       0.0|\n",
      "|2020-01-01|        18.8|              1|         3.66|       2.5|\n",
      "|2020-01-01|        24.3|              1|          6.1|       0.0|\n",
      "|2020-01-01|         7.8|              1|          0.5|       0.0|\n",
      "|2020-01-01|       38.09|              4|        10.89|       0.0|\n",
      "|2020-01-01|        34.8|              1|        11.13|       0.0|\n",
      "|2020-01-01|       33.36|              1|         6.82|      5.56|\n",
      "+----------+------------+---------------+-------------+----------+\n",
      "only showing top 300 rows\n",
      "\n"
     ]
    }
   ],
   "source": [
    "# создание датафрейма без сторнированных операций\n",
    "sql = \"\"\"\n",
    "select without_storno.date, without_storno.Total_amount, without_storno.passenger_count, without_storno.trip_distance,\n",
    "       without_storno.tip_amount\n",
    "from\n",
    "        (select distinct day_trips.date, day_trips.Total_amount, \n",
    "               case \n",
    "                   when tpep_pickup_datetime = storno_start_date  and tpep_dropoff_datetime = storno_end_date then 1\n",
    "                   ELSE 0\n",
    "               end as storno_flag,\n",
    "               passenger_count, trip_distance, tip_amount, tpep_pickup_datetime,\n",
    "               tpep_dropoff_datetime, storno_start_date, storno_end_date            \n",
    "               from\n",
    "                   (select date(tpep_pickup_datetime) as date, Total_amount, passenger_count, tpep_pickup_datetime,\n",
    "                   tpep_dropoff_datetime, storno_start_date, storno_end_date, trip_distance, tip_amount\n",
    "                   from storno\n",
    "                   order by date) as day_trips\n",
    "        ) as without_storno\n",
    "where storno_flag = 0        \n",
    "\"\"\"\n",
    "without_storno = spark.sql(sql)\n",
    "without_storno.createOrReplaceTempView('date')\n",
    "without_storno.show(300);"
   ]
  },
  {
   "cell_type": "code",
   "execution_count": 286,
   "id": "eefcb27a",
   "metadata": {},
   "outputs": [
    {
     "name": "stdout",
     "output_type": "stream",
     "text": [
      "+----------+------------+---------------+-------------+----------+\n",
      "|      date|Total_amount|passenger_count|trip_distance|tip_amount|\n",
      "+----------+------------+---------------+-------------+----------+\n",
      "|2020-01-01|       10.55|              1|          0.5|      1.75|\n",
      "|2020-01-01|        11.8|              1|          1.2|       0.0|\n",
      "|2020-01-01|         7.8|              1|          0.4|       0.0|\n",
      "|2020-01-01|       15.38|              1|         1.23|      3.08|\n",
      "|2020-01-01|       31.56|              1|         6.53|      5.26|\n",
      "|2020-01-01|       14.16|              2|         1.28|      2.36|\n",
      "|2020-01-01|        23.3|              1|          4.0|       0.0|\n",
      "|2020-01-01|         6.3|              1|         0.01|       0.0|\n",
      "|2020-01-01|        13.8|              4|         1.35|       2.0|\n",
      "|2020-01-01|         7.3|              1|         0.28|       0.0|\n",
      "+----------+------------+---------------+-------------+----------+\n",
      "only showing top 10 rows\n",
      "\n"
     ]
    }
   ],
   "source": [
    "without_storno.show(10)"
   ]
  },
  {
   "cell_type": "code",
   "execution_count": 287,
   "id": "8b55b396",
   "metadata": {},
   "outputs": [],
   "source": [
    "without_storno.createOrReplaceTempView(\"without_storno\")"
   ]
  },
  {
   "cell_type": "code",
   "execution_count": 288,
   "id": "baff4d6c",
   "metadata": {},
   "outputs": [
    {
     "name": "stdout",
     "output_type": "stream",
     "text": [
      "+--------+--------------------+---------------------+---------------+-------------+----------+------------------+------------+------------+------------+-----------+-----+-------+----------+------------+---------------------+------------+--------------------+\n",
      "|VendorID|tpep_pickup_datetime|tpep_dropoff_datetime|passenger_count|trip_distance|RatecodeID|store_and_fwd_flag|PULocationID|DOLocationID|payment_type|fare_amount|extra|mta_tax|tip_amount|tolls_amount|improvement_surcharge|total_amount|congestion_surcharge|\n",
      "+--------+--------------------+---------------------+---------------+-------------+----------+------------------+------------+------------+------------+-----------+-----+-------+----------+------------+---------------------+------------+--------------------+\n",
      "|       2| 2020-01-02 17:43:57|  2020-01-02 17:49:48|              1|        -0.88|         5|                 N|           7|         193|           1|        8.2|  0.0|    0.5|       1.8|         0.0|                  0.3|       12.75|                 0.0|\n",
      "|       2| 2020-01-02 17:50:27|  2020-01-02 17:54:55|              1|        -0.88|         5|                 N|         193|         193|           1|        7.2|  0.0|    0.5|       1.6|         0.0|                  0.3|       11.55|                 0.0|\n",
      "|       2| 2020-01-02 18:12:24|  2020-01-02 18:15:48|              1|        -0.71|         5|                 N|         193|         193|           1|        7.2|  0.0|    0.5|       1.0|         0.0|                  0.3|       10.95|                 0.0|\n",
      "|       2| 2020-01-05 15:36:50|  2020-01-05 16:07:07|              1|        -9.29|         5|                 N|         225|         233|           2|      21.41|  0.0|    0.5|       0.0|       12.24|                  0.3|       34.45|                 0.0|\n",
      "|       2| 2020-01-06 10:43:08|  2020-01-06 10:49:59|              1|        -1.79|         5|                 N|         145|         193|           1|        9.2|  0.0|    0.5|       2.0|         0.0|                  0.3|       13.95|                 0.0|\n",
      "+--------+--------------------+---------------------+---------------+-------------+----------+------------------+------------+------------+------------+-----------+-----+-------+----------+------------+---------------------+------------+--------------------+\n",
      "\n"
     ]
    }
   ],
   "source": [
    "# проверка данных, имеющих отрицательное значение пройденной дистанции ('trip_amount') \n",
    "sql = \"\"\"\n",
    "select * from taxi_poesdki\n",
    "where trip_distance < 0 \n",
    "limit 5\n",
    "\"\"\"\n",
    "proverka = spark.sql(sql)\n",
    "proverka.createOrReplaceTempView('date')\n",
    "proverka.show(5);  "
   ]
  },
  {
   "cell_type": "markdown",
   "id": "35242f98",
   "metadata": {},
   "source": [
    "####  Природа отрицательго значения пройденного расстояния ('trip_distance') при положительной стоимости поездки ('total_amount') требует дополнительного пояснения. Вероятно бралось время за простой машины.\n",
    "####  Не будем учитывать такие поездки при дальнейшем анализе"
   ]
  },
  {
   "cell_type": "code",
   "execution_count": 289,
   "id": "78843773",
   "metadata": {},
   "outputs": [
    {
     "name": "stdout",
     "output_type": "stream",
     "text": [
      "+--------+--------------------+---------------------+---------------+-------------+----------+------------------+------------+------------+------------+-----------+-----+-------+----------+------------+---------------------+------------+--------------------+\n",
      "|VendorID|tpep_pickup_datetime|tpep_dropoff_datetime|passenger_count|trip_distance|RatecodeID|store_and_fwd_flag|PULocationID|DOLocationID|payment_type|fare_amount|extra|mta_tax|tip_amount|tolls_amount|improvement_surcharge|total_amount|congestion_surcharge|\n",
      "+--------+--------------------+---------------------+---------------+-------------+----------+------------------+------------+------------+------------+-----------+-----+-------+----------+------------+---------------------+------------+--------------------+\n",
      "|       2| 2020-01-01 01:08:14|  2020-01-01 01:10:14|              2|         0.24|         1|                 N|          42|          42|           4|       -3.5| -0.5|   -0.5|      -0.8|         0.0|                 -0.3|        -5.6|                 0.0|\n",
      "|       2| 2020-01-01 12:49:36|  2020-01-01 12:49:59|              1|          0.0|         1|                 N|         193|         193|           3|       -2.5|  0.0|   -0.5|     -0.66|         0.0|                 -0.3|       -3.96|                 0.0|\n",
      "|       2| 2020-01-01 18:51:47|  2020-01-01 18:52:04|              1|          0.0|         1|                 N|         264|         264|           3|       -2.5| -1.0|   -0.5|     -0.86|         0.0|                 -0.3|       -5.16|                 0.0|\n",
      "|       2| 2020-01-01 18:54:09|  2020-01-01 18:54:20|              1|          0.0|         1|                 N|         264|         264|           3|       -2.5| -1.0|   -0.5|     -0.08|         0.0|                 -0.3|       -4.38|                 0.0|\n",
      "|       2| 2020-01-02 08:23:29|  2020-01-02 08:32:22|              1|         1.73|         1|                 N|         138|         138|           3|       -8.0|  0.0|   -0.5|      -7.0|         0.0|                 -0.3|       -15.8|                 0.0|\n",
      "+--------+--------------------+---------------------+---------------+-------------+----------+------------------+------------+------------+------------+-----------+-----+-------+----------+------------+---------------------+------------+--------------------+\n",
      "\n"
     ]
    }
   ],
   "source": [
    "# проверка данных, имеющих отрицательное значение чаевых ('tip_amount') \n",
    "sql = \"\"\"\n",
    "select * from taxi_poesdki\n",
    "where tip_amount < 0 \n",
    "limit 5\n",
    "\"\"\"\n",
    "proverka = spark.sql(sql)\n",
    "proverka.createOrReplaceTempView('date')\n",
    "proverka.show(5);  "
   ]
  },
  {
   "cell_type": "code",
   "execution_count": 290,
   "id": "7b1b1116",
   "metadata": {},
   "outputs": [
    {
     "name": "stdout",
     "output_type": "stream",
     "text": [
      "+--------+--------------------+---------------------+---------------+-------------+----------+------------------+------------+------------+------------+-----------+-----+-------+----------+------------+---------------------+------------+--------------------+\n",
      "|VendorID|tpep_pickup_datetime|tpep_dropoff_datetime|passenger_count|trip_distance|RatecodeID|store_and_fwd_flag|PULocationID|DOLocationID|payment_type|fare_amount|extra|mta_tax|tip_amount|tolls_amount|improvement_surcharge|total_amount|congestion_surcharge|\n",
      "+--------+--------------------+---------------------+---------------+-------------+----------+------------------+------------+------------+------------+-----------+-----+-------+----------+------------+---------------------+------------+--------------------+\n",
      "|       2| 2020-01-01 01:08:14|  2020-01-01 01:10:14|              2|         0.24|         1|                 N|          42|          42|           4|       -3.5| -0.5|   -0.5|      -0.8|         0.0|                 -0.3|        -5.6|                 0.0|\n",
      "|       2| 2020-01-01 01:08:14|  2020-01-01 01:10:14|              2|         0.24|         1|                 N|          42|          42|           1|        3.5|  0.5|    0.5|       0.8|         0.0|                  0.3|         5.6|                 0.0|\n",
      "|       2| 2020-01-01 12:49:36|  2020-01-01 12:49:59|              1|          0.0|         1|                 N|         193|         193|           3|       -2.5|  0.0|   -0.5|     -0.66|         0.0|                 -0.3|       -3.96|                 0.0|\n",
      "|       2| 2020-01-01 12:49:36|  2020-01-01 12:49:59|              1|          0.0|         1|                 N|         193|         193|           1|        2.5|  0.0|    0.5|      0.66|         0.0|                  0.3|        3.96|                 0.0|\n",
      "+--------+--------------------+---------------------+---------------+-------------+----------+------------------+------------+------------+------------+-----------+-----+-------+----------+------------+---------------------+------------+--------------------+\n",
      "\n"
     ]
    }
   ],
   "source": [
    "sql = \"\"\"\n",
    "select * from taxi_poesdki\n",
    "where tpep_pickup_datetime in ('2020-01-01 01:08:14', '2020-01-01 12:49:36')\n",
    "AND trip_distance in (0.24, 0.0)  \n",
    "limit 5\n",
    "\"\"\"\n",
    "proverka2 = spark.sql(sql)\n",
    "proverka2.createOrReplaceTempView('date')\n",
    "proverka2.show(5); "
   ]
  },
  {
   "cell_type": "markdown",
   "id": "6a18e4af",
   "metadata": {},
   "source": [
    "#### Можно увидеть, что операции с отрицательными чаевыми также были сторнированы.  Сторнированные операции не будут учитываться при анализе"
   ]
  },
  {
   "cell_type": "code",
   "execution_count": 291,
   "id": "035d3cb7",
   "metadata": {},
   "outputs": [
    {
     "name": "stdout",
     "output_type": "stream",
     "text": [
      "+----------+---------------+------------+-------------+-------------+------------------+--------------------+--------------------+------------------+------------------+------------------+------------------+------------------+------------------+-----------------------+-----------------------+\n",
      "|      date|percentage_zero|pecentage_1p|percentage_2p|percentage_3p|percentage_4p_plus|max_amount_perc_zero|min_amount_perc_zero|max_amount_perc_1p|min_amount_perc_1p|max_amount_perc_2p|min_amount_perc_2p|max_amount_perc_3p|min_amount_perc_3p|max_amount_perc_4p_plus|min_amount_perc_4p_plus|\n",
      "+----------+---------------+------------+-------------+-------------+------------------+--------------------+--------------------+------------------+------------------+------------------+------------------+------------------+------------------+-----------------------+-----------------------+\n",
      "|2008-12-31|            0.0|        80.0|          0.0|         10.0|              10.0|                 0.0|                 0.0|              73.7|               7.3|               0.0|               0.0|              7.25|              7.25|                   55.3|                   55.3|\n",
      "|2009-01-01|            0.0|        79.0|          5.0|          5.0|              11.0|                 0.0|                 0.0|              74.8|               3.3|              31.3|              31.3|              13.8|              13.8|                  61.42|                    9.3|\n",
      "|2019-12-31|            0.0|        58.0|         15.0|          5.0|              22.0|                 0.0|                 0.0|             71.62|               5.8|              41.8|               5.8|             34.42|             10.56|      81.46000000000001|     23.400000000000002|\n",
      "|2020-01-01|            2.0|        63.0|         20.0|          6.0|               9.0|              145.55|                 0.3|             465.3|               0.0|            281.42|               0.3|            433.04|              0.31|                 729.08|                  78.32|\n",
      "|2020-01-02|            2.0|        69.0|         16.0|          5.0|               9.0|              162.42|                 0.3|            390.96|               0.0|            210.65|               0.0|            215.54|               0.3|      958.6400000000001|     11.399999999999999|\n",
      "+----------+---------------+------------+-------------+-------------+------------------+--------------------+--------------------+------------------+------------------+------------------+------------------+------------------+------------------+-----------------------+-----------------------+\n",
      "only showing top 5 rows\n",
      "\n"
     ]
    }
   ],
   "source": [
    "# Рассчитаем процент поездок для каждого дня по количеству человек в машине.\n",
    "# Также определим самую дешевую и дорогую поездку для каждой группы\n",
    "sql = \"\"\"\n",
    "select distinct percent_count.date,\n",
    "sum(case when percent_count.passenger_count = 0 then percent_count.percent_per_passenger else 0 end) as percentage_zero,\n",
    "sum(case when percent_count.passenger_count = 1 then percent_count.percent_per_passenger else 0 end) as pecentage_1p,\n",
    "sum(case when percent_count.passenger_count = 2 then percent_count.percent_per_passenger else 0 end) as percentage_2p,\n",
    "sum(case when percent_count.passenger_count = 3 then percent_count.percent_per_passenger else 0 end) as percentage_3p,\n",
    "sum(case when percent_count.passenger_count > 3 then percent_count.percent_per_passenger else 0 end) as percentage_4p_plus,\n",
    "sum(case when percent_count.passenger_count = 0 then percent_count.max_Total_amount else 0 end) as max_amount_perc_zero,\n",
    "sum(case when percent_count.passenger_count = 0 then percent_count.min_Total_amount else 0 end) as min_amount_perc_zero,\n",
    "sum(case when percent_count.passenger_count = 1 then percent_count.max_Total_amount else 0 end) as max_amount_perc_1p,\n",
    "sum(case when percent_count.passenger_count = 1 then percent_count.min_Total_amount else 0 end) as min_amount_perc_1p,\n",
    "sum(case when percent_count.passenger_count = 2 then percent_count.max_Total_amount else 0 end) as max_amount_perc_2p,\n",
    "sum(case when percent_count.passenger_count = 2 then percent_count.min_Total_amount else 0 end) as min_amount_perc_2p,\n",
    "sum(case when percent_count.passenger_count = 3 then percent_count.max_Total_amount else 0 end) as max_amount_perc_3p,\n",
    "sum(case when percent_count.passenger_count = 3 then percent_count.min_Total_amount else 0 end) as min_amount_perc_3p,\n",
    "sum(case when percent_count.passenger_count > 3 then percent_count.max_Total_amount else 0 end) as max_amount_perc_4p_plus,\n",
    "sum(case when percent_count.passenger_count > 3 then percent_count.min_Total_amount else 0 end) as min_amount_perc_4p_plus\n",
    "from\n",
    "    (select distinct date, passenger_count,\n",
    "    round((count(passenger_count) over (partition by date, passenger_count))*100/(count(date) over (partition by date)),0) as percent_per_passenger,\n",
    "    max(Total_amount) over (partition by date, passenger_count) as max_Total_amount,\n",
    "    min(Total_amount) over (partition by date, passenger_count) as min_Total_amount\n",
    "    from without_storno\n",
    "    where trip_distance > 0\n",
    "    ) as percent_count\n",
    "group by percent_count.date\n",
    "order by percent_count.date\n",
    "      \n",
    "        \n",
    "\"\"\"\n",
    "itog1 = spark.sql(sql)\n",
    "itog1.createOrReplaceTempView('date')\n",
    "itog1.show(5);"
   ]
  },
  {
   "cell_type": "code",
   "execution_count": 292,
   "id": "d61b8a71",
   "metadata": {},
   "outputs": [
    {
     "name": "stdout",
     "output_type": "stream",
     "text": [
      "root\n",
      " |-- date: date (nullable = true)\n",
      " |-- percentage_zero: double (nullable = true)\n",
      " |-- pecentage_1p: double (nullable = true)\n",
      " |-- percentage_2p: double (nullable = true)\n",
      " |-- percentage_3p: double (nullable = true)\n",
      " |-- percentage_4p_plus: double (nullable = true)\n",
      " |-- max_amount_perc_zero: double (nullable = true)\n",
      " |-- min_amount_perc_zero: double (nullable = true)\n",
      " |-- max_amount_perc_1p: double (nullable = true)\n",
      " |-- min_amount_perc_1p: double (nullable = true)\n",
      " |-- max_amount_perc_2p: double (nullable = true)\n",
      " |-- min_amount_perc_2p: double (nullable = true)\n",
      " |-- max_amount_perc_3p: double (nullable = true)\n",
      " |-- min_amount_perc_3p: double (nullable = true)\n",
      " |-- max_amount_perc_4p_plus: double (nullable = true)\n",
      " |-- min_amount_perc_4p_plus: double (nullable = true)\n",
      "\n"
     ]
    }
   ],
   "source": [
    "itog1.printSchema()"
   ]
  },
  {
   "cell_type": "code",
   "execution_count": 293,
   "id": "b67f99f3",
   "metadata": {},
   "outputs": [
    {
     "data": {
      "text/html": [
       "<div>\n",
       "<style scoped>\n",
       "    .dataframe tbody tr th:only-of-type {\n",
       "        vertical-align: middle;\n",
       "    }\n",
       "\n",
       "    .dataframe tbody tr th {\n",
       "        vertical-align: top;\n",
       "    }\n",
       "\n",
       "    .dataframe thead th {\n",
       "        text-align: right;\n",
       "    }\n",
       "</style>\n",
       "<table border=\"1\" class=\"dataframe\">\n",
       "  <thead>\n",
       "    <tr style=\"text-align: right;\">\n",
       "      <th></th>\n",
       "      <th>date</th>\n",
       "      <th>percentage_zero</th>\n",
       "      <th>pecentage_1p</th>\n",
       "      <th>percentage_2p</th>\n",
       "      <th>percentage_3p</th>\n",
       "      <th>percentage_4p_plus</th>\n",
       "      <th>max_amount_perc_zero</th>\n",
       "      <th>min_amount_perc_zero</th>\n",
       "      <th>max_amount_perc_1p</th>\n",
       "      <th>min_amount_perc_1p</th>\n",
       "      <th>max_amount_perc_2p</th>\n",
       "      <th>min_amount_perc_2p</th>\n",
       "      <th>max_amount_perc_3p</th>\n",
       "      <th>min_amount_perc_3p</th>\n",
       "      <th>max_amount_perc_4p_plus</th>\n",
       "      <th>min_amount_perc_4p_plus</th>\n",
       "    </tr>\n",
       "  </thead>\n",
       "  <tbody>\n",
       "    <tr>\n",
       "      <th>0</th>\n",
       "      <td>2008-12-31</td>\n",
       "      <td>0.0</td>\n",
       "      <td>80.0</td>\n",
       "      <td>0.0</td>\n",
       "      <td>10.0</td>\n",
       "      <td>10.0</td>\n",
       "      <td>0.00</td>\n",
       "      <td>0.0</td>\n",
       "      <td>73.70</td>\n",
       "      <td>7.3</td>\n",
       "      <td>0.00</td>\n",
       "      <td>0.0</td>\n",
       "      <td>7.25</td>\n",
       "      <td>7.25</td>\n",
       "      <td>55.30</td>\n",
       "      <td>55.30</td>\n",
       "    </tr>\n",
       "    <tr>\n",
       "      <th>1</th>\n",
       "      <td>2009-01-01</td>\n",
       "      <td>0.0</td>\n",
       "      <td>79.0</td>\n",
       "      <td>5.0</td>\n",
       "      <td>5.0</td>\n",
       "      <td>11.0</td>\n",
       "      <td>0.00</td>\n",
       "      <td>0.0</td>\n",
       "      <td>74.80</td>\n",
       "      <td>3.3</td>\n",
       "      <td>31.30</td>\n",
       "      <td>31.3</td>\n",
       "      <td>13.80</td>\n",
       "      <td>13.80</td>\n",
       "      <td>61.42</td>\n",
       "      <td>9.30</td>\n",
       "    </tr>\n",
       "    <tr>\n",
       "      <th>2</th>\n",
       "      <td>2019-12-31</td>\n",
       "      <td>0.0</td>\n",
       "      <td>58.0</td>\n",
       "      <td>15.0</td>\n",
       "      <td>5.0</td>\n",
       "      <td>22.0</td>\n",
       "      <td>0.00</td>\n",
       "      <td>0.0</td>\n",
       "      <td>71.62</td>\n",
       "      <td>5.8</td>\n",
       "      <td>41.80</td>\n",
       "      <td>5.8</td>\n",
       "      <td>34.42</td>\n",
       "      <td>10.56</td>\n",
       "      <td>81.46</td>\n",
       "      <td>23.40</td>\n",
       "    </tr>\n",
       "    <tr>\n",
       "      <th>3</th>\n",
       "      <td>2020-01-01</td>\n",
       "      <td>2.0</td>\n",
       "      <td>63.0</td>\n",
       "      <td>20.0</td>\n",
       "      <td>6.0</td>\n",
       "      <td>9.0</td>\n",
       "      <td>145.55</td>\n",
       "      <td>0.3</td>\n",
       "      <td>465.30</td>\n",
       "      <td>0.0</td>\n",
       "      <td>281.42</td>\n",
       "      <td>0.3</td>\n",
       "      <td>433.04</td>\n",
       "      <td>0.31</td>\n",
       "      <td>729.08</td>\n",
       "      <td>78.32</td>\n",
       "    </tr>\n",
       "    <tr>\n",
       "      <th>4</th>\n",
       "      <td>2020-01-02</td>\n",
       "      <td>2.0</td>\n",
       "      <td>69.0</td>\n",
       "      <td>16.0</td>\n",
       "      <td>5.0</td>\n",
       "      <td>9.0</td>\n",
       "      <td>162.42</td>\n",
       "      <td>0.3</td>\n",
       "      <td>390.96</td>\n",
       "      <td>0.0</td>\n",
       "      <td>210.65</td>\n",
       "      <td>0.0</td>\n",
       "      <td>215.54</td>\n",
       "      <td>0.30</td>\n",
       "      <td>958.64</td>\n",
       "      <td>11.40</td>\n",
       "    </tr>\n",
       "  </tbody>\n",
       "</table>\n",
       "</div>"
      ],
      "text/plain": [
       "         date  percentage_zero  pecentage_1p  percentage_2p  percentage_3p  \\\n",
       "0  2008-12-31              0.0          80.0            0.0           10.0   \n",
       "1  2009-01-01              0.0          79.0            5.0            5.0   \n",
       "2  2019-12-31              0.0          58.0           15.0            5.0   \n",
       "3  2020-01-01              2.0          63.0           20.0            6.0   \n",
       "4  2020-01-02              2.0          69.0           16.0            5.0   \n",
       "\n",
       "   percentage_4p_plus  max_amount_perc_zero  min_amount_perc_zero  \\\n",
       "0                10.0                  0.00                   0.0   \n",
       "1                11.0                  0.00                   0.0   \n",
       "2                22.0                  0.00                   0.0   \n",
       "3                 9.0                145.55                   0.3   \n",
       "4                 9.0                162.42                   0.3   \n",
       "\n",
       "   max_amount_perc_1p  min_amount_perc_1p  max_amount_perc_2p  \\\n",
       "0               73.70                 7.3                0.00   \n",
       "1               74.80                 3.3               31.30   \n",
       "2               71.62                 5.8               41.80   \n",
       "3              465.30                 0.0              281.42   \n",
       "4              390.96                 0.0              210.65   \n",
       "\n",
       "   min_amount_perc_2p  max_amount_perc_3p  min_amount_perc_3p  \\\n",
       "0                 0.0                7.25                7.25   \n",
       "1                31.3               13.80               13.80   \n",
       "2                 5.8               34.42               10.56   \n",
       "3                 0.3              433.04                0.31   \n",
       "4                 0.0              215.54                0.30   \n",
       "\n",
       "   max_amount_perc_4p_plus  min_amount_perc_4p_plus  \n",
       "0                    55.30                    55.30  \n",
       "1                    61.42                     9.30  \n",
       "2                    81.46                    23.40  \n",
       "3                   729.08                    78.32  \n",
       "4                   958.64                    11.40  "
      ]
     },
     "execution_count": 293,
     "metadata": {},
     "output_type": "execute_result"
    }
   ],
   "source": [
    "# Запись полученного результата в файл\n",
    "itog1_pandas = itog1.toPandas()\n",
    "itog1_pandas.head(5)"
   ]
  },
  {
   "cell_type": "code",
   "execution_count": 294,
   "id": "4ed7da59",
   "metadata": {},
   "outputs": [],
   "source": [
    "itog1_pandas['date']= pd.to_datetime(itog1_pandas['date'])"
   ]
  },
  {
   "cell_type": "code",
   "execution_count": 295,
   "id": "6bb2d7e0",
   "metadata": {},
   "outputs": [
    {
     "name": "stdout",
     "output_type": "stream",
     "text": [
      "<class 'pandas.core.frame.DataFrame'>\n",
      "RangeIndex: 49 entries, 0 to 48\n",
      "Data columns (total 16 columns):\n",
      " #   Column                   Non-Null Count  Dtype         \n",
      "---  ------                   --------------  -----         \n",
      " 0   date                     49 non-null     datetime64[ns]\n",
      " 1   percentage_zero          49 non-null     float64       \n",
      " 2   pecentage_1p             49 non-null     float64       \n",
      " 3   percentage_2p            49 non-null     float64       \n",
      " 4   percentage_3p            49 non-null     float64       \n",
      " 5   percentage_4p_plus       49 non-null     float64       \n",
      " 6   max_amount_perc_zero     49 non-null     float64       \n",
      " 7   min_amount_perc_zero     49 non-null     float64       \n",
      " 8   max_amount_perc_1p       49 non-null     float64       \n",
      " 9   min_amount_perc_1p       49 non-null     float64       \n",
      " 10  max_amount_perc_2p       49 non-null     float64       \n",
      " 11  min_amount_perc_2p       49 non-null     float64       \n",
      " 12  max_amount_perc_3p       49 non-null     float64       \n",
      " 13  min_amount_perc_3p       49 non-null     float64       \n",
      " 14  max_amount_perc_4p_plus  49 non-null     float64       \n",
      " 15  min_amount_perc_4p_plus  49 non-null     float64       \n",
      "dtypes: datetime64[ns](1), float64(15)\n",
      "memory usage: 6.2 KB\n"
     ]
    }
   ],
   "source": [
    "itog1_pandas.info()"
   ]
  },
  {
   "cell_type": "code",
   "execution_count": 296,
   "id": "e18024f1",
   "metadata": {},
   "outputs": [],
   "source": [
    "itog1_pandas.to_parquet('result.parquet', index = None)"
   ]
  },
  {
   "cell_type": "markdown",
   "id": "bab2d77e",
   "metadata": {},
   "source": [
    "# Aнализ размера чаевых в зависимости от пройденного расстояния и количества пассажиров."
   ]
  },
  {
   "cell_type": "markdown",
   "id": "5eecc0fa",
   "metadata": {},
   "source": [
    "## Импорт необходимых библиотек"
   ]
  },
  {
   "cell_type": "code",
   "execution_count": 297,
   "id": "29595c2a",
   "metadata": {},
   "outputs": [],
   "source": [
    "import matplotlib.pyplot as plt\n",
    "import seaborn as sns\n",
    "import plotly.express as px"
   ]
  },
  {
   "cell_type": "markdown",
   "id": "24ac0149",
   "metadata": {},
   "source": [
    "## Знакомство с данными"
   ]
  },
  {
   "cell_type": "code",
   "execution_count": 298,
   "id": "6cd554a2",
   "metadata": {},
   "outputs": [],
   "source": [
    "without_storno.createOrReplaceTempView(\"without_storno\")"
   ]
  },
  {
   "cell_type": "code",
   "execution_count": 299,
   "id": "f155947a",
   "metadata": {},
   "outputs": [
    {
     "name": "stdout",
     "output_type": "stream",
     "text": [
      "+---------------+-------------+----------+\n",
      "|passenger_count|trip_distance|tip_amount|\n",
      "+---------------+-------------+----------+\n",
      "|              1|          0.5|      1.75|\n",
      "|              1|          1.2|       0.0|\n",
      "|              1|          0.4|       0.0|\n",
      "|              1|         1.23|      3.08|\n",
      "|              1|         6.53|      5.26|\n",
      "+---------------+-------------+----------+\n",
      "only showing top 5 rows\n",
      "\n"
     ]
    }
   ],
   "source": [
    "# Выберем интересующие столбцы. Рассматриваем только поездки с положительным значением пройденной дистанции\n",
    "sql = \"\"\"\n",
    "select passenger_count, trip_distance, tip_amount\n",
    "from without_storno\n",
    "where trip_distance > 0\n",
    "\n",
    "\"\"\"\n",
    "itog3 = spark.sql(sql)\n",
    "itog3.createOrReplaceTempView('date')\n",
    "itog3.show(5);"
   ]
  },
  {
   "cell_type": "code",
   "execution_count": 300,
   "id": "714c5446",
   "metadata": {},
   "outputs": [],
   "source": [
    " #pandas_df = some_df.toPandas()\n",
    "itog3_pandas = itog3.toPandas()"
   ]
  },
  {
   "cell_type": "code",
   "execution_count": 301,
   "id": "0c3e4584",
   "metadata": {},
   "outputs": [
    {
     "data": {
      "image/png": "[encoded data removed]",
      "text/plain": [
       "<Figure size 2000x1000 with 1 Axes>"
      ]
     },
     "metadata": {},
     "output_type": "display_data"
    }
   ],
   "source": [
    "# найдем выбросы в целевой переменной tip_amount.\n",
    "# построим диаграмму рассеивания\n",
    "tip_amount = itog3_pandas['tip_amount']\n",
    "trip_distance = itog3_pandas['trip_distance']\n",
    "fig, ax = plt.subplots(figsize=(20, 10))\n",
    "sns.scatterplot(x= trip_distance.index, y=tip_amount, ax=ax, color='red')\n",
    "ax.set_xlabel('trip_distance')\n",
    "ax.set_ylabel('tip_amount');"
   ]
  },
  {
   "cell_type": "markdown",
   "id": "e3e70214",
   "metadata": {},
   "source": [
    "#### По диаграмме можно увидеть несколько чаевых в размере более 400 и даже 1000 долларов, что может исказить результат.\n",
    "#### Целесообразно удалить выбросы из анализа. Определим критерии для отнесения к выбросам.\n"
   ]
  },
  {
   "cell_type": "markdown",
   "id": "fed5f606",
   "metadata": {},
   "source": [
    "## Удаление выбросов из анализа"
   ]
  },
  {
   "cell_type": "code",
   "execution_count": 302,
   "id": "ec4557b1",
   "metadata": {},
   "outputs": [
    {
     "name": "stdout",
     "output_type": "stream",
     "text": [
      "+-------+------------------+------------------+------------------+\n",
      "|summary|   passenger_count|     trip_distance|        tip_amount|\n",
      "+-------+------------------+------------------+------------------+\n",
      "|  count|           6237842|           6237842|           6237842|\n",
      "|   mean| 1.518594571648336|2.8841035826171986| 2.215437925487673|\n",
      "| stddev|1.1551507163378572|  3.76572201939935|2.6958399925609804|\n",
      "|    min|                 0|              0.01|               0.0|\n",
      "|    25%|                 1|              0.99|               0.0|\n",
      "|    50%|                 1|               1.6|              1.96|\n",
      "|    75%|                 2|               2.9|              2.86|\n",
      "|    max|                 9|            262.88|            1100.0|\n",
      "+-------+------------------+------------------+------------------+\n",
      "\n"
     ]
    }
   ],
   "source": [
    "# Ознакомимся с описательной статистикой по интересующим столбцам после удаления сторнированных поездок и поездок \n",
    "# c отрицательным значением пройденного расстояния\n",
    "itog3.select('passenger_count', 'trip_distance', 'tip_amount').summary().show()"
   ]
  },
  {
   "cell_type": "code",
   "execution_count": 303,
   "id": "95b05dbf",
   "metadata": {},
   "outputs": [
    {
     "name": "stderr",
     "output_type": "stream",
     "text": [
      "C:\\Users\\shiva\\anaconda3\\lib\\site-packages\\seaborn\\distributions.py:2619: FutureWarning: `distplot` is a deprecated function and will be removed in a future version. Please adapt your code to use either `displot` (a figure-level function with similar flexibility) or `histplot` (an axes-level function for histograms).\n",
      "  warnings.warn(msg, FutureWarning)\n"
     ]
    },
    {
     "data": {
      "text/plain": [
       "<AxesSubplot:xlabel='tip_amount', ylabel='Density'>"
      ]
     },
     "execution_count": 303,
     "metadata": {},
     "output_type": "execute_result"
    },
    {
     "data": {
      "image/png": "[encoded data removed]",
      "text/plain": [
       "<Figure size 640x480 with 1 Axes>"
      ]
     },
     "metadata": {},
     "output_type": "display_data"
    }
   ],
   "source": [
    "# Построим гистограмму распределения чаевых \n",
    "sns.distplot(itog3_pandas.tip_amount)"
   ]
  },
  {
   "cell_type": "code",
   "execution_count": 304,
   "id": "5aafe243",
   "metadata": {},
   "outputs": [
    {
     "name": "stderr",
     "output_type": "stream",
     "text": [
      "C:\\Users\\shiva\\anaconda3\\lib\\site-packages\\seaborn\\distributions.py:2619: FutureWarning: `distplot` is a deprecated function and will be removed in a future version. Please adapt your code to use either `displot` (a figure-level function with similar flexibility) or `histplot` (an axes-level function for histograms).\n",
      "  warnings.warn(msg, FutureWarning)\n"
     ]
    },
    {
     "data": {
      "text/plain": [
       "<AxesSubplot:xlabel='trip_distance', ylabel='Density'>"
      ]
     },
     "execution_count": 304,
     "metadata": {},
     "output_type": "execute_result"
    },
    {
     "data": {
      "image/png": "[encoded data removed]",
      "text/plain": [
       "<Figure size 640x480 with 1 Axes>"
      ]
     },
     "metadata": {},
     "output_type": "display_data"
    }
   ],
   "source": [
    "# Построим гистограмму распределения пройденного расстояния\n",
    "sns.distplot(itog3_pandas.trip_distance)"
   ]
  },
  {
   "cell_type": "code",
   "execution_count": 305,
   "id": "ca87f90a",
   "metadata": {},
   "outputs": [
    {
     "data": {
      "text/plain": [
       "<AxesSubplot:xlabel='passenger_count', ylabel='count'>"
      ]
     },
     "execution_count": 305,
     "metadata": {},
     "output_type": "execute_result"
    },
    {
     "data": {
      "image/png": "[encoded data removed]",
      "text/plain": [
       "<Figure size 640x480 with 1 Axes>"
      ]
     },
     "metadata": {},
     "output_type": "display_data"
    }
   ],
   "source": [
    "# Посмотрим распределение поездок по количеству пассажиров\n",
    "sns.countplot(x='passenger_count', data = itog3_pandas)"
   ]
  },
  {
   "cell_type": "code",
   "execution_count": 306,
   "id": "acb2b18f",
   "metadata": {},
   "outputs": [
    {
     "data": {
      "text/plain": [
       "passenger_count    1.518595\n",
       "trip_distance      2.884104\n",
       "tip_amount         2.215438\n",
       "dtype: float64"
      ]
     },
     "execution_count": 306,
     "metadata": {},
     "output_type": "execute_result"
    }
   ],
   "source": [
    "# среднее значение\n",
    "mean = itog3_pandas.mean()\n",
    "mean"
   ]
  },
  {
   "cell_type": "code",
   "execution_count": 307,
   "id": "f94b31b8",
   "metadata": {},
   "outputs": [
    {
     "data": {
      "text/plain": [
       "passenger_count    1.155151\n",
       "trip_distance      3.765722\n",
       "tip_amount         2.695840\n",
       "dtype: float64"
      ]
     },
     "execution_count": 307,
     "metadata": {},
     "output_type": "execute_result"
    }
   ],
   "source": [
    "# стандартное отклонение\n",
    "res_std = itog3_pandas.std()\n",
    "res_std"
   ]
  },
  {
   "cell_type": "code",
   "execution_count": 308,
   "id": "1bca79d8",
   "metadata": {},
   "outputs": [],
   "source": [
    "# Проведем анализ среднего значения размера чаевых и пройденного расстояния в зависимости от количества пассажиров"
   ]
  },
  {
   "cell_type": "code",
   "execution_count": 309,
   "id": "17df6a4b",
   "metadata": {},
   "outputs": [
    {
     "name": "stdout",
     "output_type": "stream",
     "text": [
      "среднее значение чаевых при количестве пассажиров:\n",
      "  0      2.1145427633925307\n",
      "  1      2.2230614144100223\n",
      "  2      2.226619563031335\n",
      "  3      2.1546945423389943\n",
      "  4      2.041207700034469\n",
      "  5      2.2179510442700043\n",
      "  6      2.232658016893608\n"
     ]
    }
   ],
   "source": [
    "print('среднее значение чаевых при количестве пассажиров:')\n",
    "print('  0     ', itog3_pandas.loc[itog3_pandas['passenger_count'] == 0, 'tip_amount'].mean())\n",
    "print('  1     ', itog3_pandas.loc[itog3_pandas['passenger_count'] == 1, 'tip_amount'].mean())\n",
    "print('  2     ', itog3_pandas.loc[itog3_pandas['passenger_count'] == 2, 'tip_amount'].mean())\n",
    "print('  3     ', itog3_pandas.loc[itog3_pandas['passenger_count'] == 3, 'tip_amount'].mean())\n",
    "print('  4     ', itog3_pandas.loc[itog3_pandas['passenger_count'] == 4, 'tip_amount'].mean())\n",
    "print('  5     ', itog3_pandas.loc[itog3_pandas['passenger_count'] == 5, 'tip_amount'].mean())\n",
    "print('  6     ', itog3_pandas.loc[itog3_pandas['passenger_count'] == 6, 'tip_amount'].mean())"
   ]
  },
  {
   "cell_type": "code",
   "execution_count": 310,
   "id": "f0ccc493",
   "metadata": {},
   "outputs": [
    {
     "name": "stdout",
     "output_type": "stream",
     "text": [
      "стандартное отклонение по значению чаевых при количестве пассажиров:\n",
      "  0      2.7919190138892898\n",
      "  1      2.682140144385686\n",
      "  2      2.7223664411336608\n",
      "  3      2.8188213937502136\n",
      "  4      2.7333823787793285\n",
      "  5      2.5252880144058603\n",
      "  6      2.878486263110676\n"
     ]
    }
   ],
   "source": [
    "print('стандартное отклонение по значению чаевых при количестве пассажиров:')\n",
    "print('  0     ', itog3_pandas.loc[itog3_pandas['passenger_count'] == 0, 'tip_amount'].std())\n",
    "print('  1     ', itog3_pandas.loc[itog3_pandas['passenger_count'] == 1, 'tip_amount'].std())\n",
    "print('  2     ', itog3_pandas.loc[itog3_pandas['passenger_count'] == 2, 'tip_amount'].std())\n",
    "print('  3     ', itog3_pandas.loc[itog3_pandas['passenger_count'] == 3, 'tip_amount'].std())\n",
    "print('  4     ', itog3_pandas.loc[itog3_pandas['passenger_count'] == 4, 'tip_amount'].std())\n",
    "print('  5     ', itog3_pandas.loc[itog3_pandas['passenger_count'] == 5, 'tip_amount'].std())\n",
    "print('  6     ', itog3_pandas.loc[itog3_pandas['passenger_count'] == 6, 'tip_amount'].std())"
   ]
  },
  {
   "cell_type": "code",
   "execution_count": 311,
   "id": "edef759e",
   "metadata": {},
   "outputs": [
    {
     "name": "stdout",
     "output_type": "stream",
     "text": [
      "среднее значение пройденного расстояния при количестве пассажиров:\n",
      "  0      2.7410945859191016\n",
      "  1      2.849678779860026\n",
      "  2      3.028525408562261\n",
      "  3      2.952701024928112\n",
      "  4      3.0178512852602677\n",
      "  5      2.8692468761156635\n",
      "  6      2.9212056160109494\n"
     ]
    }
   ],
   "source": [
    "print('среднее значение пройденного расстояния при количестве пассажиров:')\n",
    "print('  0     ', itog3_pandas.loc[itog3_pandas['passenger_count'] == 0, 'trip_distance'].mean())\n",
    "print('  1     ', itog3_pandas.loc[itog3_pandas['passenger_count'] == 1, 'trip_distance'].mean())\n",
    "print('  2     ', itog3_pandas.loc[itog3_pandas['passenger_count'] == 2, 'trip_distance'].mean())\n",
    "print('  3     ', itog3_pandas.loc[itog3_pandas['passenger_count'] == 3, 'trip_distance'].mean())\n",
    "print('  4     ', itog3_pandas.loc[itog3_pandas['passenger_count'] == 4, 'trip_distance'].mean())\n",
    "print('  5     ', itog3_pandas.loc[itog3_pandas['passenger_count'] == 5, 'trip_distance'].mean())\n",
    "print('  6     ', itog3_pandas.loc[itog3_pandas['passenger_count'] == 6, 'trip_distance'].mean())"
   ]
  },
  {
   "cell_type": "code",
   "execution_count": 312,
   "id": "82fa34b6",
   "metadata": {},
   "outputs": [
    {
     "name": "stdout",
     "output_type": "stream",
     "text": [
      "стандартное отклонение по значению пройденного расстояния при количестве пассажиров:\n",
      "  0      3.6574598317704177\n",
      "  1      3.711668743648119\n",
      "  2      3.980098045863596\n",
      "  3      3.872168814538838\n",
      "  4      4.1230729423482835\n",
      "  5      3.628943197230073\n",
      "  6      3.760699169881414\n"
     ]
    }
   ],
   "source": [
    "print('стандартное отклонение по значению пройденного расстояния при количестве пассажиров:')\n",
    "print('  0     ', itog3_pandas.loc[itog3_pandas['passenger_count'] == 0, 'trip_distance'].std())\n",
    "print('  1     ', itog3_pandas.loc[itog3_pandas['passenger_count'] == 1, 'trip_distance'].std())\n",
    "print('  2     ', itog3_pandas.loc[itog3_pandas['passenger_count'] == 2, 'trip_distance'].std())\n",
    "print('  3     ', itog3_pandas.loc[itog3_pandas['passenger_count'] == 3, 'trip_distance'].std())\n",
    "print('  4     ', itog3_pandas.loc[itog3_pandas['passenger_count'] == 4, 'trip_distance'].std())\n",
    "print('  5     ', itog3_pandas.loc[itog3_pandas['passenger_count'] == 5, 'trip_distance'].std())\n",
    "print('  6     ', itog3_pandas.loc[itog3_pandas['passenger_count'] == 6, 'trip_distance'].std())"
   ]
  },
  {
   "cell_type": "markdown",
   "id": "63334d21",
   "metadata": {},
   "source": [
    "#### Можно сделать вывод, что среднее значение чаевых и пройденного расстояния в зависимости от количества пассажиров  незначительно отличается. Экспертно устанавливаем максимальное значение чаевых 15 долларов, пройденной дистанции 20 км и максимальное количество пассажиров - 6"
   ]
  },
  {
   "cell_type": "code",
   "execution_count": 313,
   "id": "02b3d9a9",
   "metadata": {},
   "outputs": [],
   "source": [
    "low_limit_tip = 0\n",
    "above_limit_tip = 15\n",
    "low_limit_trip = 0.01\n",
    "above_limit_trip = 20\n",
    "above_limit_pass = 6\n",
    "\n",
    "itog3_filtered1 = itog3_pandas[(itog3_pandas.tip_amount >= low_limit_tip) & (itog3_pandas.tip_amount <= above_limit_tip)]\n",
    "itog3_filtered2 = itog3_filtered1[(itog3_filtered1.trip_distance >= low_limit_trip) & (itog3_filtered1.trip_distance <= above_limit_trip)]\n",
    "itog3_filtered = itog3_filtered2[(itog3_filtered2.passenger_count <= above_limit_pass)]"
   ]
  },
  {
   "cell_type": "code",
   "execution_count": 314,
   "id": "ce1c1ff5",
   "metadata": {},
   "outputs": [
    {
     "name": "stdout",
     "output_type": "stream",
     "text": [
      "Данные для анализа:\n",
      "1) pазмер чаевых, долл:\n",
      "   - минимальное значение: 0\n",
      "   - максимальное значение: 15\n",
      "2) пройденное расстояние, км.:\n",
      "   - минимальное значение: 0.01\n",
      "   - максимальное значение: 20\n",
      "3) максимальное количество пассажиров для анализа, чел.: 6\n"
     ]
    }
   ],
   "source": [
    "print('Данные для анализа:')\n",
    "print('1) pазмер чаевых, долл:')\n",
    "print('   - минимальное значение:', low_limit_tip)\n",
    "print('   - максимальное значение:', above_limit_tip)\n",
    "print('2) пройденное расстояние, км.:')\n",
    "print('   - минимальное значение:', low_limit_trip)\n",
    "print('   - максимальное значение:', above_limit_trip)\n",
    "print('3) максимальное количество пассажиров для анализа, чел.:', above_limit_pass)"
   ]
  },
  {
   "cell_type": "code",
   "execution_count": 315,
   "id": "ef1ba9ed",
   "metadata": {},
   "outputs": [
    {
     "data": {
      "text/plain": [
       "passenger_count    26204\n",
       "trip_distance      26204\n",
       "tip_amount         26204\n",
       "dtype: int64"
      ]
     },
     "execution_count": 315,
     "metadata": {},
     "output_type": "execute_result"
    }
   ],
   "source": [
    "outliers1 = itog3_pandas[(itog3_pandas.tip_amount > above_limit_tip)]\n",
    "outliers1.count()"
   ]
  },
  {
   "cell_type": "code",
   "execution_count": 316,
   "id": "dfb002c0",
   "metadata": {},
   "outputs": [],
   "source": [
    "outliers2 = itog3_filtered1[(itog3_filtered1.trip_distance > above_limit_trip)]"
   ]
  },
  {
   "cell_type": "code",
   "execution_count": 317,
   "id": "c406a092",
   "metadata": {},
   "outputs": [
    {
     "data": {
      "text/plain": [
       "passenger_count    34575\n",
       "trip_distance      34575\n",
       "tip_amount         34575\n",
       "dtype: int64"
      ]
     },
     "execution_count": 317,
     "metadata": {},
     "output_type": "execute_result"
    }
   ],
   "source": [
    "outliers2.count()"
   ]
  },
  {
   "cell_type": "code",
   "execution_count": 318,
   "id": "e5f40212",
   "metadata": {},
   "outputs": [
    {
     "data": {
      "text/plain": [
       "passenger_count    24\n",
       "trip_distance      24\n",
       "tip_amount         24\n",
       "dtype: int64"
      ]
     },
     "execution_count": 318,
     "metadata": {},
     "output_type": "execute_result"
    }
   ],
   "source": [
    "outliers3 = itog3_filtered2[(itog3_filtered2.passenger_count > above_limit_pass)]\n",
    "outliers3.count()"
   ]
  },
  {
   "cell_type": "code",
   "execution_count": 319,
   "id": "f6ba2966",
   "metadata": {},
   "outputs": [],
   "source": [
    "outliers = pd.concat([outliers1, outliers2, outliers3], ignore_index = True)"
   ]
  },
  {
   "cell_type": "code",
   "execution_count": 320,
   "id": "45cf410e",
   "metadata": {},
   "outputs": [
    {
     "data": {
      "text/html": [
       "<div>\n",
       "<style scoped>\n",
       "    .dataframe tbody tr th:only-of-type {\n",
       "        vertical-align: middle;\n",
       "    }\n",
       "\n",
       "    .dataframe tbody tr th {\n",
       "        vertical-align: top;\n",
       "    }\n",
       "\n",
       "    .dataframe thead th {\n",
       "        text-align: right;\n",
       "    }\n",
       "</style>\n",
       "<table border=\"1\" class=\"dataframe\">\n",
       "  <thead>\n",
       "    <tr style=\"text-align: right;\">\n",
       "      <th></th>\n",
       "      <th>passenger_count</th>\n",
       "      <th>trip_distance</th>\n",
       "      <th>tip_amount</th>\n",
       "    </tr>\n",
       "  </thead>\n",
       "  <tbody>\n",
       "    <tr>\n",
       "      <th>0</th>\n",
       "      <td>4</td>\n",
       "      <td>1.10</td>\n",
       "      <td>20.00</td>\n",
       "    </tr>\n",
       "    <tr>\n",
       "      <th>1</th>\n",
       "      <td>1</td>\n",
       "      <td>2.10</td>\n",
       "      <td>20.00</td>\n",
       "    </tr>\n",
       "    <tr>\n",
       "      <th>2</th>\n",
       "      <td>1</td>\n",
       "      <td>1.88</td>\n",
       "      <td>19.59</td>\n",
       "    </tr>\n",
       "    <tr>\n",
       "      <th>3</th>\n",
       "      <td>1</td>\n",
       "      <td>5.40</td>\n",
       "      <td>22.00</td>\n",
       "    </tr>\n",
       "    <tr>\n",
       "      <th>4</th>\n",
       "      <td>3</td>\n",
       "      <td>6.39</td>\n",
       "      <td>20.00</td>\n",
       "    </tr>\n",
       "    <tr>\n",
       "      <th>...</th>\n",
       "      <td>...</td>\n",
       "      <td>...</td>\n",
       "      <td>...</td>\n",
       "    </tr>\n",
       "    <tr>\n",
       "      <th>60798</th>\n",
       "      <td>9</td>\n",
       "      <td>9.10</td>\n",
       "      <td>7.35</td>\n",
       "    </tr>\n",
       "    <tr>\n",
       "      <th>60799</th>\n",
       "      <td>7</td>\n",
       "      <td>0.23</td>\n",
       "      <td>0.00</td>\n",
       "    </tr>\n",
       "    <tr>\n",
       "      <th>60800</th>\n",
       "      <td>8</td>\n",
       "      <td>13.03</td>\n",
       "      <td>8.00</td>\n",
       "    </tr>\n",
       "    <tr>\n",
       "      <th>60801</th>\n",
       "      <td>7</td>\n",
       "      <td>0.17</td>\n",
       "      <td>5.50</td>\n",
       "    </tr>\n",
       "    <tr>\n",
       "      <th>60802</th>\n",
       "      <td>7</td>\n",
       "      <td>0.58</td>\n",
       "      <td>10.00</td>\n",
       "    </tr>\n",
       "  </tbody>\n",
       "</table>\n",
       "<p>60803 rows × 3 columns</p>\n",
       "</div>"
      ],
      "text/plain": [
       "       passenger_count  trip_distance  tip_amount\n",
       "0                    4           1.10       20.00\n",
       "1                    1           2.10       20.00\n",
       "2                    1           1.88       19.59\n",
       "3                    1           5.40       22.00\n",
       "4                    3           6.39       20.00\n",
       "...                ...            ...         ...\n",
       "60798                9           9.10        7.35\n",
       "60799                7           0.23        0.00\n",
       "60800                8          13.03        8.00\n",
       "60801                7           0.17        5.50\n",
       "60802                7           0.58       10.00\n",
       "\n",
       "[60803 rows x 3 columns]"
      ]
     },
     "execution_count": 320,
     "metadata": {},
     "output_type": "execute_result"
    }
   ],
   "source": [
    "outliers"
   ]
  },
  {
   "cell_type": "code",
   "execution_count": 321,
   "id": "1d30b44f",
   "metadata": {},
   "outputs": [
    {
     "data": {
      "text/plain": [
       "0.9747441503006969"
      ]
     },
     "execution_count": 321,
     "metadata": {},
     "output_type": "execute_result"
    }
   ],
   "source": [
    "# Рассчитаем % удаленного датасета\n",
    "outliers['passenger_count'].count()*100/itog3_pandas['passenger_count'].count().round(2)"
   ]
  },
  {
   "cell_type": "markdown",
   "id": "b28e1ed7",
   "metadata": {},
   "source": [
    "#### Удалено ~ 1% значений."
   ]
  },
  {
   "cell_type": "markdown",
   "id": "3f5e2c2c",
   "metadata": {},
   "source": [
    "## Проверка удаленных значений"
   ]
  },
  {
   "cell_type": "code",
   "execution_count": 322,
   "id": "9c963651",
   "metadata": {},
   "outputs": [],
   "source": [
    "outliers_groups_sum = outliers.groupby(['passenger_count']).mean().round(2)"
   ]
  },
  {
   "cell_type": "code",
   "execution_count": 323,
   "id": "d9a94d63",
   "metadata": {},
   "outputs": [
    {
     "data": {
      "text/html": [
       "<div>\n",
       "<style scoped>\n",
       "    .dataframe tbody tr th:only-of-type {\n",
       "        vertical-align: middle;\n",
       "    }\n",
       "\n",
       "    .dataframe tbody tr th {\n",
       "        vertical-align: top;\n",
       "    }\n",
       "\n",
       "    .dataframe thead th {\n",
       "        text-align: right;\n",
       "    }\n",
       "</style>\n",
       "<table border=\"1\" class=\"dataframe\">\n",
       "  <thead>\n",
       "    <tr style=\"text-align: right;\">\n",
       "      <th></th>\n",
       "      <th>trip_distance</th>\n",
       "      <th>tip_amount</th>\n",
       "    </tr>\n",
       "    <tr>\n",
       "      <th>passenger_count</th>\n",
       "      <th></th>\n",
       "      <th></th>\n",
       "    </tr>\n",
       "  </thead>\n",
       "  <tbody>\n",
       "    <tr>\n",
       "      <th>0</th>\n",
       "      <td>20.40</td>\n",
       "      <td>13.19</td>\n",
       "    </tr>\n",
       "    <tr>\n",
       "      <th>1</th>\n",
       "      <td>20.73</td>\n",
       "      <td>12.55</td>\n",
       "    </tr>\n",
       "    <tr>\n",
       "      <th>2</th>\n",
       "      <td>20.40</td>\n",
       "      <td>11.97</td>\n",
       "    </tr>\n",
       "    <tr>\n",
       "      <th>3</th>\n",
       "      <td>20.78</td>\n",
       "      <td>12.75</td>\n",
       "    </tr>\n",
       "    <tr>\n",
       "      <th>4</th>\n",
       "      <td>21.71</td>\n",
       "      <td>12.03</td>\n",
       "    </tr>\n",
       "    <tr>\n",
       "      <th>5</th>\n",
       "      <td>20.34</td>\n",
       "      <td>12.34</td>\n",
       "    </tr>\n",
       "    <tr>\n",
       "      <th>6</th>\n",
       "      <td>20.25</td>\n",
       "      <td>12.96</td>\n",
       "    </tr>\n",
       "    <tr>\n",
       "      <th>7</th>\n",
       "      <td>6.12</td>\n",
       "      <td>7.08</td>\n",
       "    </tr>\n",
       "    <tr>\n",
       "      <th>8</th>\n",
       "      <td>7.19</td>\n",
       "      <td>6.83</td>\n",
       "    </tr>\n",
       "    <tr>\n",
       "      <th>9</th>\n",
       "      <td>7.87</td>\n",
       "      <td>10.28</td>\n",
       "    </tr>\n",
       "  </tbody>\n",
       "</table>\n",
       "</div>"
      ],
      "text/plain": [
       "                 trip_distance  tip_amount\n",
       "passenger_count                           \n",
       "0                        20.40       13.19\n",
       "1                        20.73       12.55\n",
       "2                        20.40       11.97\n",
       "3                        20.78       12.75\n",
       "4                        21.71       12.03\n",
       "5                        20.34       12.34\n",
       "6                        20.25       12.96\n",
       "7                         6.12        7.08\n",
       "8                         7.19        6.83\n",
       "9                         7.87       10.28"
      ]
     },
     "execution_count": 323,
     "metadata": {},
     "output_type": "execute_result"
    }
   ],
   "source": [
    "outliers_groups_sum"
   ]
  },
  {
   "cell_type": "code",
   "execution_count": 324,
   "id": "0a3e387e",
   "metadata": {},
   "outputs": [
    {
     "data": {
      "text/html": [
       "<div>\n",
       "<style scoped>\n",
       "    .dataframe tbody tr th:only-of-type {\n",
       "        vertical-align: middle;\n",
       "    }\n",
       "\n",
       "    .dataframe tbody tr th {\n",
       "        vertical-align: top;\n",
       "    }\n",
       "\n",
       "    .dataframe thead th {\n",
       "        text-align: right;\n",
       "    }\n",
       "</style>\n",
       "<table border=\"1\" class=\"dataframe\">\n",
       "  <thead>\n",
       "    <tr style=\"text-align: right;\">\n",
       "      <th></th>\n",
       "      <th>trip_distance</th>\n",
       "      <th>tip_amount</th>\n",
       "    </tr>\n",
       "    <tr>\n",
       "      <th>passenger_count</th>\n",
       "      <th></th>\n",
       "      <th></th>\n",
       "    </tr>\n",
       "  </thead>\n",
       "  <tbody>\n",
       "    <tr>\n",
       "      <th>0</th>\n",
       "      <td>987</td>\n",
       "      <td>987</td>\n",
       "    </tr>\n",
       "    <tr>\n",
       "      <th>1</th>\n",
       "      <td>42112</td>\n",
       "      <td>42112</td>\n",
       "    </tr>\n",
       "    <tr>\n",
       "      <th>2</th>\n",
       "      <td>10495</td>\n",
       "      <td>10495</td>\n",
       "    </tr>\n",
       "    <tr>\n",
       "      <th>3</th>\n",
       "      <td>2617</td>\n",
       "      <td>2617</td>\n",
       "    </tr>\n",
       "    <tr>\n",
       "      <th>4</th>\n",
       "      <td>1335</td>\n",
       "      <td>1335</td>\n",
       "    </tr>\n",
       "    <tr>\n",
       "      <th>5</th>\n",
       "      <td>1973</td>\n",
       "      <td>1973</td>\n",
       "    </tr>\n",
       "    <tr>\n",
       "      <th>6</th>\n",
       "      <td>1252</td>\n",
       "      <td>1252</td>\n",
       "    </tr>\n",
       "    <tr>\n",
       "      <th>7</th>\n",
       "      <td>17</td>\n",
       "      <td>17</td>\n",
       "    </tr>\n",
       "    <tr>\n",
       "      <th>8</th>\n",
       "      <td>7</td>\n",
       "      <td>7</td>\n",
       "    </tr>\n",
       "    <tr>\n",
       "      <th>9</th>\n",
       "      <td>8</td>\n",
       "      <td>8</td>\n",
       "    </tr>\n",
       "  </tbody>\n",
       "</table>\n",
       "</div>"
      ],
      "text/plain": [
       "                 trip_distance  tip_amount\n",
       "passenger_count                           \n",
       "0                          987         987\n",
       "1                        42112       42112\n",
       "2                        10495       10495\n",
       "3                         2617        2617\n",
       "4                         1335        1335\n",
       "5                         1973        1973\n",
       "6                         1252        1252\n",
       "7                           17          17\n",
       "8                            7           7\n",
       "9                            8           8"
      ]
     },
     "execution_count": 324,
     "metadata": {},
     "output_type": "execute_result"
    }
   ],
   "source": [
    "outliers_groups_count = outliers.groupby(['passenger_count']).count().round(2)\n",
    "outliers_groups_count"
   ]
  },
  {
   "cell_type": "markdown",
   "id": "a9358520",
   "metadata": {},
   "source": [
    "#### Как видим размер чаевых в группах от 0 до 6 пассажиров отличается в пределах 10%, при этом учитывая, что удалено только 1% датасета, на результатах анализа это отразиться не должно."
   ]
  },
  {
   "cell_type": "markdown",
   "id": "7dcccf19",
   "metadata": {},
   "source": [
    "## Анализ зависимости размера чаевых в зависимости от количества пассажиров и пройденного расстояния на очищенных данных"
   ]
  },
  {
   "cell_type": "code",
   "execution_count": 325,
   "id": "c43f38c8",
   "metadata": {},
   "outputs": [
    {
     "data": {
      "text/html": [
       "<div>\n",
       "<style scoped>\n",
       "    .dataframe tbody tr th:only-of-type {\n",
       "        vertical-align: middle;\n",
       "    }\n",
       "\n",
       "    .dataframe tbody tr th {\n",
       "        vertical-align: top;\n",
       "    }\n",
       "\n",
       "    .dataframe thead th {\n",
       "        text-align: right;\n",
       "    }\n",
       "</style>\n",
       "<table border=\"1\" class=\"dataframe\">\n",
       "  <thead>\n",
       "    <tr style=\"text-align: right;\">\n",
       "      <th></th>\n",
       "      <th>passenger_count</th>\n",
       "      <th>trip_distance</th>\n",
       "      <th>tip_amount</th>\n",
       "    </tr>\n",
       "  </thead>\n",
       "  <tbody>\n",
       "    <tr>\n",
       "      <th>0</th>\n",
       "      <td>1</td>\n",
       "      <td>18.82</td>\n",
       "      <td>12.28</td>\n",
       "    </tr>\n",
       "    <tr>\n",
       "      <th>1</th>\n",
       "      <td>5</td>\n",
       "      <td>2.12</td>\n",
       "      <td>0.00</td>\n",
       "    </tr>\n",
       "    <tr>\n",
       "      <th>2</th>\n",
       "      <td>1</td>\n",
       "      <td>1.04</td>\n",
       "      <td>0.00</td>\n",
       "    </tr>\n",
       "    <tr>\n",
       "      <th>3</th>\n",
       "      <td>6</td>\n",
       "      <td>1.21</td>\n",
       "      <td>2.58</td>\n",
       "    </tr>\n",
       "    <tr>\n",
       "      <th>4</th>\n",
       "      <td>1</td>\n",
       "      <td>1.57</td>\n",
       "      <td>1.00</td>\n",
       "    </tr>\n",
       "    <tr>\n",
       "      <th>...</th>\n",
       "      <td>...</td>\n",
       "      <td>...</td>\n",
       "      <td>...</td>\n",
       "    </tr>\n",
       "    <tr>\n",
       "      <th>6237837</th>\n",
       "      <td>2</td>\n",
       "      <td>0.97</td>\n",
       "      <td>0.00</td>\n",
       "    </tr>\n",
       "    <tr>\n",
       "      <th>6237838</th>\n",
       "      <td>1</td>\n",
       "      <td>3.60</td>\n",
       "      <td>3.45</td>\n",
       "    </tr>\n",
       "    <tr>\n",
       "      <th>6237839</th>\n",
       "      <td>1</td>\n",
       "      <td>10.04</td>\n",
       "      <td>0.00</td>\n",
       "    </tr>\n",
       "    <tr>\n",
       "      <th>6237840</th>\n",
       "      <td>1</td>\n",
       "      <td>7.90</td>\n",
       "      <td>4.00</td>\n",
       "    </tr>\n",
       "    <tr>\n",
       "      <th>6237841</th>\n",
       "      <td>1</td>\n",
       "      <td>1.60</td>\n",
       "      <td>2.65</td>\n",
       "    </tr>\n",
       "  </tbody>\n",
       "</table>\n",
       "<p>6177039 rows × 3 columns</p>\n",
       "</div>"
      ],
      "text/plain": [
       "         passenger_count  trip_distance  tip_amount\n",
       "0                      1          18.82       12.28\n",
       "1                      5           2.12        0.00\n",
       "2                      1           1.04        0.00\n",
       "3                      6           1.21        2.58\n",
       "4                      1           1.57        1.00\n",
       "...                  ...            ...         ...\n",
       "6237837                2           0.97        0.00\n",
       "6237838                1           3.60        3.45\n",
       "6237839                1          10.04        0.00\n",
       "6237840                1           7.90        4.00\n",
       "6237841                1           1.60        2.65\n",
       "\n",
       "[6177039 rows x 3 columns]"
      ]
     },
     "execution_count": 325,
     "metadata": {},
     "output_type": "execute_result"
    }
   ],
   "source": [
    "# Рассмотрим очищенный датасет\n",
    "itog3_filtered"
   ]
  },
  {
   "cell_type": "code",
   "execution_count": 326,
   "id": "1ef0c688",
   "metadata": {},
   "outputs": [
    {
     "name": "stderr",
     "output_type": "stream",
     "text": [
      "C:\\Users\\shiva\\anaconda3\\lib\\site-packages\\seaborn\\distributions.py:2619: FutureWarning: `distplot` is a deprecated function and will be removed in a future version. Please adapt your code to use either `displot` (a figure-level function with similar flexibility) or `histplot` (an axes-level function for histograms).\n",
      "  warnings.warn(msg, FutureWarning)\n"
     ]
    },
    {
     "data": {
      "text/plain": [
       "<AxesSubplot:xlabel='tip_amount', ylabel='Density'>"
      ]
     },
     "execution_count": 326,
     "metadata": {},
     "output_type": "execute_result"
    },
    {
     "data": {
      "image/png": "[encoded data removed]",
      "text/plain": [
       "<Figure size 640x480 with 1 Axes>"
      ]
     },
     "metadata": {},
     "output_type": "display_data"
    }
   ],
   "source": [
    "# Построим гистограмму распределения чаевых после удаления выбросов\n",
    "sns.distplot(itog3_filtered.tip_amount)"
   ]
  },
  {
   "cell_type": "code",
   "execution_count": 327,
   "id": "db3fd0a2",
   "metadata": {},
   "outputs": [
    {
     "name": "stderr",
     "output_type": "stream",
     "text": [
      "C:\\Users\\shiva\\anaconda3\\lib\\site-packages\\seaborn\\distributions.py:2619: FutureWarning: `distplot` is a deprecated function and will be removed in a future version. Please adapt your code to use either `displot` (a figure-level function with similar flexibility) or `histplot` (an axes-level function for histograms).\n",
      "  warnings.warn(msg, FutureWarning)\n"
     ]
    },
    {
     "data": {
      "text/plain": [
       "<AxesSubplot:xlabel='trip_distance', ylabel='Density'>"
      ]
     },
     "execution_count": 327,
     "metadata": {},
     "output_type": "execute_result"
    },
    {
     "data": {
      "image/png": "[encoded data removed]",
      "text/plain": [
       "<Figure size 640x480 with 1 Axes>"
      ]
     },
     "metadata": {},
     "output_type": "display_data"
    }
   ],
   "source": [
    "# Построим гистограмму распределения пройденной дистанции после удаления выбросов\n",
    "sns.distplot(itog3_filtered.trip_distance)"
   ]
  },
  {
   "cell_type": "code",
   "execution_count": 328,
   "id": "8f212442",
   "metadata": {},
   "outputs": [
    {
     "data": {
      "text/plain": [
       "<AxesSubplot:xlabel='passenger_count', ylabel='count'>"
      ]
     },
     "execution_count": 328,
     "metadata": {},
     "output_type": "execute_result"
    },
    {
     "data": {
      "image/png": "[encoded data removed]",
      "text/plain": [
       "<Figure size 640x480 with 1 Axes>"
      ]
     },
     "metadata": {},
     "output_type": "display_data"
    }
   ],
   "source": [
    "# Анализируемые группы пассажиров от 0 до 6и человек.\n",
    "sns.countplot(x='passenger_count', data = itog3_filtered)"
   ]
  },
  {
   "cell_type": "code",
   "execution_count": 329,
   "id": "88da80c0",
   "metadata": {},
   "outputs": [
    {
     "data": {
      "text/html": [
       "<div>\n",
       "<style scoped>\n",
       "    .dataframe tbody tr th:only-of-type {\n",
       "        vertical-align: middle;\n",
       "    }\n",
       "\n",
       "    .dataframe tbody tr th {\n",
       "        vertical-align: top;\n",
       "    }\n",
       "\n",
       "    .dataframe thead th {\n",
       "        text-align: right;\n",
       "    }\n",
       "</style>\n",
       "<table border=\"1\" class=\"dataframe\">\n",
       "  <thead>\n",
       "    <tr style=\"text-align: right;\">\n",
       "      <th></th>\n",
       "      <th>passenger_count</th>\n",
       "      <th>trip_distance</th>\n",
       "      <th>tip_amount</th>\n",
       "    </tr>\n",
       "  </thead>\n",
       "  <tbody>\n",
       "    <tr>\n",
       "      <th>count</th>\n",
       "      <td>6177039.00</td>\n",
       "      <td>6177039.00</td>\n",
       "      <td>6177039.00</td>\n",
       "    </tr>\n",
       "    <tr>\n",
       "      <th>mean</th>\n",
       "      <td>1.52</td>\n",
       "      <td>2.71</td>\n",
       "      <td>2.11</td>\n",
       "    </tr>\n",
       "    <tr>\n",
       "      <th>std</th>\n",
       "      <td>1.16</td>\n",
       "      <td>3.26</td>\n",
       "      <td>2.20</td>\n",
       "    </tr>\n",
       "    <tr>\n",
       "      <th>min</th>\n",
       "      <td>0.00</td>\n",
       "      <td>0.01</td>\n",
       "      <td>0.00</td>\n",
       "    </tr>\n",
       "    <tr>\n",
       "      <th>25%</th>\n",
       "      <td>1.00</td>\n",
       "      <td>0.98</td>\n",
       "      <td>0.00</td>\n",
       "    </tr>\n",
       "    <tr>\n",
       "      <th>50%</th>\n",
       "      <td>1.00</td>\n",
       "      <td>1.60</td>\n",
       "      <td>1.96</td>\n",
       "    </tr>\n",
       "    <tr>\n",
       "      <th>75%</th>\n",
       "      <td>2.00</td>\n",
       "      <td>2.85</td>\n",
       "      <td>2.86</td>\n",
       "    </tr>\n",
       "    <tr>\n",
       "      <th>max</th>\n",
       "      <td>6.00</td>\n",
       "      <td>20.00</td>\n",
       "      <td>15.00</td>\n",
       "    </tr>\n",
       "  </tbody>\n",
       "</table>\n",
       "</div>"
      ],
      "text/plain": [
       "       passenger_count  trip_distance  tip_amount\n",
       "count       6177039.00     6177039.00  6177039.00\n",
       "mean              1.52           2.71        2.11\n",
       "std               1.16           3.26        2.20\n",
       "min               0.00           0.01        0.00\n",
       "25%               1.00           0.98        0.00\n",
       "50%               1.00           1.60        1.96\n",
       "75%               2.00           2.85        2.86\n",
       "max               6.00          20.00       15.00"
      ]
     },
     "execution_count": 329,
     "metadata": {},
     "output_type": "execute_result"
    }
   ],
   "source": [
    "itog3_filtered.describe().round(2)"
   ]
  },
  {
   "cell_type": "code",
   "execution_count": 330,
   "id": "4213615a",
   "metadata": {},
   "outputs": [],
   "source": [
    "# Рассмотрим средние значения пройденной дистанции и размера чаевых в каждой группе пассажиров"
   ]
  },
  {
   "cell_type": "code",
   "execution_count": 331,
   "id": "1c5b5385",
   "metadata": {},
   "outputs": [],
   "source": [
    "# df.groupby(['Animal']).mean()\n",
    "passenger_groups = itog3_filtered.groupby(['passenger_count']).mean().round(2)"
   ]
  },
  {
   "cell_type": "code",
   "execution_count": 332,
   "id": "19fe8014",
   "metadata": {},
   "outputs": [
    {
     "data": {
      "text/html": [
       "<div>\n",
       "<style scoped>\n",
       "    .dataframe tbody tr th:only-of-type {\n",
       "        vertical-align: middle;\n",
       "    }\n",
       "\n",
       "    .dataframe tbody tr th {\n",
       "        vertical-align: top;\n",
       "    }\n",
       "\n",
       "    .dataframe thead th {\n",
       "        text-align: right;\n",
       "    }\n",
       "</style>\n",
       "<table border=\"1\" class=\"dataframe\">\n",
       "  <thead>\n",
       "    <tr style=\"text-align: right;\">\n",
       "      <th></th>\n",
       "      <th>trip_distance</th>\n",
       "      <th>tip_amount</th>\n",
       "    </tr>\n",
       "    <tr>\n",
       "      <th>passenger_count</th>\n",
       "      <th></th>\n",
       "      <th></th>\n",
       "    </tr>\n",
       "  </thead>\n",
       "  <tbody>\n",
       "    <tr>\n",
       "      <th>0</th>\n",
       "      <td>2.58</td>\n",
       "      <td>2.02</td>\n",
       "    </tr>\n",
       "    <tr>\n",
       "      <th>1</th>\n",
       "      <td>2.68</td>\n",
       "      <td>2.12</td>\n",
       "    </tr>\n",
       "    <tr>\n",
       "      <th>2</th>\n",
       "      <td>2.83</td>\n",
       "      <td>2.12</td>\n",
       "    </tr>\n",
       "    <tr>\n",
       "      <th>3</th>\n",
       "      <td>2.76</td>\n",
       "      <td>2.04</td>\n",
       "    </tr>\n",
       "    <tr>\n",
       "      <th>4</th>\n",
       "      <td>2.81</td>\n",
       "      <td>1.93</td>\n",
       "    </tr>\n",
       "    <tr>\n",
       "      <th>5</th>\n",
       "      <td>2.71</td>\n",
       "      <td>2.13</td>\n",
       "    </tr>\n",
       "    <tr>\n",
       "      <th>6</th>\n",
       "      <td>2.75</td>\n",
       "      <td>2.13</td>\n",
       "    </tr>\n",
       "  </tbody>\n",
       "</table>\n",
       "</div>"
      ],
      "text/plain": [
       "                 trip_distance  tip_amount\n",
       "passenger_count                           \n",
       "0                         2.58        2.02\n",
       "1                         2.68        2.12\n",
       "2                         2.83        2.12\n",
       "3                         2.76        2.04\n",
       "4                         2.81        1.93\n",
       "5                         2.71        2.13\n",
       "6                         2.75        2.13"
      ]
     },
     "execution_count": 332,
     "metadata": {},
     "output_type": "execute_result"
    }
   ],
   "source": [
    "passenger_groups"
   ]
  },
  {
   "cell_type": "code",
   "execution_count": 333,
   "id": "819f6835",
   "metadata": {},
   "outputs": [
    {
     "name": "stderr",
     "output_type": "stream",
     "text": [
      "C:\\Users\\shiva\\AppData\\Local\\Temp\\ipykernel_1472\\3565834173.py:3: SettingWithCopyWarning: \n",
      "A value is trying to be set on a copy of a slice from a DataFrame.\n",
      "Try using .loc[row_indexer,col_indexer] = value instead\n",
      "\n",
      "See the caveats in the documentation: https://pandas.pydata.org/pandas-docs/stable/user_guide/indexing.html#returning-a-view-versus-a-copy\n",
      "  itog3_filtered['trip_bins'] = pd.cut(itog3_filtered['trip_distance'], bins=[0, 1, 2, 3, 4, 5, 6, 7, 8, 9, 10, 15, 20])\n"
     ]
    }
   ],
   "source": [
    "# Построим тепловую карту зависимости размера чаевых от количества пассажиров и пройденного расстояния\n",
    "# Разобьем пройденное расстояние на отрезки по 1 километру до 10 километров и далее по 5 километров.\n",
    "itog3_filtered['trip_bins'] = pd.cut(itog3_filtered['trip_distance'], bins=[0, 1, 2, 3, 4, 5, 6, 7, 8, 9, 10, 15, 20])\n"
   ]
  },
  {
   "cell_type": "code",
   "execution_count": 334,
   "id": "cf56b6e4",
   "metadata": {},
   "outputs": [
    {
     "name": "stdout",
     "output_type": "stream",
     "text": [
      "<class 'pandas.core.frame.DataFrame'>\n",
      "Int64Index: 6177039 entries, 0 to 6237841\n",
      "Data columns (total 4 columns):\n",
      " #   Column           Dtype   \n",
      "---  ------           -----   \n",
      " 0   passenger_count  int32   \n",
      " 1   trip_distance    float64 \n",
      " 2   tip_amount       float64 \n",
      " 3   trip_bins        category\n",
      "dtypes: category(1), float64(2), int32(1)\n",
      "memory usage: 170.8 MB\n"
     ]
    }
   ],
   "source": [
    "itog3_filtered.info()"
   ]
  },
  {
   "cell_type": "code",
   "execution_count": 335,
   "id": "78e623d1",
   "metadata": {},
   "outputs": [
    {
     "data": {
      "text/html": [
       "<div>\n",
       "<style scoped>\n",
       "    .dataframe tbody tr th:only-of-type {\n",
       "        vertical-align: middle;\n",
       "    }\n",
       "\n",
       "    .dataframe tbody tr th {\n",
       "        vertical-align: top;\n",
       "    }\n",
       "\n",
       "    .dataframe thead th {\n",
       "        text-align: right;\n",
       "    }\n",
       "</style>\n",
       "<table border=\"1\" class=\"dataframe\">\n",
       "  <thead>\n",
       "    <tr style=\"text-align: right;\">\n",
       "      <th></th>\n",
       "      <th>passenger_count</th>\n",
       "      <th>trip_distance</th>\n",
       "      <th>tip_amount</th>\n",
       "      <th>trip_bins</th>\n",
       "    </tr>\n",
       "  </thead>\n",
       "  <tbody>\n",
       "    <tr>\n",
       "      <th>0</th>\n",
       "      <td>1</td>\n",
       "      <td>18.82</td>\n",
       "      <td>12.28</td>\n",
       "      <td>(15, 20]</td>\n",
       "    </tr>\n",
       "    <tr>\n",
       "      <th>1</th>\n",
       "      <td>5</td>\n",
       "      <td>2.12</td>\n",
       "      <td>0.00</td>\n",
       "      <td>(2, 3]</td>\n",
       "    </tr>\n",
       "    <tr>\n",
       "      <th>2</th>\n",
       "      <td>1</td>\n",
       "      <td>1.04</td>\n",
       "      <td>0.00</td>\n",
       "      <td>(1, 2]</td>\n",
       "    </tr>\n",
       "    <tr>\n",
       "      <th>3</th>\n",
       "      <td>6</td>\n",
       "      <td>1.21</td>\n",
       "      <td>2.58</td>\n",
       "      <td>(1, 2]</td>\n",
       "    </tr>\n",
       "    <tr>\n",
       "      <th>4</th>\n",
       "      <td>1</td>\n",
       "      <td>1.57</td>\n",
       "      <td>1.00</td>\n",
       "      <td>(1, 2]</td>\n",
       "    </tr>\n",
       "    <tr>\n",
       "      <th>...</th>\n",
       "      <td>...</td>\n",
       "      <td>...</td>\n",
       "      <td>...</td>\n",
       "      <td>...</td>\n",
       "    </tr>\n",
       "    <tr>\n",
       "      <th>6237837</th>\n",
       "      <td>2</td>\n",
       "      <td>0.97</td>\n",
       "      <td>0.00</td>\n",
       "      <td>(0, 1]</td>\n",
       "    </tr>\n",
       "    <tr>\n",
       "      <th>6237838</th>\n",
       "      <td>1</td>\n",
       "      <td>3.60</td>\n",
       "      <td>3.45</td>\n",
       "      <td>(3, 4]</td>\n",
       "    </tr>\n",
       "    <tr>\n",
       "      <th>6237839</th>\n",
       "      <td>1</td>\n",
       "      <td>10.04</td>\n",
       "      <td>0.00</td>\n",
       "      <td>(10, 15]</td>\n",
       "    </tr>\n",
       "    <tr>\n",
       "      <th>6237840</th>\n",
       "      <td>1</td>\n",
       "      <td>7.90</td>\n",
       "      <td>4.00</td>\n",
       "      <td>(7, 8]</td>\n",
       "    </tr>\n",
       "    <tr>\n",
       "      <th>6237841</th>\n",
       "      <td>1</td>\n",
       "      <td>1.60</td>\n",
       "      <td>2.65</td>\n",
       "      <td>(1, 2]</td>\n",
       "    </tr>\n",
       "  </tbody>\n",
       "</table>\n",
       "<p>6177039 rows × 4 columns</p>\n",
       "</div>"
      ],
      "text/plain": [
       "         passenger_count  trip_distance  tip_amount trip_bins\n",
       "0                      1          18.82       12.28  (15, 20]\n",
       "1                      5           2.12        0.00    (2, 3]\n",
       "2                      1           1.04        0.00    (1, 2]\n",
       "3                      6           1.21        2.58    (1, 2]\n",
       "4                      1           1.57        1.00    (1, 2]\n",
       "...                  ...            ...         ...       ...\n",
       "6237837                2           0.97        0.00    (0, 1]\n",
       "6237838                1           3.60        3.45    (3, 4]\n",
       "6237839                1          10.04        0.00  (10, 15]\n",
       "6237840                1           7.90        4.00    (7, 8]\n",
       "6237841                1           1.60        2.65    (1, 2]\n",
       "\n",
       "[6177039 rows x 4 columns]"
      ]
     },
     "execution_count": 335,
     "metadata": {},
     "output_type": "execute_result"
    }
   ],
   "source": [
    "itog3_filtered"
   ]
  },
  {
   "cell_type": "code",
   "execution_count": 336,
   "id": "1aa441aa",
   "metadata": {},
   "outputs": [
    {
     "data": {
      "text/html": [
       "<div>\n",
       "<style scoped>\n",
       "    .dataframe tbody tr th:only-of-type {\n",
       "        vertical-align: middle;\n",
       "    }\n",
       "\n",
       "    .dataframe tbody tr th {\n",
       "        vertical-align: top;\n",
       "    }\n",
       "\n",
       "    .dataframe thead th {\n",
       "        text-align: right;\n",
       "    }\n",
       "</style>\n",
       "<table border=\"1\" class=\"dataframe\">\n",
       "  <thead>\n",
       "    <tr style=\"text-align: right;\">\n",
       "      <th>passenger_count</th>\n",
       "      <th>0</th>\n",
       "      <th>1</th>\n",
       "      <th>2</th>\n",
       "      <th>3</th>\n",
       "      <th>4</th>\n",
       "      <th>5</th>\n",
       "      <th>6</th>\n",
       "    </tr>\n",
       "    <tr>\n",
       "      <th>trip_bins</th>\n",
       "      <th></th>\n",
       "      <th></th>\n",
       "      <th></th>\n",
       "      <th></th>\n",
       "      <th></th>\n",
       "      <th></th>\n",
       "      <th></th>\n",
       "    </tr>\n",
       "  </thead>\n",
       "  <tbody>\n",
       "    <tr>\n",
       "      <th>(0, 1]</th>\n",
       "      <td>1.40</td>\n",
       "      <td>1.46</td>\n",
       "      <td>1.46</td>\n",
       "      <td>1.45</td>\n",
       "      <td>1.250</td>\n",
       "      <td>1.46</td>\n",
       "      <td>1.46</td>\n",
       "    </tr>\n",
       "    <tr>\n",
       "      <th>(1, 2]</th>\n",
       "      <td>2.00</td>\n",
       "      <td>2.00</td>\n",
       "      <td>2.00</td>\n",
       "      <td>2.00</td>\n",
       "      <td>1.950</td>\n",
       "      <td>2.00</td>\n",
       "      <td>2.00</td>\n",
       "    </tr>\n",
       "    <tr>\n",
       "      <th>(2, 3]</th>\n",
       "      <td>2.50</td>\n",
       "      <td>2.56</td>\n",
       "      <td>2.56</td>\n",
       "      <td>2.55</td>\n",
       "      <td>2.370</td>\n",
       "      <td>2.56</td>\n",
       "      <td>2.56</td>\n",
       "    </tr>\n",
       "    <tr>\n",
       "      <th>(3, 4]</th>\n",
       "      <td>3.00</td>\n",
       "      <td>3.06</td>\n",
       "      <td>3.06</td>\n",
       "      <td>3.00</td>\n",
       "      <td>2.740</td>\n",
       "      <td>3.16</td>\n",
       "      <td>3.06</td>\n",
       "    </tr>\n",
       "    <tr>\n",
       "      <th>(4, 5]</th>\n",
       "      <td>3.53</td>\n",
       "      <td>3.60</td>\n",
       "      <td>3.66</td>\n",
       "      <td>3.56</td>\n",
       "      <td>3.000</td>\n",
       "      <td>3.66</td>\n",
       "      <td>3.56</td>\n",
       "    </tr>\n",
       "    <tr>\n",
       "      <th>(5, 6]</th>\n",
       "      <td>3.95</td>\n",
       "      <td>4.00</td>\n",
       "      <td>4.00</td>\n",
       "      <td>3.66</td>\n",
       "      <td>3.000</td>\n",
       "      <td>4.06</td>\n",
       "      <td>3.96</td>\n",
       "    </tr>\n",
       "    <tr>\n",
       "      <th>(6, 7]</th>\n",
       "      <td>4.00</td>\n",
       "      <td>4.36</td>\n",
       "      <td>4.26</td>\n",
       "      <td>4.00</td>\n",
       "      <td>3.380</td>\n",
       "      <td>4.26</td>\n",
       "      <td>4.06</td>\n",
       "    </tr>\n",
       "    <tr>\n",
       "      <th>(7, 8]</th>\n",
       "      <td>4.94</td>\n",
       "      <td>5.00</td>\n",
       "      <td>5.00</td>\n",
       "      <td>4.56</td>\n",
       "      <td>4.955</td>\n",
       "      <td>5.00</td>\n",
       "      <td>5.00</td>\n",
       "    </tr>\n",
       "    <tr>\n",
       "      <th>(8, 9]</th>\n",
       "      <td>5.95</td>\n",
       "      <td>5.86</td>\n",
       "      <td>5.76</td>\n",
       "      <td>5.76</td>\n",
       "      <td>5.010</td>\n",
       "      <td>5.76</td>\n",
       "      <td>5.86</td>\n",
       "    </tr>\n",
       "    <tr>\n",
       "      <th>(9, 10]</th>\n",
       "      <td>6.45</td>\n",
       "      <td>6.46</td>\n",
       "      <td>6.26</td>\n",
       "      <td>6.16</td>\n",
       "      <td>6.160</td>\n",
       "      <td>6.46</td>\n",
       "      <td>6.36</td>\n",
       "    </tr>\n",
       "    <tr>\n",
       "      <th>(10, 15]</th>\n",
       "      <td>6.25</td>\n",
       "      <td>7.00</td>\n",
       "      <td>6.58</td>\n",
       "      <td>6.26</td>\n",
       "      <td>5.000</td>\n",
       "      <td>6.86</td>\n",
       "      <td>7.00</td>\n",
       "    </tr>\n",
       "    <tr>\n",
       "      <th>(15, 20]</th>\n",
       "      <td>8.85</td>\n",
       "      <td>10.00</td>\n",
       "      <td>9.21</td>\n",
       "      <td>8.86</td>\n",
       "      <td>6.000</td>\n",
       "      <td>10.00</td>\n",
       "      <td>10.00</td>\n",
       "    </tr>\n",
       "  </tbody>\n",
       "</table>\n",
       "</div>"
      ],
      "text/plain": [
       "passenger_count     0      1     2     3      4      5      6\n",
       "trip_bins                                                    \n",
       "(0, 1]           1.40   1.46  1.46  1.45  1.250   1.46   1.46\n",
       "(1, 2]           2.00   2.00  2.00  2.00  1.950   2.00   2.00\n",
       "(2, 3]           2.50   2.56  2.56  2.55  2.370   2.56   2.56\n",
       "(3, 4]           3.00   3.06  3.06  3.00  2.740   3.16   3.06\n",
       "(4, 5]           3.53   3.60  3.66  3.56  3.000   3.66   3.56\n",
       "(5, 6]           3.95   4.00  4.00  3.66  3.000   4.06   3.96\n",
       "(6, 7]           4.00   4.36  4.26  4.00  3.380   4.26   4.06\n",
       "(7, 8]           4.94   5.00  5.00  4.56  4.955   5.00   5.00\n",
       "(8, 9]           5.95   5.86  5.76  5.76  5.010   5.76   5.86\n",
       "(9, 10]          6.45   6.46  6.26  6.16  6.160   6.46   6.36\n",
       "(10, 15]         6.25   7.00  6.58  6.26  5.000   6.86   7.00\n",
       "(15, 20]         8.85  10.00  9.21  8.86  6.000  10.00  10.00"
      ]
     },
     "execution_count": 336,
     "metadata": {},
     "output_type": "execute_result"
    }
   ],
   "source": [
    "pivot = itog3_filtered.pivot_table(\n",
    "    values='tip_amount',\n",
    "    index='trip_bins',\n",
    "    columns='passenger_count',\n",
    "    fill_value=0,\n",
    "    aggfunc='median'\n",
    ")\n",
    "pivot"
   ]
  },
  {
   "cell_type": "code",
   "execution_count": 342,
   "id": "6ba44128",
   "metadata": {},
   "outputs": [
    {
     "data": {
      "image/png": "[encoded data removed]",
      "text/plain": [
       "<Figure size 2000x1000 with 2 Axes>"
      ]
     },
     "metadata": {},
     "output_type": "display_data"
    }
   ],
   "source": [
    "fig, axes = plt.subplots(figsize=(20, 10))\n",
    "pivot_time = sns.heatmap(data=pivot, cmap=\"coolwarm\", annot=True);\n",
    "pivot_time.set_title('Зависимость размера чаевых от пройденного расстояния и количества пассажиров', fontsize=16);"
   ]
  },
  {
   "cell_type": "markdown",
   "id": "0e96fd2f",
   "metadata": {},
   "source": [
    "## Результаты анализа"
   ]
  },
  {
   "attachments": {},
   "cell_type": "markdown",
   "id": "df1b8346",
   "metadata": {},
   "source": [
    "#### Исходя из проведенного анализа можно сделать вывод, что средний размер чаевых в зависимости от количества пассажиров меньше всего в группе из 4х пассажиров (1,93 доллара). В группах без пассажиров и с 3 пассажирами размер чаевых выше на ~ 5% и составляет 2,02 и 2,04 доллара соответственно. В остальных 4х группах среднее значение чаевых выше еще ~ на 5% и составляет 2,12-2,13 долларов.\n",
    "#### Средняя дистнация пройденная разными группами пассажиров различается также в пределах 10%, при этом минимальное значение у группы без пассажиров (2,58 км) и максимальное значение у групп с 4 и 2мя пассажирами (2,81 и 2,83 долларов соответственно).\n",
    "#### На основании тепловой карты можно увидеть, что с увеличением пройденного расстояния увеличивается размер чаевых при этом наибольший размер чаевых пассажиры склонных оставлять на дистанции 15-20 километров у всех груп пассажиров, кроме группы из 4х пассажиров. \n",
    "#### У всех групп пассажиров, наименьшее значение чаевых при поездках менее 1 км.\n",
    "#### У группы из 4х пассажиров размеры чаевых меньше на любой анализируемой пройденной дистанции, чем у любой из других групп. \n",
    "#### Наибольшее число чаевых можно ожидать от групп пассажиров, состоящих из 1, 5 и 6 пассажиров при поездке в диапазоне 15-20км.\n"
   ]
  },
  {
   "cell_type": "code",
   "execution_count": null,
   "id": "ddc21fc7",
   "metadata": {},
   "outputs": [],
   "source": []
  }
 ],
 "metadata": {
  "kernelspec": {
   "display_name": "Python 3 (ipykernel)",
   "language": "python",
   "name": "python3"
  },
  "language_info": {
   "codemirror_mode": {
    "name": "ipython",
    "version": 3
   },
   "file_extension": ".py",
   "mimetype": "text/x-python",
   "name": "python",
   "nbconvert_exporter": "python",
   "pygments_lexer": "ipython3",
   "version": "3.9.13"
  }
 },
 "nbformat": 4,
 "nbformat_minor": 5
}
